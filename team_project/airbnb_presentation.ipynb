{
 "cells": [
  {
   "cell_type": "code",
   "execution_count": 1,
   "metadata": {},
   "outputs": [
    {
     "name": "stdout",
     "output_type": "stream",
     "text": [
      "             precision    recall  f1-score   support\n",
      "\n",
      "     FEMALE       0.58      0.72      0.65     77524\n",
      "       MALE       0.57      0.42      0.48     68209\n",
      "\n",
      "avg / total       0.58      0.58      0.57    145733\n",
      "\n",
      "             precision    recall  f1-score   support\n",
      "\n",
      "         노년       0.67      0.00      0.01      9993\n",
      "       미성년자       0.90      0.65      0.75        68\n",
      "         장년       0.48      0.38      0.43     55518\n",
      "         중년       0.50      0.79      0.61     70900\n",
      "         청년       0.55      0.04      0.08     22202\n",
      "\n",
      "avg / total       0.51      0.49      0.43    158681\n",
      "\n"
     ]
    }
   ],
   "source": [
    "from airpy.agd import * # age+gender predict data\n",
    "\n",
    "check, pre_age = pre_age_set_data(train_users_2, test_users)\n",
    "pre_gen_mission_test, pre_gen_train_test, pre_gen_mission, pre_gen_train, \\\n",
    "            pre_gen_mission_test_drop, pre_gen_train_test_drop = pre_gen_predict_data(pre_age)\n",
    "\n",
    "model_gen_lgb = predict_gen_LightGBM(pre_gen_train_test_drop, pre_gen_train_test, pre_gen_train_test_drop)\n",
    "model_gen_lgb.to_csv(\"model_gen_lgb.csv\", index=False)\n",
    "pre_age_mission_test, pre_age_train_test, pre_age_mission, pre_age_train, \\\n",
    "            pre_age_mission_test_drop, pre_age_train_test_drop = pre_age_predict_data(pre_age)\n",
    "\n",
    "cats = pre_age_predict_data_cat(pre_age_train)\n",
    "model_age_lgb = predict_age_LightGBM(pre_age_train_test_drop, cats, pre_age_mission_test_drop)\n",
    "model_age_lgb.to_csv(\"model_age_lgb.csv\", index=False)"
   ]
  },
  {
   "cell_type": "code",
   "execution_count": 2,
   "metadata": {},
   "outputs": [],
   "source": [
    "from airpy.merge import * # sessions merged data\n",
    "\n",
    "merged_sessions = make_merged_sessions()\n",
    "merged_sessions = remove_word()\n",
    "merged_sessions = sessions_detail_add()"
   ]
  },
  {
   "cell_type": "code",
   "execution_count": null,
   "metadata": {},
   "outputs": [],
   "source": [
    "from airpy.data import * # classification data\n",
    "\n",
    "check, pre_age = pre_age_set_data(train_users_2, test_users)\n",
    "\n",
    "pre_age_mission_test, pre_age_train_test, pre_age_mission, pre_age_train, \\\n",
    "            pre_age_mission_test_drop, pre_age_train_test_drop = pre_age_predict_data(pre_age)\n",
    "\n",
    "cats = pre_age_predict_data_cat(pre_age_train)\n",
    "last_gen_add = add_gender(pre_age)\n",
    "add_hol = holiday(train_users_2, test_users)\n",
    "last_train_data, last_test_data, y_label, le = predict_age_add(pre_age_mission_test, pre_age_train_test, last_gen_add, add_hol)\n",
    "last_train_data_add, last_test_data_add = last_data_setting(last_train_data, last_test_data)"
   ]
  },
  {
   "cell_type": "code",
   "execution_count": null,
   "metadata": {},
   "outputs": [],
   "source": [
    "X, y, clf5  = pre_setting()"
   ]
  },
  {
   "cell_type": "code",
   "execution_count": null,
   "metadata": {},
   "outputs": [],
   "source": [
    "def submit_kaggle(df_train, df_test, model, user_id, target):\n",
    "    \n",
    "    le = LabelEncoder()\n",
    "\n",
    "    y_train = le.fit_transform(df_train[target])\n",
    "    X_train = df_train.drop([target, user_id], axis = 1)\n",
    "    \n",
    "    X_test_id = df_test[user_id]\n",
    "    X_test = df_test.drop([target, user_id], axis = 1)\n",
    "    \n",
    "\n",
    "    print(\"model fitting 시작\")\n",
    "    \n",
    "    model = model.fit(X_train, y_train)\n",
    "    \n",
    "    predic_proba = model.predict_proba(X_test)\n",
    "    \n",
    "   \n",
    "    print(\"model fitting 종료\")\n",
    "\n",
    "    df_submit = pd.DataFrame(columns=[\"id\", \"country\"])\n",
    "    ids = []\n",
    "    cts = []\n",
    "    for i in range(len(X_test_id)):\n",
    "        idx = X_test_id.iloc[i]\n",
    "        ids += [idx] * 5\n",
    "        cts += le.inverse_transform(np.argsort(predic_proba[i])[::-1])[:5].tolist()\n",
    "    df_submit[\"id\"] = ids\n",
    "    df_submit[\"country\"] = cts\n",
    "    df_submit.to_csv('submit_xg.csv', index = False)\n",
    "    print(\"csv file 생성\")\n",
    "#     !kaggle competitions submit -c airbnb-recruiting-new-user-bookings -f 'submit_xg.csv' -m \"Message\""
   ]
  },
  {
   "cell_type": "code",
   "execution_count": null,
   "metadata": {},
   "outputs": [],
   "source": [
    "submit_kaggle(X, y, clf5, \"id\", \"country_destination\")"
   ]
  },
  {
   "cell_type": "code",
   "execution_count": null,
   "metadata": {},
   "outputs": [],
   "source": []
  }
 ],
 "metadata": {
  "kernelspec": {
   "display_name": "Python 3",
   "language": "python",
   "name": "python3"
  },
  "language_info": {
   "codemirror_mode": {
    "name": "ipython",
    "version": 3
   },
   "file_extension": ".py",
   "mimetype": "text/x-python",
   "name": "python",
   "nbconvert_exporter": "python",
   "pygments_lexer": "ipython3",
   "version": "3.6.4"
  }
 },
 "nbformat": 4,
 "nbformat_minor": 2
}
