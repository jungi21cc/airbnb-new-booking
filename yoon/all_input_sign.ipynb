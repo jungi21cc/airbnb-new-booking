{
 "cells": [
  {
   "cell_type": "code",
   "execution_count": 1,
   "metadata": {},
   "outputs": [],
   "source": [
    "import pandas as pd\n",
    "import numpy as np\n",
    "import matplotlib.pyplot as plt\n",
    "from sklearn.preprocessing import LabelEncoder\n",
    "%matplotlib inline"
   ]
  },
  {
   "cell_type": "code",
   "execution_count": 2,
   "metadata": {},
   "outputs": [],
   "source": [
    "from lightgbm import LGBMClassifier"
   ]
  },
  {
   "cell_type": "code",
   "execution_count": 3,
   "metadata": {},
   "outputs": [],
   "source": [
    "import seaborn as sns\n",
    "sns.set()"
   ]
  },
  {
   "cell_type": "code",
   "execution_count": 4,
   "metadata": {},
   "outputs": [],
   "source": [
    "import warnings\n",
    "warnings.filterwarnings(\"ignore\")"
   ]
  },
  {
   "cell_type": "code",
   "execution_count": 71,
   "metadata": {},
   "outputs": [],
   "source": [
    "from sklearn.preprocessing import LabelEncoder\n",
    "from sklearn.model_selection import cross_val_score\n",
    "# train data 입력시 id, target 모두 넣어주어야 한다. \n",
    "# test data 입력시 id 모두 넣어주어야 한다.\n",
    "# from sklearn.preprocessing import LabelEncoder 해주어야 함\n",
    "def train_model(df_train, df_test, model, path, is_submit = True, is_score = True, user_id = \"id\", target = \"country_destination\"):\n",
    "    le = LabelEncoder()\n",
    "\n",
    "    # feature, target 전처리\n",
    "    if is_submit == True:\n",
    "        y_train = le.fit_transform(df_train[target])\n",
    "    else:\n",
    "        y_train = df_train[target]\n",
    "    X_train = df_train.drop([target, user_id], axis = 1)\n",
    "\n",
    "    X_test_id = df_test[user_id] # id 따로 정의\n",
    "    X_test = df_test.drop([user_id], axis = 1)\n",
    "\n",
    "    # train data set으로 fitting\n",
    "    print(\"model fitting 시작 !!\")\n",
    "    model = model.fit(X_train, y_train)\n",
    "    predic_proba = model.predict_proba(X_test)\n",
    "    print(\"model fitting 완료 !!\")\n",
    "    \n",
    "    if is_submit == True:\n",
    "        # submit data, predict data 생성\n",
    "        df_submit = pd.DataFrame(columns=[\"id\", \"country\"])\n",
    "\n",
    "        ids = []\n",
    "        cts = []\n",
    "        for i in range(len(X_test_id)):\n",
    "            idx = X_test_id.iloc[i]\n",
    "            ids += [idx] * 5\n",
    "            cts += le.inverse_transform(np.argsort(predic_proba[i])[::-1])[:5].tolist()\n",
    "\n",
    "        df_submit[\"id\"] = ids\n",
    "        df_submit[\"country\"] = cts\n",
    "\n",
    "        df_submit.to_csv(path, index = False)\n",
    "        print(\"csv file 제작 완료 !!\")\n",
    "\n",
    "        !kaggle competitions submit -c airbnb-recruiting-new-user-bookings -f {path} -m \"Message\"\n",
    "    \n",
    "    if is_score == True:\n",
    "        print(\"cross valiation 시작 !!\")\n",
    "        print(cross_val_score(model, X_train, y_train, scoring = \"neg_log_loss\", cv = 3, n_jobs = 4))\n",
    "        print(\"cross valiation 끝 !!\")\n",
    "    \n",
    "    return model"
   ]
  },
  {
   "cell_type": "code",
   "execution_count": 23,
   "metadata": {},
   "outputs": [],
   "source": [
    "df_train = pd.read_csv(\"../data/train_age_action_count_lag.csv\")\n",
    "df_test = pd.read_csv(\"../data/test_age_action_count_lag.csv\")"
   ]
  },
  {
   "cell_type": "code",
   "execution_count": 44,
   "metadata": {},
   "outputs": [],
   "source": [
    "df_train_origin = pd.read_csv(\"../data/train_users_2.csv\")\n",
    "df_test_origin = pd.read_csv(\"../data/test_users.csv\")"
   ]
  },
  {
   "cell_type": "markdown",
   "metadata": {},
   "source": [
    "### Make 무성의로 사인한 사람들"
   ]
  },
  {
   "cell_type": "code",
   "execution_count": 72,
   "metadata": {},
   "outputs": [],
   "source": [
    "s_all_input_train = np.logical_not(df_train_origin['age'] < 120) | (df_train_origin['gender'] == '-unknown-')\n",
    "s_all_input_test = np.logical_not(df_test_origin['age'] < 120) | (df_test_origin['gender'] == '-unknown-')"
   ]
  },
  {
   "cell_type": "code",
   "execution_count": 46,
   "metadata": {},
   "outputs": [],
   "source": [
    "df_train['all_input_sign'] = s_all_input_train.apply(lambda x : 1 if x == True else 0)\n",
    "df_test['all_input_sign'] = s_all_input_test.apply(lambda x : 1 if x == True else 0)"
   ]
  },
  {
   "cell_type": "code",
   "execution_count": 48,
   "metadata": {},
   "outputs": [
    {
     "data": {
      "text/plain": [
       "((213451, 521), (62096, 520))"
      ]
     },
     "execution_count": 48,
     "metadata": {},
     "output_type": "execute_result"
    }
   ],
   "source": [
    "df_train.shape, df_test.shape"
   ]
  },
  {
   "cell_type": "code",
   "execution_count": 62,
   "metadata": {},
   "outputs": [],
   "source": [
    "lgb = LGBMClassifier(max_depth = 4, n_jobs=4)"
   ]
  },
  {
   "cell_type": "code",
   "execution_count": 73,
   "metadata": {},
   "outputs": [
    {
     "name": "stdout",
     "output_type": "stream",
     "text": [
      "model fitting 시작 !!\n",
      "model fitting 완료 !!\n"
     ]
    },
    {
     "data": {
      "text/plain": [
       "LGBMClassifier(boosting_type='gbdt', class_weight=None, colsample_bytree=1.0,\n",
       "        learning_rate=0.1, max_depth=4, min_child_samples=20,\n",
       "        min_child_weight=0.001, min_split_gain=0.0, n_estimators=100,\n",
       "        n_jobs=4, num_leaves=31, objective=None, random_state=None,\n",
       "        reg_alpha=0.0, reg_lambda=0.0, silent=True, subsample=1.0,\n",
       "        subsample_for_bin=200000, subsample_freq=1)"
      ]
     },
     "execution_count": 73,
     "metadata": {},
     "output_type": "execute_result"
    }
   ],
   "source": [
    "train_model(df_train, df_test, lgb, \"submit/submit.csv\", is_submit = False, is_score=False)"
   ]
  },
  {
   "cell_type": "code",
   "execution_count": 74,
   "metadata": {},
   "outputs": [
    {
     "data": {
      "text/plain": [
       "array(['AU', 'CA', 'DE', 'ES', 'FR', 'GB', 'IT', 'NDF', 'NL', 'PT', 'US',\n",
       "       'other'], dtype=object)"
      ]
     },
     "execution_count": 74,
     "metadata": {},
     "output_type": "execute_result"
    }
   ],
   "source": [
    "lgb.classes_"
   ]
  },
  {
   "cell_type": "code",
   "execution_count": 78,
   "metadata": {},
   "outputs": [],
   "source": [
    "y = df_train[\"country_destination\"]\n",
    "y_pre = lgb.predict(df_train.drop([\"id\", \"country_destination\"], axis = 1))"
   ]
  },
  {
   "cell_type": "markdown",
   "metadata": {},
   "source": [
    "### log_loss"
   ]
  },
  {
   "cell_type": "code",
   "execution_count": 88,
   "metadata": {},
   "outputs": [],
   "source": [
    "y_train = df_train[\"country_destination\"]\n",
    "X_train = df_train.drop([\"id\", \"country_destination\"], axis = 1)"
   ]
  },
  {
   "cell_type": "code",
   "execution_count": null,
   "metadata": {},
   "outputs": [],
   "source": [
    "cross_val_score(lgb, X_train, y_train, scoring = \"neg_log_loss\", cv = 3, n_jobs = 4)"
   ]
  },
  {
   "cell_type": "markdown",
   "metadata": {},
   "source": [
    "### confusion matrix"
   ]
  },
  {
   "cell_type": "code",
   "execution_count": 86,
   "metadata": {},
   "outputs": [],
   "source": [
    "from sklearn.metrics import confusion_matrix\n",
    "from sklearn.metrics import classification_report"
   ]
  },
  {
   "cell_type": "code",
   "execution_count": 87,
   "metadata": {},
   "outputs": [
    {
     "name": "stdout",
     "output_type": "stream",
     "text": [
      "[[     0      0      0      0      0      0      0    292      0      0\n",
      "     247      0]\n",
      " [     0      4      0      0      0      0      0    737      0      0\n",
      "     687      0]\n",
      " [     0      0      4      0      0      0      0    588      0      0\n",
      "     469      0]\n",
      " [     0      0      0      0      0      0      0   1259      0      0\n",
      "     990      0]\n",
      " [     0      0      0      0     18      0      1   2825      0      0\n",
      "    2178      1]\n",
      " [     0      0      0      0      1      1      0   1271      0      0\n",
      "    1051      0]\n",
      " [     0      0      0      0      1      0     11   1606      0      0\n",
      "    1216      1]\n",
      " [     0      0      0      0      1      0      0 108857      0      0\n",
      "   15685      0]\n",
      " [     0      0      0      0      0      0      0    409      3      0\n",
      "     350      0]\n",
      " [     0      0      0      0      0      0      0    115      0      7\n",
      "      95      0]\n",
      " [     0      0      0      0      0      0      0  33279      0      0\n",
      "   29097      0]\n",
      " [     0      0      0      0      0      0      0   5746      0      0\n",
      "    4336     12]]\n",
      "             precision    recall  f1-score   support\n",
      "\n",
      "         AU       0.00      0.00      0.00       539\n",
      "         CA       1.00      0.00      0.01      1428\n",
      "         DE       1.00      0.00      0.01      1061\n",
      "         ES       0.00      0.00      0.00      2249\n",
      "         FR       0.86      0.00      0.01      5023\n",
      "         GB       1.00      0.00      0.00      2324\n",
      "         IT       0.92      0.00      0.01      2835\n",
      "        NDF       0.69      0.87      0.77    124543\n",
      "         NL       1.00      0.00      0.01       762\n",
      "         PT       1.00      0.03      0.06       217\n",
      "         US       0.52      0.47      0.49     62376\n",
      "      other       0.86      0.00      0.00     10094\n",
      "\n",
      "avg / total       0.66      0.65      0.59    213451\n",
      "\n"
     ]
    }
   ],
   "source": [
    "print(confusion_matrix(y,y_pre))\n",
    "print(classification_report(y,y_pre))"
   ]
  },
  {
   "cell_type": "code",
   "execution_count": null,
   "metadata": {},
   "outputs": [],
   "source": []
  }
 ],
 "metadata": {
  "kernelspec": {
   "display_name": "Python 3",
   "language": "python",
   "name": "python3"
  },
  "language_info": {
   "codemirror_mode": {
    "name": "ipython",
    "version": 3
   },
   "file_extension": ".py",
   "mimetype": "text/x-python",
   "name": "python",
   "nbconvert_exporter": "python",
   "pygments_lexer": "ipython3",
   "version": "3.6.2"
  }
 },
 "nbformat": 4,
 "nbformat_minor": 2
}
