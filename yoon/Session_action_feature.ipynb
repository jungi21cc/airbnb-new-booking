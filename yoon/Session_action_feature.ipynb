{
 "cells": [
  {
   "cell_type": "code",
   "execution_count": 9,
   "metadata": {},
   "outputs": [],
   "source": [
    "import pandas as pd\n",
    "import numpy as np\n",
    "import matplotlib.pyplot as plt\n",
    "from sklearn.preprocessing import LabelEncoder\n",
    "%matplotlib inline"
   ]
  },
  {
   "cell_type": "code",
   "execution_count": 10,
   "metadata": {},
   "outputs": [],
   "source": [
    "from lightgbm import LGBMClassifier"
   ]
  },
  {
   "cell_type": "code",
   "execution_count": 11,
   "metadata": {},
   "outputs": [],
   "source": [
    "import seaborn as sns\n",
    "sns.set()"
   ]
  },
  {
   "cell_type": "code",
   "execution_count": 12,
   "metadata": {},
   "outputs": [],
   "source": [
    "import warnings\n",
    "warnings.filterwarnings(\"ignore\")"
   ]
  },
  {
   "cell_type": "code",
   "execution_count": 13,
   "metadata": {},
   "outputs": [],
   "source": [
    "from sklearn.preprocessing import LabelEncoder\n",
    "# train data 입력시 id, target 모두 넣어주어야 한다. \n",
    "# test data 입력시 id 모두 넣어주어야 한다.\n",
    "# from sklearn.preprocessing import LabelEncoder 해주어야 함\n",
    "def submit_kaggle(df_train, df_test, model, path, user_id = \"id\", target = \"country_destination\"):\n",
    "    le = LabelEncoder()\n",
    "\n",
    "    # feature, target 전처리\n",
    "    y_train = le.fit_transform(df_train[target])\n",
    "    X_train = df_train.drop([target, user_id], axis = 1)\n",
    "\n",
    "    X_test_id = df_test[user_id] # id 따로 정의\n",
    "    X_test = df_test.drop([user_id], axis = 1)\n",
    "\n",
    "    # train data set으로 fitting\n",
    "    print(\"model fitting 시작 !!\")\n",
    "    model = model.fit(X_train, y_train)\n",
    "    predic_proba = model.predict_proba(X_test)\n",
    "    print(\"model fitting 완료 !!\")\n",
    "    \n",
    "    # submit data, predict data 생성\n",
    "    df_submit = pd.DataFrame(columns=[\"id\", \"country\"])\n",
    "\n",
    "    ids = []\n",
    "    cts = []\n",
    "    for i in range(len(X_test_id)):\n",
    "        idx = X_test_id.iloc[i]\n",
    "        ids += [idx] * 5\n",
    "        cts += le.inverse_transform(np.argsort(predic_proba[i])[::-1])[:5].tolist()\n",
    "\n",
    "    df_submit[\"id\"] = ids\n",
    "    df_submit[\"country\"] = cts\n",
    "    \n",
    "    df_submit.to_csv(path, index = False)\n",
    "    print(\"csv file 제작 완료 !!\")\n",
    "    \n",
    "    !kaggle competitions submit -c airbnb-recruiting-new-user-bookings -f {path} -m \"Message\""
   ]
  },
  {
   "cell_type": "markdown",
   "metadata": {},
   "source": [
    "### Load_data"
   ]
  },
  {
   "cell_type": "code",
   "execution_count": 14,
   "metadata": {},
   "outputs": [],
   "source": [
    "df_train = pd.read_csv(\"../data/train_age.csv\")\n",
    "df_test = pd.read_csv(\"../data/test_age.csv\")"
   ]
  },
  {
   "cell_type": "code",
   "execution_count": 15,
   "metadata": {},
   "outputs": [],
   "source": [
    "df_session = pd.read_csv(\"../data/sessions.csv\")"
   ]
  },
  {
   "cell_type": "code",
   "execution_count": 16,
   "metadata": {},
   "outputs": [],
   "source": [
    "lgb = LGBMClassifier(max_depth=4 , n_jobs=4)"
   ]
  },
  {
   "cell_type": "markdown",
   "metadata": {},
   "source": [
    "### action - count - action_all"
   ]
  },
  {
   "cell_type": "markdown",
   "metadata": {},
   "source": [
    "0.87585"
   ]
  },
  {
   "cell_type": "code",
   "execution_count": 17,
   "metadata": {},
   "outputs": [],
   "source": [
    "df_session_action_count = df_session.groupby([\"user_id\", \"action\"])[\"secs_elapsed\"].count().fillna(0)"
   ]
  },
  {
   "cell_type": "code",
   "execution_count": 18,
   "metadata": {},
   "outputs": [],
   "source": [
    "df_session_action_count = df_session_action_count.unstack().fillna(0)"
   ]
  },
  {
   "cell_type": "code",
   "execution_count": 19,
   "metadata": {},
   "outputs": [],
   "source": [
    "df_train_new = df_train.merge(df_session_action_count, how = \"left\", left_on = \"id\", right_index = True).fillna(0)\n",
    "df_test_new = df_test.merge(df_session_action_count, how = \"left\", left_on = \"id\", right_index = True).fillna(0)"
   ]
  },
  {
   "cell_type": "code",
   "execution_count": 29,
   "metadata": {},
   "outputs": [
    {
     "name": "stdout",
     "output_type": "stream",
     "text": [
      "model fitting 시작 !!\n",
      "model fitting 완료 !!\n",
      "csv file 제작 완료 !!\n",
      "Warning: Your Kaggle API key is readable by other users on this system! To fix this, you can run 'chmod 600 /home/ubuntu/.kaggle/kaggle.json'\n",
      "Successfully submitted to Airbnb New User Bookings"
     ]
    }
   ],
   "source": [
    "submit_kaggle(df_train_new, df_test_new, lgb, \"submit/submit.csv\")"
   ]
  },
  {
   "cell_type": "markdown",
   "metadata": {},
   "source": [
    "### action_all + action_type_all - count"
   ]
  },
  {
   "cell_type": "markdown",
   "metadata": {},
   "source": [
    "0.87659"
   ]
  },
  {
   "cell_type": "code",
   "execution_count": 20,
   "metadata": {},
   "outputs": [],
   "source": [
    "df_session_action_type_count = df_session.groupby([\"user_id\", \"action_type\"])[\"secs_elapsed\"].count().fillna(0)"
   ]
  },
  {
   "cell_type": "code",
   "execution_count": 21,
   "metadata": {},
   "outputs": [],
   "source": [
    "df_session_action_type_count = df_session_action_type_count.unstack().fillna(0)"
   ]
  },
  {
   "cell_type": "code",
   "execution_count": 22,
   "metadata": {},
   "outputs": [],
   "source": [
    "df_train_new = df_train_new.merge(df_session_action_type_count, how = \"left\", left_on = \"id\", right_index = True).fillna(0)\n",
    "df_test_new = df_test_new.merge(df_session_action_type_count, how = \"left\", left_on = \"id\", right_index = True).fillna(0)"
   ]
  },
  {
   "cell_type": "code",
   "execution_count": 40,
   "metadata": {},
   "outputs": [
    {
     "data": {
      "text/plain": [
       "((213451, 517), (62096, 516))"
      ]
     },
     "execution_count": 40,
     "metadata": {},
     "output_type": "execute_result"
    }
   ],
   "source": [
    "df_train_new.shape, df_test_new.shape"
   ]
  },
  {
   "cell_type": "code",
   "execution_count": null,
   "metadata": {},
   "outputs": [],
   "source": [
    "# make csv file"
   ]
  },
  {
   "cell_type": "code",
   "execution_count": 27,
   "metadata": {},
   "outputs": [],
   "source": [
    "df_train_new.to_csv(\"../data/train_age_action_count.csv\", index = False)\n",
    "df_test_new.to_csv(\"../data/test_age_action_count.csv\", index = False)"
   ]
  },
  {
   "cell_type": "code",
   "execution_count": 41,
   "metadata": {},
   "outputs": [
    {
     "name": "stdout",
     "output_type": "stream",
     "text": [
      "model fitting 시작 !!\n",
      "model fitting 완료 !!\n",
      "csv file 제작 완료 !!\n",
      "Warning: Your Kaggle API key is readable by other users on this system! To fix this, you can run 'chmod 600 /home/ubuntu/.kaggle/kaggle.json'\n",
      "Successfully submitted to Airbnb New User Bookings"
     ]
    }
   ],
   "source": [
    "submit_kaggle(df_train_new, df_test_new, lgb, \"submit/submit.csv\")"
   ]
  }
 ],
 "metadata": {
  "kernelspec": {
   "display_name": "Python 3",
   "language": "python",
   "name": "python3"
  },
  "language_info": {
   "codemirror_mode": {
    "name": "ipython",
    "version": 3
   },
   "file_extension": ".py",
   "mimetype": "text/x-python",
   "name": "python",
   "nbconvert_exporter": "python",
   "pygments_lexer": "ipython3",
   "version": "3.6.2"
  }
 },
 "nbformat": 4,
 "nbformat_minor": 2
}
