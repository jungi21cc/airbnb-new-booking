{
 "cells": [
  {
   "cell_type": "code",
   "execution_count": 35,
   "metadata": {},
   "outputs": [],
   "source": [
    "import pandas as pd\n",
    "import re"
   ]
  },
  {
   "cell_type": "code",
   "execution_count": 36,
   "metadata": {},
   "outputs": [],
   "source": [
    "df_session = pd.read_csv(\"../data/merged_sessions.csv\")"
   ]
  },
  {
   "cell_type": "code",
   "execution_count": 71,
   "metadata": {},
   "outputs": [],
   "source": [
    "def remove_letter(string):\n",
    "    string = re.sub(\"\\['([\\w\\s-])']\",\"\\g<1>\", string)\n",
    "    return string"
   ]
  },
  {
   "cell_type": "code",
   "execution_count": 72,
   "metadata": {},
   "outputs": [],
   "source": [
    "df_session[\"action\"] = df_session[\"action\"].apply(remove_letter)\n",
    "df_session[\"action_detail\"] = df_session[\"action_detail\"].apply(remove_letter)\n",
    "df_session[\"action_type\"] = df_session[\"action_type\"].apply(remove_letter)\n",
    "df_session[\"device_type\"] = df_session[\"device_type\"].apply(remove_letter)"
   ]
  },
  {
   "cell_type": "code",
   "execution_count": 81,
   "metadata": {},
   "outputs": [],
   "source": [
    "df_session[\"action_detail\"] = df_session[\"action_detail\"].replace({\"['-unknown-']\":\"unknown\"})\n",
    "df_session[\"action_type\"] = df_session[\"action_type\"].replace({\"['-unknown-']\":\"unknown\"})\n",
    "df_session[\"device_type\"] = df_session[\"device_type\"].replace({\"['-unknown-']\":\"unknown\", \n",
    "                                                               \"['Android App Unknown Phone/Tablet']\": \"Androd_unkown_phone\"})"
   ]
  },
  {
   "cell_type": "code",
   "execution_count": 89,
   "metadata": {},
   "outputs": [
    {
     "data": {
      "text/plain": [
       "action           0\n",
       "action_detail    0\n",
       "action_type      0\n",
       "device_type      0\n",
       "id               0\n",
       "secs_elapsed     0\n",
       "secs_sum         0\n",
       "secs_mean        0\n",
       "dtype: int64"
      ]
     },
     "execution_count": 89,
     "metadata": {},
     "output_type": "execute_result"
    }
   ],
   "source": [
    "df_session.isnull().sum()"
   ]
  },
  {
   "cell_type": "code",
   "execution_count": 90,
   "metadata": {},
   "outputs": [],
   "source": [
    "df_session.to_csv(\"../data/merged_sessions.csv\", index = False)"
   ]
  },
  {
   "cell_type": "code",
   "execution_count": null,
   "metadata": {},
   "outputs": [],
   "source": []
  }
 ],
 "metadata": {
  "kernelspec": {
   "display_name": "Python 3",
   "language": "python",
   "name": "python3"
  },
  "language_info": {
   "codemirror_mode": {
    "name": "ipython",
    "version": 3
   },
   "file_extension": ".py",
   "mimetype": "text/x-python",
   "name": "python",
   "nbconvert_exporter": "python",
   "pygments_lexer": "ipython3",
   "version": "3.6.2"
  }
 },
 "nbformat": 4,
 "nbformat_minor": 2
}
