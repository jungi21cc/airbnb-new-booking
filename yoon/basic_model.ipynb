{
 "cells": [
  {
   "cell_type": "code",
   "execution_count": 175,
   "metadata": {},
   "outputs": [],
   "source": [
    "import pandas as pd"
   ]
  },
  {
   "cell_type": "code",
   "execution_count": 176,
   "metadata": {},
   "outputs": [],
   "source": [
    "df_train = pd.read_csv(\"../data/train_users_2.csv\")\n",
    "df_test = pd.read_csv(\"../data/test_users.csv\")\n",
    "df_all = pd.concat([df_train, df_test])"
   ]
  },
  {
   "cell_type": "code",
   "execution_count": 177,
   "metadata": {},
   "outputs": [],
   "source": [
    "df_target = df_train[\"country_destination\"]"
   ]
  },
  {
   "cell_type": "code",
   "execution_count": 178,
   "metadata": {},
   "outputs": [],
   "source": [
    "df_all = df_all.drop(\"age\", axis = 1)\n",
    "df_all = df_all.drop(\"date_first_booking\", axis = 1)"
   ]
  },
  {
   "cell_type": "code",
   "execution_count": 179,
   "metadata": {},
   "outputs": [],
   "source": [
    "df_all[\"first_affiliate_tracked\"].fillna(\"untracked\", inplace = True)"
   ]
  },
  {
   "cell_type": "code",
   "execution_count": 180,
   "metadata": {},
   "outputs": [
    {
     "data": {
      "text/plain": [
       "affiliate_channel              0\n",
       "affiliate_provider             0\n",
       "country_destination        62096\n",
       "date_account_created           0\n",
       "first_affiliate_tracked        0\n",
       "first_browser                  0\n",
       "first_device_type              0\n",
       "gender                         0\n",
       "id                             0\n",
       "language                       0\n",
       "signup_app                     0\n",
       "signup_flow                    0\n",
       "signup_method                  0\n",
       "timestamp_first_active         0\n",
       "dtype: int64"
      ]
     },
     "execution_count": 180,
     "metadata": {},
     "output_type": "execute_result"
    }
   ],
   "source": [
    "df_all.isnull().sum()"
   ]
  },
  {
   "cell_type": "code",
   "execution_count": 181,
   "metadata": {},
   "outputs": [],
   "source": [
    "df_all[\"date_account_created\"] = pd.to_datetime(df_all[\"date_account_created\"], format = \"%Y-%m-%d\")"
   ]
  },
  {
   "cell_type": "code",
   "execution_count": 182,
   "metadata": {},
   "outputs": [],
   "source": [
    "df_all[\"timestamp_first_active\"] = pd.to_datetime(df_all[\"timestamp_first_active\"], format=\"%Y%m%d%H%M%S\", errors='ignore')"
   ]
  },
  {
   "cell_type": "code",
   "execution_count": 183,
   "metadata": {},
   "outputs": [],
   "source": [
    "df_all[\"ac_year\"] = df_all[\"date_account_created\"].apply(lambda x : x.year)\n",
    "df_all[\"ac_month\"] = df_all[\"date_account_created\"].apply(lambda x : x.month)\n",
    "df_all[\"ac_day\"] = df_all[\"date_account_created\"].apply(lambda x : x.day)"
   ]
  },
  {
   "cell_type": "code",
   "execution_count": 184,
   "metadata": {},
   "outputs": [],
   "source": [
    "df_all[\"fa_year\"] = df_all[\"timestamp_first_active\"].apply(lambda x : x.year)\n",
    "df_all[\"fa_month\"] = df_all[\"timestamp_first_active\"].apply(lambda x : x.month)\n",
    "df_all[\"fa_day\"] = df_all[\"timestamp_first_active\"].apply(lambda x : x.day)\n",
    "df_all[\"fa_hour\"] = df_all[\"timestamp_first_active\"].apply(lambda x : x.hour)\n",
    "df_all[\"fa_minute\"] = df_all[\"timestamp_first_active\"].apply(lambda x : x.minute)\n",
    "df_all[\"fa_second\"] = df_all[\"timestamp_first_active\"].apply(lambda x : x.second)"
   ]
  },
  {
   "cell_type": "code",
   "execution_count": 185,
   "metadata": {},
   "outputs": [],
   "source": [
    "df_all = df_all.drop(\"date_account_created\", axis = 1)\n",
    "df_all = df_all.drop(\"timestamp_first_active\", axis = 1)\n",
    "df_all = df_all.drop(\"country_destination\", axis = 1)"
   ]
  },
  {
   "cell_type": "code",
   "execution_count": 186,
   "metadata": {},
   "outputs": [],
   "source": [
    "df_all = df_all.drop(\"id\", axis = 1)"
   ]
  },
  {
   "cell_type": "code",
   "execution_count": 187,
   "metadata": {},
   "outputs": [],
   "source": [
    "df_all = pd.get_dummies(df_all)"
   ]
  },
  {
   "cell_type": "code",
   "execution_count": 188,
   "metadata": {},
   "outputs": [],
   "source": [
    "df_train = df_all.iloc[:213451]\n",
    "df_test = df_all.iloc[213451:]"
   ]
  },
  {
   "cell_type": "code",
   "execution_count": 189,
   "metadata": {},
   "outputs": [
    {
     "data": {
      "text/plain": [
       "((213451, 145), (62096, 145))"
      ]
     },
     "execution_count": 189,
     "metadata": {},
     "output_type": "execute_result"
    }
   ],
   "source": [
    "df_train.shape, df_test.shape"
   ]
  },
  {
   "cell_type": "markdown",
   "metadata": {},
   "source": [
    "# 1. QDA 평가"
   ]
  },
  {
   "cell_type": "code",
   "execution_count": 190,
   "metadata": {},
   "outputs": [],
   "source": [
    "from sklearn.discriminant_analysis import QuadraticDiscriminantAnalysis"
   ]
  },
  {
   "cell_type": "code",
   "execution_count": 195,
   "metadata": {},
   "outputs": [],
   "source": [
    "y = df_target\n",
    "X = df_train\n",
    "X_test = df_test"
   ]
  },
  {
   "cell_type": "code",
   "execution_count": 196,
   "metadata": {},
   "outputs": [
    {
     "name": "stderr",
     "output_type": "stream",
     "text": [
      "/home/ubuntu/anaconda3/lib/python3.6/site-packages/sklearn/discriminant_analysis.py:682: UserWarning: Variables are collinear\n",
      "  warnings.warn(\"Variables are collinear\")\n"
     ]
    }
   ],
   "source": [
    "qda = QuadraticDiscriminantAnalysis(store_covariance=True).fit(X, y)"
   ]
  },
  {
   "cell_type": "code",
   "execution_count": 197,
   "metadata": {},
   "outputs": [
    {
     "data": {
      "text/plain": [
       "((213451, 145), (62096, 145), (213451,))"
      ]
     },
     "execution_count": 197,
     "metadata": {},
     "output_type": "execute_result"
    }
   ],
   "source": [
    "X.shape, X_test.shape, df_target.shape"
   ]
  },
  {
   "cell_type": "code",
   "execution_count": 204,
   "metadata": {},
   "outputs": [],
   "source": [
    "y_pre = qda.predict(X)"
   ]
  },
  {
   "cell_type": "code",
   "execution_count": 211,
   "metadata": {},
   "outputs": [],
   "source": [
    "from sklearn.metrics import confusion_matrix\n",
    "from sklearn.metrics import classification_report"
   ]
  },
  {
   "cell_type": "code",
   "execution_count": 212,
   "metadata": {},
   "outputs": [
    {
     "data": {
      "text/plain": [
       "array([[    17,      1,      1,      0,      0,      0,      0,      0,\n",
       "             6,    514,      0,      0],\n",
       "       [    30,     24,      6,      0,      0,      2,      0,      0,\n",
       "            21,   1345,      0,      0],\n",
       "       [    25,      4,     11,      0,      0,      0,      0,      0,\n",
       "            19,   1002,      0,      0],\n",
       "       [    41,     10,     14,      0,      2,      4,      2,      0,\n",
       "            32,   2142,      1,      1],\n",
       "       [   101,     17,     30,      0,      7,      9,      2,      0,\n",
       "            64,   4790,      0,      3],\n",
       "       [    39,     12,      5,      0,      0,     15,      0,      0,\n",
       "            24,   2229,      0,      0],\n",
       "       [    45,     10,     17,      0,      1,      6,      5,      0,\n",
       "            53,   2697,      0,      1],\n",
       "       [  3374,   1194,   1522,      2,     71,    245,    132,    124,\n",
       "          4776, 112914,     64,    125],\n",
       "       [    16,      1,      2,      0,      0,      0,      0,      0,\n",
       "            24,    719,      0,      0],\n",
       "       [     0,      0,      0,      0,      0,      0,      0,      0,\n",
       "             0,    217,      0,      0],\n",
       "       [  1475,    523,    437,      2,     25,    181,     41,     15,\n",
       "          1309,  58268,     65,     35],\n",
       "       [   257,     59,     84,      1,      6,     28,     12,      1,\n",
       "           239,   9382,      0,     25]])"
      ]
     },
     "execution_count": 212,
     "metadata": {},
     "output_type": "execute_result"
    }
   ],
   "source": [
    "confusion_matrix(y, y_pre)"
   ]
  },
  {
   "cell_type": "code",
   "execution_count": 214,
   "metadata": {},
   "outputs": [
    {
     "name": "stdout",
     "output_type": "stream",
     "text": [
      "             precision    recall  f1-score   support\n",
      "\n",
      "         AU       0.00      0.03      0.01       539\n",
      "         CA       0.01      0.02      0.01      1428\n",
      "         DE       0.01      0.01      0.01      1061\n",
      "         ES       0.00      0.00      0.00      2249\n",
      "         FR       0.06      0.00      0.00      5023\n",
      "         GB       0.03      0.01      0.01      2324\n",
      "         IT       0.03      0.00      0.00      2835\n",
      "        NDF       0.89      0.00      0.00    124543\n",
      "         NL       0.00      0.03      0.01       762\n",
      "         PT       0.00      1.00      0.00       217\n",
      "         US       0.50      0.00      0.00     62376\n",
      "      other       0.13      0.00      0.00     10094\n",
      "\n",
      "avg / total       0.67      0.00      0.00    213451\n",
      "\n"
     ]
    }
   ],
   "source": [
    "print(classification_report(y, y_pre))"
   ]
  },
  {
   "cell_type": "code",
   "execution_count": null,
   "metadata": {},
   "outputs": [],
   "source": []
  }
 ],
 "metadata": {
  "kernelspec": {
   "display_name": "Python 3",
   "language": "python",
   "name": "python3"
  },
  "language_info": {
   "codemirror_mode": {
    "name": "ipython",
    "version": 3
   },
   "file_extension": ".py",
   "mimetype": "text/x-python",
   "name": "python",
   "nbconvert_exporter": "python",
   "pygments_lexer": "ipython3",
   "version": "3.6.2"
  }
 },
 "nbformat": 4,
 "nbformat_minor": 2
}
