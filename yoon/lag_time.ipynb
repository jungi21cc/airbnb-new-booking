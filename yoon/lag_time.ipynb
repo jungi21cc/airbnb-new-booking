{
 "cells": [
  {
   "cell_type": "code",
   "execution_count": 1,
   "metadata": {},
   "outputs": [],
   "source": [
    "import pandas as pd\n",
    "import numpy as np\n",
    "import matplotlib.pyplot as plt\n",
    "from sklearn.preprocessing import LabelEncoder\n",
    "%matplotlib inline"
   ]
  },
  {
   "cell_type": "code",
   "execution_count": 2,
   "metadata": {},
   "outputs": [],
   "source": [
    "from lightgbm import LGBMClassifier"
   ]
  },
  {
   "cell_type": "code",
   "execution_count": 3,
   "metadata": {},
   "outputs": [],
   "source": [
    "import seaborn as sns\n",
    "sns.set()"
   ]
  },
  {
   "cell_type": "code",
   "execution_count": 4,
   "metadata": {},
   "outputs": [],
   "source": [
    "import warnings\n",
    "warnings.filterwarnings(\"ignore\")"
   ]
  },
  {
   "cell_type": "code",
   "execution_count": 50,
   "metadata": {},
   "outputs": [],
   "source": [
    "from sklearn.preprocessing import LabelEncoder\n",
    "# train data 입력시 id, target 모두 넣어주어야 한다. \n",
    "# test data 입력시 id 모두 넣어주어야 한다.\n",
    "# from sklearn.preprocessing import LabelEncoder 해주어야 함\n",
    "def submit_kaggle(df_train, df_test, model, path, user_id = \"id\", target = \"country_destination\"):\n",
    "    le = LabelEncoder()\n",
    "\n",
    "    # feature, target 전처리\n",
    "    y_train = le.fit_transform(df_train[target])\n",
    "    X_train = df_train.drop([target, user_id], axis = 1)\n",
    "\n",
    "    X_test_id = df_test[user_id] # id 따로 정의\n",
    "    X_test = df_test.drop([user_id], axis = 1)\n",
    "\n",
    "    # train data set으로 fitting\n",
    "    print(\"model fitting 시작 !!\")\n",
    "    model = model.fit(X_train, y_train)\n",
    "    predic_proba = model.predict_proba(X_test)\n",
    "    print(\"model fitting 완료 !!\")\n",
    "    \n",
    "    # submit data, predict data 생성\n",
    "    df_submit = pd.DataFrame(columns=[\"id\", \"country\"])\n",
    "\n",
    "    ids = []\n",
    "    cts = []\n",
    "    for i in range(len(X_test_id)):\n",
    "        idx = X_test_id.iloc[i]\n",
    "        ids += [idx] * 5\n",
    "        cts += le.inverse_transform(np.argsort(predic_proba[i])[::-1])[:5].tolist()\n",
    "\n",
    "    df_submit[\"id\"] = ids\n",
    "    df_submit[\"country\"] = cts\n",
    "    \n",
    "    df_submit.to_csv(path, index = False)\n",
    "    print(\"csv file 제작 완료 !!\")\n",
    "    \n",
    "    !kaggle competitions submit -c airbnb-recruiting-new-user-bookings -f {path} -m \"Message\""
   ]
  },
  {
   "cell_type": "code",
   "execution_count": 52,
   "metadata": {},
   "outputs": [],
   "source": [
    "df_train = pd.read_csv(\"../data/train_age_action_count.csv\")\n",
    "df_test = pd.read_csv(\"../data/test_age_action_count.csv\")\n",
    "df_session = pd.read_csv(\"../data/sessions.csv\")"
   ]
  },
  {
   "cell_type": "code",
   "execution_count": 15,
   "metadata": {},
   "outputs": [],
   "source": [
    "df_train_origin = pd.read_csv(\"../data/train_users_2.csv\")\n",
    "df_test_origin = pd.read_csv(\"../data/test_users.csv\")\n",
    "df_all = pd.concat([df_train_origin, df_test_origin])"
   ]
  },
  {
   "cell_type": "code",
   "execution_count": 17,
   "metadata": {},
   "outputs": [],
   "source": [
    "df_all[\"date_account_created\"] = pd.to_datetime(df_all[\"date_account_created\"], format = \"%Y-%m-%d\")\n",
    "df_all[\"timestamp_first_active\"] = pd.to_datetime(df_all[\"timestamp_first_active\"], format=\"%Y%m%d%H%M%S\", errors='ignore')"
   ]
  },
  {
   "cell_type": "code",
   "execution_count": 22,
   "metadata": {},
   "outputs": [],
   "source": [
    "df_all[\"lag_fa_ac\"] = df_all[\"timestamp_first_active\"] - df_all[\"date_account_created\"]"
   ]
  },
  {
   "cell_type": "code",
   "execution_count": 46,
   "metadata": {},
   "outputs": [],
   "source": [
    "s_train_lag = df_all[\"lag_fa_ac\"].iloc[:213451]\n",
    "s_test_lag = df_all[\"lag_fa_ac\"].iloc[213451:]"
   ]
  },
  {
   "cell_type": "code",
   "execution_count": 47,
   "metadata": {},
   "outputs": [],
   "source": [
    "df_train_lag = pd.DataFrame(columns = [\"lag_days\", \"lag_seconds\"])\n",
    "df_test_lag = pd.DataFrame(columns = [\"lag_days\", \"lag_seconds\"])\n",
    "\n",
    "df_train_lag[\"lag_days\"] = s_train_lag.apply(lambda x : -1 * x.days)\n",
    "df_test_lag[\"lag_days\"] = s_train_lag.apply(lambda x : -1 * x.days)\n",
    "\n",
    "df_train_lag[\"lag_seconds\"] = s_train_lag.apply(lambda x : x.seconds)\n",
    "df_test_lag[\"lag_seconds\"] = s_train_lag.apply(lambda x : x.seconds)"
   ]
  },
  {
   "cell_type": "code",
   "execution_count": null,
   "metadata": {},
   "outputs": [],
   "source": []
  },
  {
   "cell_type": "code",
   "execution_count": 7,
   "metadata": {},
   "outputs": [],
   "source": [
    "lgb = LGBMClassifier(max_depth=4 , n_jobs=4)"
   ]
  },
  {
   "cell_type": "code",
   "execution_count": 55,
   "metadata": {},
   "outputs": [],
   "source": [
    "df_train[\"lag_days\"] = df_train_lag[\"lag_days\"]\n",
    "df_test[\"lag_days\"] = df_test_lag[\"lag_days\"]\n",
    "\n",
    "df_train[\"lag_seconds\"] = df_train_lag[\"lag_seconds\"]\n",
    "df_test[\"lag_seconds\"] = df_test_lag[\"lag_seconds\"]"
   ]
  },
  {
   "cell_type": "code",
   "execution_count": 57,
   "metadata": {},
   "outputs": [
    {
     "data": {
      "text/plain": [
       "((213451, 519), (62096, 518))"
      ]
     },
     "execution_count": 57,
     "metadata": {},
     "output_type": "execute_result"
    }
   ],
   "source": [
    "df_train.shape, df_test.shape"
   ]
  },
  {
   "cell_type": "markdown",
   "metadata": {},
   "source": [
    "### lag_days + lag_seconds 더했을 때"
   ]
  },
  {
   "cell_type": "markdown",
   "metadata": {},
   "source": [
    "0.87693"
   ]
  },
  {
   "cell_type": "code",
   "execution_count": 58,
   "metadata": {},
   "outputs": [
    {
     "name": "stdout",
     "output_type": "stream",
     "text": [
      "model fitting 시작 !!\n",
      "model fitting 완료 !!\n",
      "csv file 제작 완료 !!\n",
      "Warning: Your Kaggle API key is readable by other users on this system! To fix this, you can run 'chmod 600 /home/ubuntu/.kaggle/kaggle.json'\n",
      "Successfully submitted to Airbnb New User Bookings"
     ]
    }
   ],
   "source": [
    "submit_kaggle(df_train, df_test, lgb, \"submit/submit.csv\")"
   ]
  },
  {
   "cell_type": "code",
   "execution_count": null,
   "metadata": {},
   "outputs": [],
   "source": []
  }
 ],
 "metadata": {
  "kernelspec": {
   "display_name": "Python 3",
   "language": "python",
   "name": "python3"
  },
  "language_info": {
   "codemirror_mode": {
    "name": "ipython",
    "version": 3
   },
   "file_extension": ".py",
   "mimetype": "text/x-python",
   "name": "python",
   "nbconvert_exporter": "python",
   "pygments_lexer": "ipython3",
   "version": "3.6.2"
  }
 },
 "nbformat": 4,
 "nbformat_minor": 2
}
