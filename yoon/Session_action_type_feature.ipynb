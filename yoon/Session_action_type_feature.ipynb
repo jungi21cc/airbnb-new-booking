{
 "cells": [
  {
   "cell_type": "code",
   "execution_count": 16,
   "metadata": {},
   "outputs": [],
   "source": [
    "import pandas as pd\n",
    "import numpy as np\n",
    "import matplotlib.pyplot as plt\n",
    "from sklearn.preprocessing import LabelEncoder\n",
    "%matplotlib inline"
   ]
  },
  {
   "cell_type": "code",
   "execution_count": 71,
   "metadata": {},
   "outputs": [],
   "source": [
    "import seaborn as sns\n",
    "sns.set()"
   ]
  },
  {
   "cell_type": "code",
   "execution_count": 17,
   "metadata": {},
   "outputs": [],
   "source": [
    "import warnings\n",
    "warnings.filterwarnings(\"ignore\")"
   ]
  },
  {
   "cell_type": "code",
   "execution_count": 18,
   "metadata": {},
   "outputs": [],
   "source": [
    "from lightgbm import LGBMClassifier"
   ]
  },
  {
   "cell_type": "code",
   "execution_count": 19,
   "metadata": {},
   "outputs": [],
   "source": [
    "from sklearn.preprocessing import LabelEncoder\n",
    "# train data 입력시 id, target 모두 넣어주어야 한다. \n",
    "# test data 입력시 id 모두 넣어주어야 한다.\n",
    "# from sklearn.preprocessing import LabelEncoder 해주어야 함\n",
    "def submit_kaggle(df_train, df_test, model, path, user_id = \"id\", target = \"country_destination\"):\n",
    "    le = LabelEncoder()\n",
    "\n",
    "    # feature, target 전처리\n",
    "    y_train = le.fit_transform(df_train[target])\n",
    "    X_train = df_train.drop([target, user_id], axis = 1)\n",
    "\n",
    "    X_test_id = df_test[user_id] # id 따로 정의\n",
    "    X_test = df_test.drop([user_id], axis = 1)\n",
    "\n",
    "    # train data set으로 fitting\n",
    "    print(\"model fitting 시작 !!\")\n",
    "    model = model.fit(X_train, y_train)\n",
    "    predic_proba = model.predict_proba(X_test)\n",
    "    print(\"model fitting 완료 !!\")\n",
    "    \n",
    "    # submit data, predict data 생성\n",
    "    df_submit = pd.DataFrame(columns=[\"id\", \"country\"])\n",
    "\n",
    "    ids = []\n",
    "    cts = []\n",
    "    for i in range(len(X_test_id)):\n",
    "        idx = X_test_id.iloc[i]\n",
    "        ids += [idx] * 5\n",
    "        cts += le.inverse_transform(np.argsort(predic_proba[i])[::-1])[:5].tolist()\n",
    "\n",
    "    df_submit[\"id\"] = ids\n",
    "    df_submit[\"country\"] = cts\n",
    "    \n",
    "    df_submit.to_csv(path, index = False)\n",
    "    print(\"csv file 제작 완료 !!\")\n",
    "    \n",
    "    !kaggle competitions submit -c airbnb-recruiting-new-user-bookings -f {path} -m \"Message\""
   ]
  },
  {
   "cell_type": "markdown",
   "metadata": {},
   "source": [
    "### Load_data"
   ]
  },
  {
   "cell_type": "code",
   "execution_count": 20,
   "metadata": {},
   "outputs": [],
   "source": [
    "df_train = pd.read_csv(\"../data/train_age.csv\")\n",
    "df_test = pd.read_csv(\"../data/test_age.csv\")"
   ]
  },
  {
   "cell_type": "code",
   "execution_count": 21,
   "metadata": {},
   "outputs": [],
   "source": [
    "df_session = pd.read_csv(\"../data/sessions.csv\")"
   ]
  },
  {
   "cell_type": "markdown",
   "metadata": {},
   "source": [
    "### log - count"
   ]
  },
  {
   "cell_type": "markdown",
   "metadata": {},
   "source": [
    "- 0.86460"
   ]
  },
  {
   "cell_type": "code",
   "execution_count": 22,
   "metadata": {},
   "outputs": [],
   "source": [
    "a = df_session.groupby([\"user_id\"])[\"secs_elapsed\"].count().fillna(0)\n",
    "a = pd.DataFrame(a)\n",
    "df_train_new = df_train.merge(a, how = \"left\", left_on = \"id\", right_index = True)"
   ]
  },
  {
   "cell_type": "code",
   "execution_count": 23,
   "metadata": {},
   "outputs": [],
   "source": [
    "b = df_session.groupby([\"user_id\"])[\"secs_elapsed\"].count().fillna(0)\n",
    "b = pd.DataFrame(b)\n",
    "df_test_new = df_test.merge(b, how = \"left\", left_on = \"id\", right_index = True)"
   ]
  },
  {
   "cell_type": "code",
   "execution_count": 24,
   "metadata": {},
   "outputs": [
    {
     "data": {
      "text/plain": [
       "((213451, 149), (62096, 148))"
      ]
     },
     "execution_count": 24,
     "metadata": {},
     "output_type": "execute_result"
    }
   ],
   "source": [
    "df_train_new.shape, df_test_new.shape"
   ]
  },
  {
   "cell_type": "code",
   "execution_count": 25,
   "metadata": {},
   "outputs": [],
   "source": [
    "df_train_new = df_train_new.fillna(0)\n",
    "df_test_new = df_test_new.fillna(0)"
   ]
  },
  {
   "cell_type": "code",
   "execution_count": 13,
   "metadata": {},
   "outputs": [],
   "source": [
    "lgb = LGBMClassifier(max_depth=4 , n_jobs=4)"
   ]
  },
  {
   "cell_type": "code",
   "execution_count": 14,
   "metadata": {},
   "outputs": [
    {
     "name": "stdout",
     "output_type": "stream",
     "text": [
      "model fitting 시작 !!\n",
      "model fitting 완료 !!\n",
      "csv file 제작 완료 !!\n",
      "Warning: Your Kaggle API key is readable by other users on this system! To fix this, you can run 'chmod 600 /home/ubuntu/.kaggle/kaggle.json'\n",
      "Successfully submitted to Airbnb New User Bookings"
     ]
    }
   ],
   "source": [
    "submit_kaggle(df_train_new, df_test_new, lgb, \"submit/submit.csv\")"
   ]
  },
  {
   "cell_type": "markdown",
   "metadata": {},
   "source": [
    "### action_type - count - all"
   ]
  },
  {
   "cell_type": "markdown",
   "metadata": {},
   "source": [
    "0.87522"
   ]
  },
  {
   "cell_type": "code",
   "execution_count": 86,
   "metadata": {},
   "outputs": [],
   "source": [
    "df_train_new = df_train.merge(df_session_type, how = \"left\", left_on = \"id\", right_index = True).fillna(0)\n",
    "df_test_new = df_test.merge(df_session_type, how = \"left\", left_on = \"id\", right_index = True).fillna(0)"
   ]
  },
  {
   "cell_type": "code",
   "execution_count": 87,
   "metadata": {},
   "outputs": [
    {
     "name": "stdout",
     "output_type": "stream",
     "text": [
      "model fitting 시작 !!\n",
      "model fitting 완료 !!\n",
      "csv file 제작 완료 !!\n",
      "Warning: Your Kaggle API key is readable by other users on this system! To fix this, you can run 'chmod 600 /home/ubuntu/.kaggle/kaggle.json'\n",
      "Successfully submitted to Airbnb New User Bookings"
     ]
    }
   ],
   "source": [
    "submit_kaggle(df_train_new, df_test_new, lgb, \"submit/submit.csv\")"
   ]
  },
  {
   "cell_type": "markdown",
   "metadata": {},
   "source": [
    "### action_type - count - click"
   ]
  },
  {
   "cell_type": "markdown",
   "metadata": {},
   "source": [
    "- 0.86571"
   ]
  },
  {
   "cell_type": "code",
   "execution_count": 89,
   "metadata": {},
   "outputs": [],
   "source": [
    "a = df_session.groupby([\"user_id\", \"action_type\"])[\"secs_elapsed\"].count().fillna(0)"
   ]
  },
  {
   "cell_type": "code",
   "execution_count": 77,
   "metadata": {},
   "outputs": [],
   "source": [
    "df_session_type = a.unstack().fillna(0)"
   ]
  },
  {
   "cell_type": "code",
   "execution_count": 35,
   "metadata": {},
   "outputs": [],
   "source": [
    "df_session_type_click = pd.DataFrame(df_session_type[\"click\"])"
   ]
  },
  {
   "cell_type": "code",
   "execution_count": 42,
   "metadata": {},
   "outputs": [],
   "source": [
    "df_train_new = df_train.merge(df_session_type_click, how = \"left\", left_on = \"id\", right_index = True).fillna(0)\n",
    "df_test_new = df_test.merge(df_session_type_click, how = \"left\", left_on = \"id\", right_index = True).fillna(0)"
   ]
  },
  {
   "cell_type": "code",
   "execution_count": 43,
   "metadata": {},
   "outputs": [
    {
     "name": "stdout",
     "output_type": "stream",
     "text": [
      "model fitting 시작 !!\n",
      "model fitting 완료 !!\n",
      "csv file 제작 완료 !!\n",
      "Warning: Your Kaggle API key is readable by other users on this system! To fix this, you can run 'chmod 600 /home/ubuntu/.kaggle/kaggle.json'\n",
      "Successfully submitted to Airbnb New User Bookings"
     ]
    }
   ],
   "source": [
    "submit_kaggle(df_train_new, df_test_new, lgb, \"submit/submit.csv\")"
   ]
  },
  {
   "cell_type": "markdown",
   "metadata": {},
   "source": [
    "### action_type - count - view"
   ]
  },
  {
   "cell_type": "markdown",
   "metadata": {},
   "source": [
    "0.86466"
   ]
  },
  {
   "cell_type": "code",
   "execution_count": 78,
   "metadata": {},
   "outputs": [],
   "source": [
    "df_session_type_view = pd.DataFrame(df_session_type[\"view\"])"
   ]
  },
  {
   "cell_type": "code",
   "execution_count": 79,
   "metadata": {},
   "outputs": [],
   "source": [
    "df_train_new = df_train.merge(df_session_type_view, how = \"left\", left_on = \"id\", right_index = True).fillna(0)\n",
    "df_test_new = df_test.merge(df_session_type_view, how = \"left\", left_on = \"id\", right_index = True).fillna(0)"
   ]
  },
  {
   "cell_type": "code",
   "execution_count": 80,
   "metadata": {},
   "outputs": [
    {
     "name": "stdout",
     "output_type": "stream",
     "text": [
      "model fitting 시작 !!\n",
      "model fitting 완료 !!\n",
      "csv file 제작 완료 !!\n",
      "Warning: Your Kaggle API key is readable by other users on this system! To fix this, you can run 'chmod 600 /home/ubuntu/.kaggle/kaggle.json'\n",
      "Successfully submitted to Airbnb New User Bookings"
     ]
    }
   ],
   "source": [
    "submit_kaggle(df_train_new, df_test_new, lgb, \"submit/submit.csv\")"
   ]
  },
  {
   "cell_type": "markdown",
   "metadata": {},
   "source": [
    "### action_type - count - data"
   ]
  },
  {
   "cell_type": "markdown",
   "metadata": {},
   "source": [
    "0.86476"
   ]
  },
  {
   "cell_type": "code",
   "execution_count": 81,
   "metadata": {},
   "outputs": [],
   "source": [
    "df_session_type_data = pd.DataFrame(df_session_type[\"data\"])"
   ]
  },
  {
   "cell_type": "code",
   "execution_count": 82,
   "metadata": {},
   "outputs": [],
   "source": [
    "df_train_new = df_train.merge(df_session_type_data, how = \"left\", left_on = \"id\", right_index = True).fillna(0)\n",
    "df_test_new = df_test.merge(df_session_type_data, how = \"left\", left_on = \"id\", right_index = True).fillna(0)"
   ]
  },
  {
   "cell_type": "code",
   "execution_count": 84,
   "metadata": {},
   "outputs": [
    {
     "name": "stdout",
     "output_type": "stream",
     "text": [
      "model fitting 시작 !!\n",
      "model fitting 완료 !!\n",
      "csv file 제작 완료 !!\n",
      "Warning: Your Kaggle API key is readable by other users on this system! To fix this, you can run 'chmod 600 /home/ubuntu/.kaggle/kaggle.json'\n",
      "Successfully submitted to Airbnb New User Bookings"
     ]
    }
   ],
   "source": [
    "submit_kaggle(df_train_new, df_test_new, lgb, \"submit/submit.csv\")"
   ]
  },
  {
   "cell_type": "markdown",
   "metadata": {},
   "source": [
    "### action_type - sum - click"
   ]
  },
  {
   "cell_type": "markdown",
   "metadata": {},
   "source": [
    "0.86539"
   ]
  },
  {
   "cell_type": "code",
   "execution_count": 47,
   "metadata": {},
   "outputs": [],
   "source": [
    "b = df_session.groupby([\"user_id\", \"action_type\"])[\"secs_elapsed\"].mean().fillna(0)"
   ]
  },
  {
   "cell_type": "code",
   "execution_count": 59,
   "metadata": {},
   "outputs": [],
   "source": [
    "df_session_type_click = pd.DataFrame(b.unstack()[\"click\"].fillna(0)).rename(index = str, columns = {\"click\" : \"click_mean\"})"
   ]
  },
  {
   "cell_type": "code",
   "execution_count": 60,
   "metadata": {},
   "outputs": [],
   "source": [
    "df_train_new = df_train.merge(df_session_type_click, how = \"left\", left_on = \"id\", right_index = True).fillna(0)\n",
    "df_test_new = df_test.merge(df_session_type_click, how = \"left\", left_on = \"id\", right_index = True).fillna(0)"
   ]
  },
  {
   "cell_type": "code",
   "execution_count": 62,
   "metadata": {},
   "outputs": [
    {
     "name": "stdout",
     "output_type": "stream",
     "text": [
      "model fitting 시작 !!\n",
      "model fitting 완료 !!\n",
      "csv file 제작 완료 !!\n",
      "Warning: Your Kaggle API key is readable by other users on this system! To fix this, you can run 'chmod 600 /home/ubuntu/.kaggle/kaggle.json'\n",
      "Successfully submitted to Airbnb New User Bookings"
     ]
    }
   ],
   "source": [
    "submit_kaggle(df_train_new, df_test_new, lgb, \"submit/submit.csv\")"
   ]
  },
  {
   "cell_type": "markdown",
   "metadata": {},
   "source": [
    "### action_type EDA"
   ]
  },
  {
   "cell_type": "code",
   "execution_count": 65,
   "metadata": {},
   "outputs": [],
   "source": [
    "b = df_session.groupby([\"user_id\", \"action_type\"])[\"secs_elapsed\"].count().fillna(0)"
   ]
  },
  {
   "cell_type": "code",
   "execution_count": 73,
   "metadata": {},
   "outputs": [
    {
     "data": {
      "text/plain": [
       "<matplotlib.axes._subplots.AxesSubplot at 0x7f1682b49668>"
      ]
     },
     "execution_count": 73,
     "metadata": {},
     "output_type": "execute_result"
    },
    {
     "data": {
      "image/png": "[encoded data removed]",
      "text/plain": [
       "<matplotlib.figure.Figure at 0x7f1682ef97f0>"
      ]
     },
     "metadata": {},
     "output_type": "display_data"
    }
   ],
   "source": [
    "sns.heatmap(b.unstack().fillna(0).corr())"
   ]
  },
  {
   "cell_type": "markdown",
   "metadata": {},
   "source": [
    "- data-view 서로 상관관계가 높음\n",
    "- data-click, click-view 상관관계가 높음"
   ]
  }
 ],
 "metadata": {
  "kernelspec": {
   "display_name": "Python 3",
   "language": "python",
   "name": "python3"
  },
  "language_info": {
   "codemirror_mode": {
    "name": "ipython",
    "version": 3
   },
   "file_extension": ".py",
   "mimetype": "text/x-python",
   "name": "python",
   "nbconvert_exporter": "python",
   "pygments_lexer": "ipython3",
   "version": "3.6.2"
  }
 },
 "nbformat": 4,
 "nbformat_minor": 2
}
