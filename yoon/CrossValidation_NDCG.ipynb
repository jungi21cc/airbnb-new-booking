{
 "cells": [
  {
   "cell_type": "code",
   "execution_count": 1,
   "metadata": {},
   "outputs": [],
   "source": [
    "import pandas as pd\n",
    "import numpy as np"
   ]
  },
  {
   "cell_type": "markdown",
   "metadata": {},
   "source": [
    "### 1. Load Data for test"
   ]
  },
  {
   "cell_type": "code",
   "execution_count": 2,
   "metadata": {},
   "outputs": [
    {
     "name": "stderr",
     "output_type": "stream",
     "text": [
      "/home/ubuntu/anaconda3/lib/python3.6/site-packages/IPython/core/interactiveshell.py:2698: DtypeWarning: Columns (13,14,15,16) have mixed types. Specify dtype option on import or set low_memory=False.\n",
      "  interactivity=interactivity, compiler=compiler, result=result)\n"
     ]
    }
   ],
   "source": [
    "df_train = pd.read_csv(\"../data/train_new.csv\")\n",
    "df_train_target = df_train.filter(items = [\"id\", \"country_destination\"])"
   ]
  },
  {
   "cell_type": "code",
   "execution_count": 25,
   "metadata": {},
   "outputs": [],
   "source": [
    "df_test = pd.read_csv(\"../data/test_new.csv\")"
   ]
  },
  {
   "cell_type": "code",
   "execution_count": 3,
   "metadata": {},
   "outputs": [],
   "source": [
    "df_train_submit = pd.read_csv(\"../data/submit_train.csv\")"
   ]
  },
  {
   "cell_type": "code",
   "execution_count": 4,
   "metadata": {},
   "outputs": [],
   "source": [
    "df_train_submit[\"country\"] = df_train_submit[\"country\"].replace({1 : \"NDF\", 2 : \"US\", 3 : \"other\", 4 : \"FR\", 5 : \"IT\"})"
   ]
  },
  {
   "cell_type": "code",
   "execution_count": 5,
   "metadata": {},
   "outputs": [
    {
     "data": {
      "text/plain": [
       "((1067255, 2), (213451, 2))"
      ]
     },
     "execution_count": 5,
     "metadata": {},
     "output_type": "execute_result"
    }
   ],
   "source": [
    "df_train_submit.shape, df_train_target.shape"
   ]
  },
  {
   "cell_type": "code",
   "execution_count": 6,
   "metadata": {},
   "outputs": [],
   "source": [
    "df_train_tmp = df_train.filter(items = [\"id\", \"ac_month\", \"ac_day\", \"country_destination\"])"
   ]
  },
  {
   "cell_type": "code",
   "execution_count": 27,
   "metadata": {},
   "outputs": [],
   "source": [
    "df_test_tmp = df_test.filter(items = [\"id\", \"ac_month\", \"ac_day\"])"
   ]
  },
  {
   "cell_type": "markdown",
   "metadata": {},
   "source": [
    "### 2. nDCG_score"
   ]
  },
  {
   "cell_type": "code",
   "execution_count": 7,
   "metadata": {},
   "outputs": [],
   "source": [
    "def nDCG_score(df_submit, df_target):\n",
    "    len_target =len(df_target)\n",
    "    sum_dcg = 0;\n",
    "    \n",
    "    df_merge = df_submit.merge(df_target, how = \"left\", left_on = \"id\", right_on = \"id\")\n",
    "    \n",
    "    for idx in range(len_target):\n",
    "        df_tmp = df_merge[idx * 5:(idx * 5) + 5]\n",
    "        for i in range(5):\n",
    "            if df_tmp[\"country\"].iloc[i] == df_tmp[\"country_destination\"].iloc[i]:\n",
    "                sum_dcg += 1 / np.log2(i + 1 + 1)\n",
    "        \n",
    "    return sum_dcg / len_target"
   ]
  },
  {
   "cell_type": "code",
   "execution_count": 8,
   "metadata": {},
   "outputs": [],
   "source": [
    "# test - nDCG_score\n",
    "# nDCG_score(df_train_submit, df_train_target)"
   ]
  },
  {
   "cell_type": "markdown",
   "metadata": {},
   "source": [
    "### 3. make submit list "
   ]
  },
  {
   "cell_type": "code",
   "execution_count": 45,
   "metadata": {},
   "outputs": [],
   "source": [
    "# train data 입력시 id, target 모두 넣어주어야 한다. \n",
    "# test data 입력시 id 모두 넣어주어야 한다.\n",
    "def submit_kaggle(df_train, df_test, model, path, user_id = \"id\", target = \"country_destination\"):\n",
    "    le = LabelEncoder()\n",
    "\n",
    "    # feature, target 전처리\n",
    "    y_train = le.fit_transform(df_train[target])\n",
    "    X_train = df_train.drop([target, user_id], axis = 1)\n",
    "\n",
    "    X_test_id = df_test[user_id] # id 따로 정의\n",
    "    X_test = df_test.drop([user_id], axis = 1)\n",
    "\n",
    "    # train data set으로 fitting\n",
    "    model = model.fit(X_train, y_train)\n",
    "    predic_proba = model.predict_proba(X_test)\n",
    "\n",
    "    # submit data, predict data 생성\n",
    "    df_submit = pd.DataFrame(columns=[\"id\", \"country\"])\n",
    "\n",
    "    ids = []\n",
    "    cts = []\n",
    "    for i in range(len(X_test_id)):\n",
    "        idx = X_test_id.iloc[i]\n",
    "        ids += [idx] * 5\n",
    "        cts += le.inverse_transform(np.argsort(predic_proba[i])[::-1])[:5].tolist()\n",
    "\n",
    "    df_submit[\"id\"] = ids\n",
    "    df_submit[\"country\"] = cts\n",
    "\n",
    "    df_submit.to_csv(path, index = False)\n",
    "\n",
    "    !kaggle competitions submit -c airbnb-recruiting-new-user-bookings -f {path} -m \"Message\""
   ]
  },
  {
   "cell_type": "code",
   "execution_count": 46,
   "metadata": {},
   "outputs": [
    {
     "name": "stdout",
     "output_type": "stream",
     "text": [
      "Warning: Your Kaggle API key is readable by other users on this system! To fix this, you can run 'chmod 600 /home/ubuntu/.kaggle/kaggle.json'\n",
      "Successfully submitted to Airbnb New User Bookings"
     ]
    }
   ],
   "source": [
    "# test - submit_kaggle\n",
    "submit_kaggle(df_train_tmp, df_test_tmp, GaussianNB(), \"submit/submit.csv\")"
   ]
  },
  {
   "cell_type": "markdown",
   "metadata": {},
   "source": [
    "### 4. K-Fold nDCG"
   ]
  },
  {
   "cell_type": "code",
   "execution_count": 10,
   "metadata": {},
   "outputs": [],
   "source": [
    "from sklearn.preprocessing import LabelEncoder"
   ]
  },
  {
   "cell_type": "code",
   "execution_count": 11,
   "metadata": {},
   "outputs": [],
   "source": [
    "from sklearn.model_selection import KFold"
   ]
  },
  {
   "cell_type": "code",
   "execution_count": 12,
   "metadata": {},
   "outputs": [],
   "source": [
    "from sklearn.naive_bayes import GaussianNB "
   ]
  },
  {
   "cell_type": "code",
   "execution_count": 13,
   "metadata": {},
   "outputs": [
    {
     "data": {
      "text/plain": [
       "213451"
      ]
     },
     "execution_count": 13,
     "metadata": {},
     "output_type": "execute_result"
    }
   ],
   "source": [
    "len(df_train_tmp)"
   ]
  },
  {
   "cell_type": "code",
   "execution_count": 24,
   "metadata": {},
   "outputs": [],
   "source": [
    "# input : train_data, model, target, k\n",
    "# output : ndcg score of cross valiation\n",
    "def cross_val_ndcg(df_train, model, user_id = \"id\", target = \"country_destination\" k = 5):\n",
    "    # 준비\n",
    "    cv = KFold(n_splits=k, shuffle=True, random_state=0)\n",
    "    le = LabelEncoder()\n",
    "\n",
    "    sum_ndcg = 0\n",
    "\n",
    "    # feature, target 전처리\n",
    "    y = df_train[target]\n",
    "    y_label = le.fit_transform(y)\n",
    "    X_id = df_train[user_id] # id 따로 정의\n",
    "    X = df_train.drop([target, user_id], axis = 1)\n",
    "\n",
    "    # data를 k개로 분리\n",
    "    for idx_k, (train_index, test_index) in enumerate(cv.split(df_train)):\n",
    "        ar_train_target_set = y.values[train_index]\n",
    "        ar_train_feature_set = X.values[train_index]\n",
    "\n",
    "        ar_test_target_set = y.values[test_index]\n",
    "        ar_test_feature_set = X.values[test_index]\n",
    "        ar_test_id = X_id[test_index]\n",
    "\n",
    "    #     print(ar_train_feature_set.shape, ar_test_feature_set.shape, ar_test_id.shape)\n",
    "\n",
    "        # train data set으로 fitting\n",
    "        model = model.fit(ar_train_feature_set, ar_train_target_set)\n",
    "        predic_proba = model.predict_proba(ar_test_feature_set)\n",
    "\n",
    "        # submit data, predict data 생성\n",
    "        df_test_submit = pd.DataFrame(columns=[user_id, 'country'])\n",
    "        df_test_predict = pd.DataFrame(columns=[user_id, target])\n",
    "\n",
    "        ids = []\n",
    "        cts = []\n",
    "        for i in range(len(ar_test_target_set)):\n",
    "            idx = ar_test_id.iloc[i]\n",
    "            ids += [idx] * 5\n",
    "            cts += le.inverse_transform(np.argsort(predic_proba[i])[::-1])[:5].tolist()\n",
    "\n",
    "        df_test_submit['id'] = ids\n",
    "        df_test_submit['country'] = cts\n",
    "\n",
    "        df_test_predict[\"id\"] = ar_test_id\n",
    "        df_test_predict[target] = ar_test_target_set\n",
    "\n",
    "        # ndcg score 생성\n",
    "        ndcg = nDCG_score(df_test_submit, df_test_predict)\n",
    "        print(\"{}번째 스코어 : {}\".format(idx_k+1, ndcg))\n",
    "        sum_ndcg += ndcg\n",
    "\n",
    "    return sum_ndcg / k"
   ]
  },
  {
   "cell_type": "code",
   "execution_count": 23,
   "metadata": {},
   "outputs": [
    {
     "name": "stdout",
     "output_type": "stream",
     "text": [
      "0번째 스코어 : 0.8082220271659184\n",
      "1번째 스코어 : 0.8063154466967162\n",
      "2번째 스코어 : 0.8060016846117946\n",
      "3번째 스코어 : 0.8063452896890533\n",
      "4번째 스코어 : 0.8071058422312227\n"
     ]
    },
    {
     "data": {
      "text/plain": [
       "0.80679805807894101"
      ]
     },
     "execution_count": 23,
     "metadata": {},
     "output_type": "execute_result"
    }
   ],
   "source": [
    "# test - cross_val_ndcg\n",
    "cross_val_ndcg(df_train_tmp, GaussianNB(), k = 5)"
   ]
  },
  {
   "cell_type": "code",
   "execution_count": null,
   "metadata": {},
   "outputs": [],
   "source": []
  }
 ],
 "metadata": {
  "kernelspec": {
   "display_name": "Python 3",
   "language": "python",
   "name": "python3"
  },
  "language_info": {
   "codemirror_mode": {
    "name": "ipython",
    "version": 3
   },
   "file_extension": ".py",
   "mimetype": "text/x-python",
   "name": "python",
   "nbconvert_exporter": "python",
   "pygments_lexer": "ipython3",
   "version": "3.6.2"
  }
 },
 "nbformat": 4,
 "nbformat_minor": 2
}
