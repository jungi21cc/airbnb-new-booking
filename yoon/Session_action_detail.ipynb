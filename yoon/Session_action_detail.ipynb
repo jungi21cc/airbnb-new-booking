{
 "cells": [
  {
   "cell_type": "code",
   "execution_count": 1,
   "metadata": {},
   "outputs": [],
   "source": [
    "import pandas as pd\n",
    "import numpy as np\n",
    "import matplotlib.pyplot as plt\n",
    "from sklearn.preprocessing import LabelEncoder\n",
    "%matplotlib inline"
   ]
  },
  {
   "cell_type": "code",
   "execution_count": 2,
   "metadata": {},
   "outputs": [],
   "source": [
    "import seaborn as sns\n",
    "sns.set()"
   ]
  },
  {
   "cell_type": "code",
   "execution_count": 3,
   "metadata": {},
   "outputs": [],
   "source": [
    "import warnings\n",
    "warnings.filterwarnings(\"ignore\")"
   ]
  },
  {
   "cell_type": "code",
   "execution_count": 4,
   "metadata": {},
   "outputs": [],
   "source": [
    "from lightgbm import LGBMClassifier"
   ]
  },
  {
   "cell_type": "code",
   "execution_count": 5,
   "metadata": {},
   "outputs": [],
   "source": [
    "from sklearn.preprocessing import LabelEncoder\n",
    "from sklearn.model_selection import cross_val_score\n",
    "# train data 입력시 id, target 모두 넣어주어야 한다. \n",
    "# test data 입력시 id 모두 넣어주어야 한다.\n",
    "# from sklearn.preprocessing import LabelEncoder 해주어야 함\n",
    "def train_model(df_train, df_test, model, path, is_submit = True, is_score = True, user_id = \"id\", target = \"country_destination\"):\n",
    "    le = LabelEncoder()\n",
    "\n",
    "    # feature, target 전처리\n",
    "    if is_submit == True:\n",
    "        y_train = le.fit_transform(df_train[target])\n",
    "    else:\n",
    "        y_train = df_train[target]\n",
    "    X_train = df_train.drop([target, user_id], axis = 1)\n",
    "\n",
    "    X_test_id = df_test[user_id] # id 따로 정의\n",
    "    X_test = df_test.drop([user_id], axis = 1)\n",
    "\n",
    "    # train data set으로 fitting\n",
    "    print(\"model fitting 시작 !!\")\n",
    "    model = model.fit(X_train, y_train)\n",
    "    predic_proba = model.predict_proba(X_test)\n",
    "    print(\"model fitting 완료 !!\")\n",
    "    \n",
    "    if is_submit == True:\n",
    "        # submit data, predict data 생성\n",
    "        df_submit = pd.DataFrame(columns=[\"id\", \"country\"])\n",
    "\n",
    "        ids = []\n",
    "        cts = []\n",
    "        for i in range(len(X_test_id)):\n",
    "            idx = X_test_id.iloc[i]\n",
    "            ids += [idx] * 5\n",
    "            cts += le.inverse_transform(np.argsort(predic_proba[i])[::-1])[:5].tolist()\n",
    "\n",
    "        df_submit[\"id\"] = ids\n",
    "        df_submit[\"country\"] = cts\n",
    "\n",
    "        df_submit.to_csv(path, index = False)\n",
    "        print(\"csv file 제작 완료 !!\")\n",
    "\n",
    "        !kaggle competitions submit -c airbnb-recruiting-new-user-bookings -f {path} -m \"Message\"\n",
    "    \n",
    "    if is_score == True:\n",
    "        print(\"cross valiation 시작 !!\")\n",
    "        print(cross_val_score(model, X_train, y_train, scoring = \"neg_log_loss\", cv = 3, n_jobs = 4))\n",
    "        print(\"cross valiation 끝 !!\")\n",
    "    \n",
    "    return model"
   ]
  },
  {
   "cell_type": "markdown",
   "metadata": {},
   "source": [
    "### Load_data"
   ]
  },
  {
   "cell_type": "code",
   "execution_count": 6,
   "metadata": {},
   "outputs": [],
   "source": [
    "df_train = pd.read_csv(\"../data/train_age_action_count_lag_input.csv\")\n",
    "df_test = pd.read_csv(\"../data/test_age_action_count_lag_input.csv\")"
   ]
  },
  {
   "cell_type": "code",
   "execution_count": 7,
   "metadata": {},
   "outputs": [],
   "source": [
    "df_session = pd.read_csv(\"../data/sessions.csv\")"
   ]
  },
  {
   "cell_type": "code",
   "execution_count": 8,
   "metadata": {},
   "outputs": [],
   "source": [
    "lgb = LGBMClassifier(max_depth= 4, n_jobs=4)"
   ]
  },
  {
   "cell_type": "code",
   "execution_count": 9,
   "metadata": {},
   "outputs": [
    {
     "data": {
      "text/plain": [
       "((213451, 522), (62096, 521))"
      ]
     },
     "execution_count": 9,
     "metadata": {},
     "output_type": "execute_result"
    }
   ],
   "source": [
    "df_train.shape, df_test.shape"
   ]
  },
  {
   "cell_type": "markdown",
   "metadata": {},
   "source": [
    "### Make action_detail_count"
   ]
  },
  {
   "cell_type": "code",
   "execution_count": 10,
   "metadata": {},
   "outputs": [],
   "source": [
    "a = df_session.groupby([\"user_id\", \"action_detail\"])[\"secs_elapsed\"].count().unstack().fillna(0)\n",
    "a = pd.DataFrame(a)\n",
    "a.rename(columns = lambda x : \"detail_\" + x)\n",
    "df_train_new = df_train.merge(a, how = \"left\", left_on = \"id\", right_index = True)\n",
    "df_test_new = df_test.merge(a, how = \"left\", left_on = \"id\", right_index = True)"
   ]
  },
  {
   "cell_type": "code",
   "execution_count": 11,
   "metadata": {},
   "outputs": [],
   "source": [
    "df_train_new = df_train_new.fillna(0)\n",
    "df_test_new = df_test_new.fillna(0)"
   ]
  },
  {
   "cell_type": "code",
   "execution_count": 12,
   "metadata": {},
   "outputs": [
    {
     "data": {
      "text/plain": [
       "((213451, 677), (62096, 676))"
      ]
     },
     "execution_count": 12,
     "metadata": {},
     "output_type": "execute_result"
    }
   ],
   "source": [
    "df_train_new.shape, df_test_new.shape"
   ]
  },
  {
   "cell_type": "markdown",
   "metadata": {},
   "source": [
    "### Merge elapse secs, device_type mode"
   ]
  },
  {
   "cell_type": "code",
   "execution_count": 13,
   "metadata": {},
   "outputs": [],
   "source": [
    "df_psh_session = pd.read_csv(\"../data/merged_sessions.csv\")"
   ]
  },
  {
   "cell_type": "code",
   "execution_count": 14,
   "metadata": {},
   "outputs": [],
   "source": [
    "df_psh_session.rename(columns = {\"secs_elapsed\":\"secs_median\"}, inplace = True)"
   ]
  },
  {
   "cell_type": "code",
   "execution_count": 15,
   "metadata": {},
   "outputs": [],
   "source": [
    "df_psh_session_tmp = pd.get_dummies(df_psh_session[[\"secs_median\", \"secs_sum\", \"secs_mean\"]])"
   ]
  },
  {
   "cell_type": "code",
   "execution_count": 16,
   "metadata": {},
   "outputs": [],
   "source": [
    "df_psh_session_tmp[\"id\"] = df_psh_session[\"id\"]"
   ]
  },
  {
   "cell_type": "code",
   "execution_count": 17,
   "metadata": {},
   "outputs": [
    {
     "data": {
      "text/plain": [
       "(135483, 4)"
      ]
     },
     "execution_count": 17,
     "metadata": {},
     "output_type": "execute_result"
    }
   ],
   "source": [
    "df_psh_session_tmp.shape"
   ]
  },
  {
   "cell_type": "code",
   "execution_count": 18,
   "metadata": {},
   "outputs": [],
   "source": [
    "df_train_new = df_train_new.merge(df_psh_session_tmp, how = \"left\", left_on = \"id\", right_on = \"id\")"
   ]
  },
  {
   "cell_type": "code",
   "execution_count": 19,
   "metadata": {},
   "outputs": [],
   "source": [
    "df_test_new = df_test_new.merge(df_psh_session_tmp, how = \"left\", left_on = \"id\", right_on = \"id\")"
   ]
  },
  {
   "cell_type": "code",
   "execution_count": 20,
   "metadata": {},
   "outputs": [],
   "source": [
    "df_train_new = df_train_new.fillna(0)\n",
    "df_test_new = df_test_new.fillna(0)"
   ]
  },
  {
   "cell_type": "code",
   "execution_count": null,
   "metadata": {},
   "outputs": [
    {
     "data": {
      "text/plain": [
       "((213451, 680), (62096, 679))"
      ]
     },
     "execution_count": 21,
     "metadata": {},
     "output_type": "execute_result"
    }
   ],
   "source": [
    "df_train_new.shape, df_test_new.shape"
   ]
  },
  {
   "cell_type": "code",
   "execution_count": null,
   "metadata": {},
   "outputs": [
    {
     "name": "stdout",
     "output_type": "stream",
     "text": [
      "model fitting 시작 !!\n",
      "model fitting 완료 !!\n",
      "csv file 제작 완료 !!\n",
      "Warning: Your Kaggle API key is readable by other users on this system! To fix this, you can run 'chmod 600 /home/ubuntu/.kaggle/kaggle.json'\n"
     ]
    }
   ],
   "source": [
    "train_model(df_train_new, df_test_new, lgb, \"submit/submit.csv\", is_score = False)"
   ]
  },
  {
   "cell_type": "code",
   "execution_count": null,
   "metadata": {},
   "outputs": [],
   "source": []
  }
 ],
 "metadata": {
  "kernelspec": {
   "display_name": "Python 3",
   "language": "python",
   "name": "python3"
  },
  "language_info": {
   "codemirror_mode": {
    "name": "ipython",
    "version": 3
   },
   "file_extension": ".py",
   "mimetype": "text/x-python",
   "name": "python",
   "nbconvert_exporter": "python",
   "pygments_lexer": "ipython3",
   "version": "3.6.2"
  }
 },
 "nbformat": 4,
 "nbformat_minor": 2
}
