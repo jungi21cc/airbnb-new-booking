{
 "cells": [
  {
   "cell_type": "markdown",
   "metadata": {},
   "source": [
    "# Kaggle : Airbnb New User Bookings"
   ]
  },
  {
   "cell_type": "code",
   "execution_count": 1,
   "metadata": {},
   "outputs": [],
   "source": [
    "from IPython.display import display\n",
    "import numpy as np\n",
    "import matplotlib.pyplot as plt\n",
    "import pandas as pd\n",
    "import mglearn\n",
    "import seaborn as sns\n",
    "\n",
    "%matplotlib inline\n",
    "\n",
    "from sklearn.ensemble import RandomForestRegressor\n",
    "from sklearn.datasets import make_regression"
   ]
  },
  {
   "cell_type": "code",
   "execution_count": 2,
   "metadata": {},
   "outputs": [],
   "source": [
    "import warnings\n",
    "warnings.filterwarnings(\"ignore\")"
   ]
  },
  {
   "cell_type": "markdown",
   "metadata": {},
   "source": [
    "# data"
   ]
  },
  {
   "cell_type": "markdown",
   "metadata": {},
   "source": [
    "# sessions"
   ]
  },
  {
   "cell_type": "code",
   "execution_count": 3,
   "metadata": {},
   "outputs": [
    {
     "data": {
      "text/html": [
       "<div>\n",
       "<style>\n",
       "    .dataframe thead tr:only-child th {\n",
       "        text-align: right;\n",
       "    }\n",
       "\n",
       "    .dataframe thead th {\n",
       "        text-align: left;\n",
       "    }\n",
       "\n",
       "    .dataframe tbody tr th {\n",
       "        vertical-align: top;\n",
       "    }\n",
       "</style>\n",
       "<table border=\"1\" class=\"dataframe\">\n",
       "  <thead>\n",
       "    <tr style=\"text-align: right;\">\n",
       "      <th></th>\n",
       "      <th>user_id</th>\n",
       "      <th>action</th>\n",
       "      <th>action_type</th>\n",
       "      <th>action_detail</th>\n",
       "      <th>device_type</th>\n",
       "      <th>secs_elapsed</th>\n",
       "    </tr>\n",
       "  </thead>\n",
       "  <tbody>\n",
       "    <tr>\n",
       "      <th>0</th>\n",
       "      <td>d1mm9tcy42</td>\n",
       "      <td>lookup</td>\n",
       "      <td>NaN</td>\n",
       "      <td>NaN</td>\n",
       "      <td>Windows Desktop</td>\n",
       "      <td>319.0</td>\n",
       "    </tr>\n",
       "    <tr>\n",
       "      <th>1</th>\n",
       "      <td>d1mm9tcy42</td>\n",
       "      <td>search_results</td>\n",
       "      <td>click</td>\n",
       "      <td>view_search_results</td>\n",
       "      <td>Windows Desktop</td>\n",
       "      <td>67753.0</td>\n",
       "    </tr>\n",
       "    <tr>\n",
       "      <th>2</th>\n",
       "      <td>d1mm9tcy42</td>\n",
       "      <td>lookup</td>\n",
       "      <td>NaN</td>\n",
       "      <td>NaN</td>\n",
       "      <td>Windows Desktop</td>\n",
       "      <td>301.0</td>\n",
       "    </tr>\n",
       "    <tr>\n",
       "      <th>3</th>\n",
       "      <td>d1mm9tcy42</td>\n",
       "      <td>search_results</td>\n",
       "      <td>click</td>\n",
       "      <td>view_search_results</td>\n",
       "      <td>Windows Desktop</td>\n",
       "      <td>22141.0</td>\n",
       "    </tr>\n",
       "    <tr>\n",
       "      <th>4</th>\n",
       "      <td>d1mm9tcy42</td>\n",
       "      <td>lookup</td>\n",
       "      <td>NaN</td>\n",
       "      <td>NaN</td>\n",
       "      <td>Windows Desktop</td>\n",
       "      <td>435.0</td>\n",
       "    </tr>\n",
       "  </tbody>\n",
       "</table>\n",
       "</div>"
      ],
      "text/plain": [
       "      user_id          action action_type        action_detail  \\\n",
       "0  d1mm9tcy42          lookup         NaN                  NaN   \n",
       "1  d1mm9tcy42  search_results       click  view_search_results   \n",
       "2  d1mm9tcy42          lookup         NaN                  NaN   \n",
       "3  d1mm9tcy42  search_results       click  view_search_results   \n",
       "4  d1mm9tcy42          lookup         NaN                  NaN   \n",
       "\n",
       "       device_type  secs_elapsed  \n",
       "0  Windows Desktop         319.0  \n",
       "1  Windows Desktop       67753.0  \n",
       "2  Windows Desktop         301.0  \n",
       "3  Windows Desktop       22141.0  \n",
       "4  Windows Desktop         435.0  "
      ]
     },
     "execution_count": 3,
     "metadata": {},
     "output_type": "execute_result"
    }
   ],
   "source": [
    "#10M data\n",
    "sessions = pd.read_csv(\"data/sessions.csv\")\n",
    "sessions.head()"
   ]
  },
  {
   "cell_type": "code",
   "execution_count": 4,
   "metadata": {},
   "outputs": [
    {
     "name": "stdout",
     "output_type": "stream",
     "text": [
      "<class 'pandas.core.frame.DataFrame'>\n",
      "RangeIndex: 10567737 entries, 0 to 10567736\n",
      "Data columns (total 6 columns):\n",
      "user_id          object\n",
      "action           object\n",
      "action_type      object\n",
      "action_detail    object\n",
      "device_type      object\n",
      "secs_elapsed     float64\n",
      "dtypes: float64(1), object(5)\n",
      "memory usage: 483.8+ MB\n"
     ]
    }
   ],
   "source": [
    "sessions.info()"
   ]
  },
  {
   "cell_type": "code",
   "execution_count": 5,
   "metadata": {},
   "outputs": [
    {
     "data": {
      "text/plain": [
       "user_id            34496\n",
       "action             79626\n",
       "action_type      1126204\n",
       "action_detail    1126204\n",
       "device_type            0\n",
       "secs_elapsed      136031\n",
       "dtype: int64"
      ]
     },
     "execution_count": 5,
     "metadata": {},
     "output_type": "execute_result"
    }
   ],
   "source": [
    "sessions.isnull().sum()"
   ]
  },
  {
   "cell_type": "code",
   "execution_count": 6,
   "metadata": {},
   "outputs": [
    {
     "data": {
      "text/plain": [
       "show                           2768278\n",
       "index                           843699\n",
       "search_results                  725226\n",
       "personalize                     706824\n",
       "search                          536057\n",
       "ajax_refresh_subtotal           487744\n",
       "update                          365130\n",
       "similar_listings                364624\n",
       "social_connections              339000\n",
       "reviews                         320591\n",
       "active                          188036\n",
       "similar_listings_v2             168788\n",
       "lookup                          162041\n",
       "create                          155887\n",
       "dashboard                       152952\n",
       "header_userpic                  141830\n",
       "collections                     124417\n",
       "edit                            109083\n",
       "campaigns                       105028\n",
       "track_page_view                  81117\n",
       "unavailabilities                 78317\n",
       "qt2                              64651\n",
       "notifications                    59392\n",
       "confirm_email                    58726\n",
       "requested                        57034\n",
       "identity                         53631\n",
       "ajax_check_dates                 52517\n",
       "show_personalize                 50434\n",
       "ask_question                     44063\n",
       "listings                         43656\n",
       "                                ...   \n",
       "preapproval                          2\n",
       "views_campaign_rules                 2\n",
       "tos_2014                             2\n",
       "sandy                                2\n",
       "stpcv                                2\n",
       "refund_guest_cancellation            2\n",
       "views_campaign                       2\n",
       "confirmation                         2\n",
       "envoy_bank_details_redirect          2\n",
       "report                               2\n",
       "special_offer                        2\n",
       "south-america                        2\n",
       "unsubscribe                          2\n",
       "recommendation_page                  2\n",
       "use_mobile_site                      2\n",
       "plaxo_cb                             1\n",
       "set_minimum_payout_amount            1\n",
       "reactivate                           1\n",
       "acculynk_bin_check_failed            1\n",
       "wishlists                            1\n",
       "update_message                       1\n",
       "nyan                                 1\n",
       "events                               1\n",
       "sldf                                 1\n",
       "deactivated                          1\n",
       "deauthorize                          1\n",
       "revert_to_admin                      1\n",
       "deactivate                           1\n",
       "desks                                1\n",
       "host_cancel                          1\n",
       "Name: action, Length: 359, dtype: int64"
      ]
     },
     "execution_count": 6,
     "metadata": {},
     "output_type": "execute_result"
    }
   ],
   "source": [
    "#359 action type\n",
    "sessions['action'].value_counts()"
   ]
  },
  {
   "cell_type": "code",
   "execution_count": 7,
   "metadata": {},
   "outputs": [
    {
     "data": {
      "text/plain": [
       "view                3560902\n",
       "data                2103770\n",
       "click               1996183\n",
       "-unknown-           1031170\n",
       "submit               623357\n",
       "message_post          87103\n",
       "partner_callback      19132\n",
       "booking_request       18773\n",
       "modify                 1139\n",
       "booking_response          4\n",
       "Name: action_type, dtype: int64"
      ]
     },
     "execution_count": 7,
     "metadata": {},
     "output_type": "execute_result"
    }
   ],
   "source": [
    "sessions['action_type'].value_counts()"
   ]
  },
  {
   "cell_type": "code",
   "execution_count": 8,
   "metadata": {},
   "outputs": [
    {
     "data": {
      "text/plain": [
       "view_search_results               1776885\n",
       "p3                                1376550\n",
       "-unknown-                         1031141\n",
       "wishlist_content_update            706824\n",
       "user_profile                       656839\n",
       "change_trip_characteristics        487744\n",
       "similar_listings                   364624\n",
       "user_social_connections            336799\n",
       "update_listing                     269779\n",
       "listing_reviews                    269021\n",
       "dashboard                          152952\n",
       "user_wishlists                     152672\n",
       "header_userpic                     141830\n",
       "message_thread                     132395\n",
       "edit_profile                       108686\n",
       "message_post                        87103\n",
       "contact_host                        81041\n",
       "unavailable_dates                   77795\n",
       "confirm_email_link                  58422\n",
       "create_user                         54878\n",
       "change_contact_host_dates           52517\n",
       "user_profile_content_update         50434\n",
       "user_reviews                        49665\n",
       "p5                                  48167\n",
       "login                               38378\n",
       "your_trips                          38195\n",
       "p1                                  37976\n",
       "notifications                       37355\n",
       "profile_verifications               33434\n",
       "reservations                        32481\n",
       "                                   ...   \n",
       "share                                 160\n",
       "view_security_checks                  135\n",
       "remove_dashboard_alert                114\n",
       "delete_listing                        112\n",
       "place_worth                           108\n",
       "create_payment_instrument              86\n",
       "complete_booking                       75\n",
       "view_identity_verifications            57\n",
       "calculate_worth                        56\n",
       "alteration_request                     42\n",
       "view_resolutions                       42\n",
       "change_availability                    42\n",
       "view_user_real_names                   38\n",
       "phone_numbers                          27\n",
       "create_alteration_request              27\n",
       "set_default_payment_instrument         19\n",
       "view_ghostings                         19\n",
       "view_ghosting_reasons                  19\n",
       "homepage                               15\n",
       "respond_to_alteration_request          11\n",
       "deactivate_user_account                 9\n",
       "delete_payment_instrument               6\n",
       "delete_listing_description              6\n",
       "booking                                 4\n",
       "host_respond                            4\n",
       "special_offer_field                     3\n",
       "host_respond_page                       2\n",
       "tos_2014                                2\n",
       "host_refund_guest                       2\n",
       "host_standard_suspension                1\n",
       "Name: action_detail, Length: 155, dtype: int64"
      ]
     },
     "execution_count": 8,
     "metadata": {},
     "output_type": "execute_result"
    }
   ],
   "source": [
    "#155 action detail\n",
    "sessions['action_detail'].value_counts()"
   ]
  },
  {
   "cell_type": "code",
   "execution_count": 9,
   "metadata": {
    "collapsed": true
   },
   "outputs": [
    {
     "data": {
      "text/plain": [
       "count    1.043171e+07\n",
       "mean     1.940581e+04\n",
       "std      8.888424e+04\n",
       "min      0.000000e+00\n",
       "25%      2.290000e+02\n",
       "50%      1.147000e+03\n",
       "75%      8.444000e+03\n",
       "max      1.799977e+06\n",
       "Name: secs_elapsed, dtype: float64"
      ]
     },
     "execution_count": 9,
     "metadata": {},
     "output_type": "execute_result"
    }
   ],
   "source": [
    "sessions['secs_elapsed'].describe()"
   ]
  },
  {
   "cell_type": "markdown",
   "metadata": {},
   "source": [
    "# age_gender_bkts"
   ]
  },
  {
   "cell_type": "code",
   "execution_count": 10,
   "metadata": {},
   "outputs": [
    {
     "data": {
      "text/html": [
       "<div>\n",
       "<style>\n",
       "    .dataframe thead tr:only-child th {\n",
       "        text-align: right;\n",
       "    }\n",
       "\n",
       "    .dataframe thead th {\n",
       "        text-align: left;\n",
       "    }\n",
       "\n",
       "    .dataframe tbody tr th {\n",
       "        vertical-align: top;\n",
       "    }\n",
       "</style>\n",
       "<table border=\"1\" class=\"dataframe\">\n",
       "  <thead>\n",
       "    <tr style=\"text-align: right;\">\n",
       "      <th></th>\n",
       "      <th>age_bucket</th>\n",
       "      <th>country_destination</th>\n",
       "      <th>gender</th>\n",
       "      <th>population_in_thousands</th>\n",
       "      <th>year</th>\n",
       "    </tr>\n",
       "  </thead>\n",
       "  <tbody>\n",
       "    <tr>\n",
       "      <th>0</th>\n",
       "      <td>100+</td>\n",
       "      <td>AU</td>\n",
       "      <td>male</td>\n",
       "      <td>1.0</td>\n",
       "      <td>2015.0</td>\n",
       "    </tr>\n",
       "    <tr>\n",
       "      <th>1</th>\n",
       "      <td>95-99</td>\n",
       "      <td>AU</td>\n",
       "      <td>male</td>\n",
       "      <td>9.0</td>\n",
       "      <td>2015.0</td>\n",
       "    </tr>\n",
       "    <tr>\n",
       "      <th>2</th>\n",
       "      <td>90-94</td>\n",
       "      <td>AU</td>\n",
       "      <td>male</td>\n",
       "      <td>47.0</td>\n",
       "      <td>2015.0</td>\n",
       "    </tr>\n",
       "    <tr>\n",
       "      <th>3</th>\n",
       "      <td>85-89</td>\n",
       "      <td>AU</td>\n",
       "      <td>male</td>\n",
       "      <td>118.0</td>\n",
       "      <td>2015.0</td>\n",
       "    </tr>\n",
       "    <tr>\n",
       "      <th>4</th>\n",
       "      <td>80-84</td>\n",
       "      <td>AU</td>\n",
       "      <td>male</td>\n",
       "      <td>199.0</td>\n",
       "      <td>2015.0</td>\n",
       "    </tr>\n",
       "  </tbody>\n",
       "</table>\n",
       "</div>"
      ],
      "text/plain": [
       "  age_bucket country_destination gender  population_in_thousands    year\n",
       "0       100+                  AU   male                      1.0  2015.0\n",
       "1      95-99                  AU   male                      9.0  2015.0\n",
       "2      90-94                  AU   male                     47.0  2015.0\n",
       "3      85-89                  AU   male                    118.0  2015.0\n",
       "4      80-84                  AU   male                    199.0  2015.0"
      ]
     },
     "execution_count": 10,
     "metadata": {},
     "output_type": "execute_result"
    }
   ],
   "source": [
    "#21 age bucket (5 years) per gender by country\n",
    "#1K unit\n",
    "age_gender = pd.read_csv(\"data/age_gender_bkts.csv\")\n",
    "age_gender.head()"
   ]
  },
  {
   "cell_type": "code",
   "execution_count": 11,
   "metadata": {},
   "outputs": [
    {
     "name": "stdout",
     "output_type": "stream",
     "text": [
      "<class 'pandas.core.frame.DataFrame'>\n",
      "RangeIndex: 420 entries, 0 to 419\n",
      "Data columns (total 5 columns):\n",
      "age_bucket                 420 non-null object\n",
      "country_destination        420 non-null object\n",
      "gender                     420 non-null object\n",
      "population_in_thousands    420 non-null float64\n",
      "year                       420 non-null float64\n",
      "dtypes: float64(2), object(3)\n",
      "memory usage: 16.5+ KB\n"
     ]
    }
   ],
   "source": [
    "age_gender.info()"
   ]
  },
  {
   "cell_type": "markdown",
   "metadata": {},
   "source": [
    "# countries (destination)"
   ]
  },
  {
   "cell_type": "markdown",
   "metadata": {},
   "source": [
    "- AU = austrailia\n",
    "- CA = canada\n",
    "- DE = germany\n",
    "- ES = spain\n",
    "- FR = france\n",
    "- GB = england\n",
    "- IT = italia\n",
    "- NL = netherland \n",
    "- PT = Portugal\n",
    "- US = USA"
   ]
  },
  {
   "cell_type": "code",
   "execution_count": null,
   "metadata": {},
   "outputs": [],
   "source": [
    "countries = pd.read_csv(\"data/countries.csv\")\n",
    "countries"
   ]
  },
  {
   "cell_type": "code",
   "execution_count": null,
   "metadata": {},
   "outputs": [],
   "source": [
    "countries['country_destination'].value_counts()"
   ]
  },
  {
   "cell_type": "markdown",
   "metadata": {},
   "source": [
    "# submission"
   ]
  },
  {
   "cell_type": "code",
   "execution_count": null,
   "metadata": {
    "collapsed": true
   },
   "outputs": [],
   "source": [
    "# submission = pd.read_csv(\"data/sample_submission_NDF.csv\")\n",
    "# submission.head()"
   ]
  },
  {
   "cell_type": "code",
   "execution_count": null,
   "metadata": {
    "collapsed": true
   },
   "outputs": [],
   "source": [
    "# submission.info()"
   ]
  },
  {
   "cell_type": "markdown",
   "metadata": {},
   "source": [
    "# test"
   ]
  },
  {
   "cell_type": "code",
   "execution_count": null,
   "metadata": {},
   "outputs": [],
   "source": [
    "test = pd.read_csv(\"data/test_users.csv\")\n",
    "test.head()"
   ]
  },
  {
   "cell_type": "code",
   "execution_count": null,
   "metadata": {},
   "outputs": [],
   "source": [
    "test.isnull().sum()"
   ]
  },
  {
   "cell_type": "markdown",
   "metadata": {},
   "source": [
    "# train"
   ]
  },
  {
   "cell_type": "code",
   "execution_count": null,
   "metadata": {},
   "outputs": [],
   "source": [
    "train = pd.read_csv(\"data/train_users_2.csv\")\n",
    "train.head()"
   ]
  },
  {
   "cell_type": "code",
   "execution_count": null,
   "metadata": {},
   "outputs": [],
   "source": [
    "train.isnull().sum()"
   ]
  },
  {
   "cell_type": "markdown",
   "metadata": {},
   "source": [
    "# drop date_first_booking column"
   ]
  },
  {
   "cell_type": "code",
   "execution_count": null,
   "metadata": {
    "collapsed": true
   },
   "outputs": [],
   "source": [
    "train = train.drop(labels=['date_first_booking'], axis=1)\n",
    "test = test.drop(labels=['date_first_booking'], axis=1)"
   ]
  },
  {
   "cell_type": "markdown",
   "metadata": {},
   "source": [
    "# first_affiliate_tracked nan data manipulation"
   ]
  },
  {
   "cell_type": "code",
   "execution_count": null,
   "metadata": {
    "collapsed": true
   },
   "outputs": [],
   "source": [
    "train['first_affiliate_tracked'] = train.first_affiliate_tracked.replace(np.nan, \"untracked\")\n",
    "test['first_affiliate_tracked'] = test.first_affiliate_tracked.replace(np.nan, \"untracked\")"
   ]
  },
  {
   "cell_type": "markdown",
   "metadata": {},
   "source": [
    "# age"
   ]
  },
  {
   "cell_type": "code",
   "execution_count": null,
   "metadata": {},
   "outputs": [],
   "source": [
    "print(len(train[train['age'] > 120]))"
   ]
  },
  {
   "cell_type": "code",
   "execution_count": null,
   "metadata": {
    "scrolled": true
   },
   "outputs": [],
   "source": [
    "train[train['age'] > 120]"
   ]
  },
  {
   "cell_type": "code",
   "execution_count": null,
   "metadata": {},
   "outputs": [],
   "source": [
    "train_copy = train.copy()\n",
    "train_copy = train_copy[train_copy['age'] <= 120]\n",
    "train_copy.isnull().sum()"
   ]
  },
  {
   "cell_type": "code",
   "execution_count": null,
   "metadata": {},
   "outputs": [],
   "source": [
    "train_copy = train.copy()\n",
    "train_copy = train_copy.dropna()\n",
    "train_copy = train_copy[train_copy['age'] <= 120]\n",
    "\n",
    "ax1 = sns.distplot(train_copy['age'])\n",
    "plt.show()\n",
    "ax2 = sns.boxplot(x = train_copy['country_destination'], y = train_copy['age'], data = train_copy)\n",
    "plt.show()\n",
    "# ax3 = sns.swarmplot(x = train_copy['country_destination'], y = train_copy['age'], data = train_copy)\n",
    "# plt.show()"
   ]
  },
  {
   "cell_type": "markdown",
   "metadata": {},
   "source": [
    "# age nan value manipulation\n",
    "\n",
    "- DBSCAN\n",
    "- heatmap age vs related features"
   ]
  },
  {
   "cell_type": "code",
   "execution_count": null,
   "metadata": {
    "collapsed": true
   },
   "outputs": [],
   "source": []
  },
  {
   "cell_type": "markdown",
   "metadata": {},
   "source": [
    "# pre processing"
   ]
  },
  {
   "cell_type": "code",
   "execution_count": 12,
   "metadata": {
    "collapsed": true
   },
   "outputs": [],
   "source": [
    "import pandas as pd"
   ]
  },
  {
   "cell_type": "code",
   "execution_count": 13,
   "metadata": {
    "collapsed": true
   },
   "outputs": [],
   "source": [
    "df_test_id = pd.read_csv(\"data/test_users.csv\")"
   ]
  },
  {
   "cell_type": "code",
   "execution_count": 14,
   "metadata": {
    "collapsed": true
   },
   "outputs": [],
   "source": [
    "df_test_id = df_test_id['id']"
   ]
  },
  {
   "cell_type": "code",
   "execution_count": 15,
   "metadata": {},
   "outputs": [],
   "source": [
    "df_sample = pd.read_csv('data/sample_submission_NDF.csv')"
   ]
  },
  {
   "cell_type": "code",
   "execution_count": 16,
   "metadata": {
    "collapsed": true
   },
   "outputs": [],
   "source": [
    "df_train = pd.read_csv(\"data/train_users_2.csv\")\n",
    "df_test = pd.read_csv(\"data/test_users.csv\")\n",
    "df_all = pd.concat([df_train, df_test])"
   ]
  },
  {
   "cell_type": "code",
   "execution_count": 17,
   "metadata": {
    "collapsed": true
   },
   "outputs": [],
   "source": [
    "df_target = df_train[\"country_destination\"]\n",
    "df_values = df_train[\"country_destination\"].values"
   ]
  },
  {
   "cell_type": "code",
   "execution_count": 18,
   "metadata": {
    "collapsed": true
   },
   "outputs": [],
   "source": [
    "df_all = df_all.drop(\"age\", axis = 1)\n",
    "df_all = df_all.drop(\"date_first_booking\", axis = 1)"
   ]
  },
  {
   "cell_type": "code",
   "execution_count": 19,
   "metadata": {
    "collapsed": true
   },
   "outputs": [],
   "source": [
    "df_all[\"first_affiliate_tracked\"].fillna(\"untracked\", inplace = True)"
   ]
  },
  {
   "cell_type": "code",
   "execution_count": 20,
   "metadata": {},
   "outputs": [
    {
     "data": {
      "text/plain": [
       "affiliate_channel              0\n",
       "affiliate_provider             0\n",
       "country_destination        62096\n",
       "date_account_created           0\n",
       "first_affiliate_tracked        0\n",
       "first_browser                  0\n",
       "first_device_type              0\n",
       "gender                         0\n",
       "id                             0\n",
       "language                       0\n",
       "signup_app                     0\n",
       "signup_flow                    0\n",
       "signup_method                  0\n",
       "timestamp_first_active         0\n",
       "dtype: int64"
      ]
     },
     "execution_count": 20,
     "metadata": {},
     "output_type": "execute_result"
    }
   ],
   "source": [
    "df_all.isnull().sum()"
   ]
  },
  {
   "cell_type": "code",
   "execution_count": 21,
   "metadata": {
    "collapsed": true
   },
   "outputs": [],
   "source": [
    "df_all[\"date_account_created\"] = pd.to_datetime(df_all[\"date_account_created\"], format = \"%Y-%m-%d\")"
   ]
  },
  {
   "cell_type": "code",
   "execution_count": 22,
   "metadata": {
    "collapsed": true
   },
   "outputs": [],
   "source": [
    "df_all[\"timestamp_first_active\"] = pd.to_datetime(df_all[\"timestamp_first_active\"], format=\"%Y%m%d%H%M%S\", errors='ignore')"
   ]
  },
  {
   "cell_type": "code",
   "execution_count": 23,
   "metadata": {
    "collapsed": true
   },
   "outputs": [],
   "source": [
    "df_all[\"ac_year\"] = df_all[\"date_account_created\"].apply(lambda x : x.year)\n",
    "df_all[\"ac_month\"] = df_all[\"date_account_created\"].apply(lambda x : x.month)\n",
    "df_all[\"ac_day\"] = df_all[\"date_account_created\"].apply(lambda x : x.day)"
   ]
  },
  {
   "cell_type": "code",
   "execution_count": 24,
   "metadata": {
    "collapsed": true
   },
   "outputs": [],
   "source": [
    "df_all[\"fa_year\"] = df_all[\"timestamp_first_active\"].apply(lambda x : x.year)\n",
    "df_all[\"fa_month\"] = df_all[\"timestamp_first_active\"].apply(lambda x : x.month)\n",
    "df_all[\"fa_day\"] = df_all[\"timestamp_first_active\"].apply(lambda x : x.day)\n",
    "df_all[\"fa_hour\"] = df_all[\"timestamp_first_active\"].apply(lambda x : x.hour)\n",
    "df_all[\"fa_minute\"] = df_all[\"timestamp_first_active\"].apply(lambda x : x.minute)\n",
    "df_all[\"fa_second\"] = df_all[\"timestamp_first_active\"].apply(lambda x : x.second)"
   ]
  },
  {
   "cell_type": "code",
   "execution_count": 25,
   "metadata": {
    "collapsed": true
   },
   "outputs": [],
   "source": [
    "df_all = df_all.drop(\"date_account_created\", axis = 1)\n",
    "df_all = df_all.drop(\"timestamp_first_active\", axis = 1)\n",
    "df_all = df_all.drop(\"country_destination\", axis = 1)"
   ]
  },
  {
   "cell_type": "code",
   "execution_count": 26,
   "metadata": {
    "collapsed": true
   },
   "outputs": [],
   "source": [
    "df_all = df_all.drop(\"id\", axis = 1)"
   ]
  },
  {
   "cell_type": "code",
   "execution_count": 27,
   "metadata": {
    "collapsed": true
   },
   "outputs": [],
   "source": [
    "df_all = pd.get_dummies(df_all)"
   ]
  },
  {
   "cell_type": "code",
   "execution_count": 28,
   "metadata": {
    "collapsed": true
   },
   "outputs": [],
   "source": [
    "df_train = df_all.iloc[:213451]\n",
    "df_test = df_all.iloc[213451:]"
   ]
  },
  {
   "cell_type": "code",
   "execution_count": 29,
   "metadata": {},
   "outputs": [
    {
     "data": {
      "text/plain": [
       "((213451, 145), (62096, 145), (213451,))"
      ]
     },
     "execution_count": 29,
     "metadata": {},
     "output_type": "execute_result"
    }
   ],
   "source": [
    "df_train.shape, df_test.shape, df_target.shape"
   ]
  },
  {
   "cell_type": "code",
   "execution_count": 30,
   "metadata": {},
   "outputs": [
    {
     "data": {
      "text/plain": [
       "NDF      124543\n",
       "US        62376\n",
       "other     10094\n",
       "FR         5023\n",
       "IT         2835\n",
       "GB         2324\n",
       "ES         2249\n",
       "CA         1428\n",
       "DE         1061\n",
       "NL          762\n",
       "AU          539\n",
       "PT          217\n",
       "Name: country_destination, dtype: int64"
      ]
     },
     "execution_count": 30,
     "metadata": {},
     "output_type": "execute_result"
    }
   ],
   "source": [
    "df_target.value_counts()"
   ]
  },
  {
   "cell_type": "code",
   "execution_count": 31,
   "metadata": {
    "collapsed": true
   },
   "outputs": [],
   "source": [
    "from sklearn import preprocessing\n",
    "\n",
    "le = preprocessing.LabelEncoder()\n",
    "y_label = le.fit_transform(df_target) "
   ]
  },
  {
   "cell_type": "code",
   "execution_count": 32,
   "metadata": {},
   "outputs": [
    {
     "data": {
      "text/plain": [
       "array([ 7,  7, 10, ...,  7,  7,  7])"
      ]
     },
     "execution_count": 32,
     "metadata": {},
     "output_type": "execute_result"
    }
   ],
   "source": [
    "y_label"
   ]
  },
  {
   "cell_type": "markdown",
   "metadata": {},
   "source": [
    "# age column"
   ]
  },
  {
   "cell_type": "code",
   "execution_count": null,
   "metadata": {},
   "outputs": [],
   "source": [
    "test_age = pd.read_csv(\"last_test_data.csv\")\n",
    "train_age = pd.read_csv(\"last_train_data.csv\")\n",
    "\n",
    "test_age = test_age['age']\n",
    "train_age = train_age['age']"
   ]
  },
  {
   "cell_type": "code",
   "execution_count": null,
   "metadata": {},
   "outputs": [],
   "source": [
    "train_age.head(), len(train_age)"
   ]
  },
  {
   "cell_type": "code",
   "execution_count": null,
   "metadata": {},
   "outputs": [],
   "source": [
    "test_age.head(), len(test_age)"
   ]
  },
  {
   "cell_type": "code",
   "execution_count": null,
   "metadata": {},
   "outputs": [],
   "source": [
    "df_train = pd.concat([df_train, train_age], axis=1)\n",
    "df_test = pd.concat([df_test, test_age], axis=1)\n",
    "\n",
    "df_train.info(), df_test.info(), "
   ]
  },
  {
   "cell_type": "markdown",
   "metadata": {},
   "source": [
    "# age clustering"
   ]
  },
  {
   "cell_type": "code",
   "execution_count": null,
   "metadata": {},
   "outputs": [],
   "source": [
    "# df_all = pd.concat([df_train, df_test], axis=0)\n",
    "# df_all.head()\n"
   ]
  },
  {
   "cell_type": "code",
   "execution_count": null,
   "metadata": {},
   "outputs": [],
   "source": [
    "# def pre_age_predict_data_cat():\n",
    "    \n",
    "#     bins = [0, 15, 25, 35, 60, 9999]\n",
    "#     labels = [\"미성년자\", \"청년\", \"중년\", \"장년\", \"노년\"]\n",
    "#     cats = pd.cut(df_all['age'], bins, labels=labels)\n",
    "#     cats = pd.DataFrame(cats)\n",
    "    \n",
    "#     return cats\n",
    "\n",
    "# cats=pre_age_predict_data_cat()\n",
    "\n",
    "# cats_d = pd.get_dummies(cats)\n",
    "\n",
    "# len(cats_d)"
   ]
  },
  {
   "cell_type": "code",
   "execution_count": null,
   "metadata": {},
   "outputs": [],
   "source": [
    "# train_cat = cats_d[:213451]\n",
    "# test_cat = cats_d[213451:]\n",
    "\n",
    "# # df_train = df_train.drop(\"age\", axis=1)\n",
    "# # df_test = df_test.drop(\"age\", axis=1)\n",
    "\n",
    "# df_train = pd.concat([df_train, train_cat], axis=1)\n",
    "# df_test = pd.concat([df_test, test_cat], axis=1)\n",
    "\n",
    "# # df_train.to_csv('df_train.csv', sep=',', na_rep='NaN', index = False)\n",
    "# # df_test.to_csv('df_test.csv', sep=',', na_rep='NaN', index = False)"
   ]
  },
  {
   "cell_type": "markdown",
   "metadata": {},
   "source": [
    "# sessions"
   ]
  },
  {
   "cell_type": "code",
   "execution_count": null,
   "metadata": {},
   "outputs": [],
   "source": [
    "sessions.head()"
   ]
  },
  {
   "cell_type": "code",
   "execution_count": null,
   "metadata": {},
   "outputs": [],
   "source": []
  },
  {
   "cell_type": "code",
   "execution_count": null,
   "metadata": {},
   "outputs": [],
   "source": []
  },
  {
   "cell_type": "markdown",
   "metadata": {},
   "source": [
    "# Logistic Regression"
   ]
  },
  {
   "cell_type": "code",
   "execution_count": 33,
   "metadata": {
    "collapsed": true
   },
   "outputs": [],
   "source": [
    "from sklearn import linear_model"
   ]
  },
  {
   "cell_type": "code",
   "execution_count": null,
   "metadata": {},
   "outputs": [],
   "source": [
    "logreg = linear_model.LogisticRegression(n_jobs=4, solver='newton-cg',random_state=0)\n",
    "\n",
    "# we create an instance of Neighbours Classifier and fit the data.\n",
    "model_log = logreg.fit(df_train, y_label)"
   ]
  },
  {
   "cell_type": "code",
   "execution_count": null,
   "metadata": {},
   "outputs": [],
   "source": [
    "# y_pred_log = model_log.predict(df_test)\n",
    "# y_inverse_log = le.inverse_transform(y_pred_log)\n",
    "# y_inverse_log\n",
    "# df_sample['country'] = y_inverse_log\n",
    "# df_sample = df_sample.reset_index(drop=True)\n",
    "# df_sample.to_csv('sub_log.csv', sep=',', na_rep='NaN', index = False)\n",
    "#0.69443 #1200/1460"
   ]
  },
  {
   "cell_type": "code",
   "execution_count": null,
   "metadata": {},
   "outputs": [],
   "source": [
    "#predict_proba\n",
    "y_log1 = model_log.predict_proba(df_test)\n",
    "\n",
    "ids = []  #list of ids\n",
    "cts = []  #list of countries\n",
    "for i in range(len(df_sample)):\n",
    "    idx = df_sample.iloc[i, 0]\n",
    "    ids += [idx] * 5\n",
    "    cts += le.inverse_transform(np.argsort(y_log1[i])[::-1])[:5].tolist()\n",
    "\n",
    "df_sample1 = pd.DataFrame(columns=['id', 'country'])\n",
    "df_sample1['id'] = ids\n",
    "df_sample1['country'] = cts\n",
    "df_sample1 = df_sample1.reset_index(drop=True)\n",
    "df_sample1.to_csv('sub_log1.csv', sep=',', na_rep='NaN', index = False)\n",
    "#0.85906\n",
    "df_sample1.country.value_counts()"
   ]
  },
  {
   "cell_type": "code",
   "execution_count": null,
   "metadata": {},
   "outputs": [],
   "source": []
  },
  {
   "cell_type": "markdown",
   "metadata": {},
   "source": [
    "# QDA / LDA"
   ]
  },
  {
   "cell_type": "code",
   "execution_count": null,
   "metadata": {
    "collapsed": true
   },
   "outputs": [],
   "source": [
    "from sklearn.discriminant_analysis import QuadraticDiscriminantAnalysis"
   ]
  },
  {
   "cell_type": "code",
   "execution_count": null,
   "metadata": {},
   "outputs": [],
   "source": [
    "qda = QuadraticDiscriminantAnalysis().fit(df_train, y_label)"
   ]
  },
  {
   "cell_type": "code",
   "execution_count": null,
   "metadata": {},
   "outputs": [],
   "source": [
    "#predict_proba\n",
    "y_qda1 = qda.predict_proba(df_test)\n",
    "\n",
    "ids = []  #list of ids\n",
    "cts = []  #list of countries\n",
    "for i in range(len(df_sample)):\n",
    "    idx = df_sample.iloc[i, 0]\n",
    "    ids += [idx] * 5\n",
    "    cts += le.inverse_transform(np.argsort(y_qda1[i])[::-1])[:5].tolist()\n",
    "\n",
    "df_sample1 = pd.DataFrame(columns=['id', 'country'])\n",
    "df_sample1['id'] = ids\n",
    "df_sample1['country'] = cts\n",
    "df_sample1 = df_sample1.reset_index(drop=True)\n",
    "df_sample1.to_csv('sub_qda1.csv', sep=',', na_rep='NaN', index = False)\n",
    "\n",
    "\n",
    "df_sample1.country.value_counts()"
   ]
  },
  {
   "cell_type": "code",
   "execution_count": null,
   "metadata": {},
   "outputs": [],
   "source": [
    "# y_qda = qda.predict(df_test)\n",
    "# y_inverse_qda = le.inverse_transform(y_qda)\n",
    "# y_inverse_qda\n",
    "\n",
    "# df_sample['country'] = y_inverse_qda\n",
    "# df_sample = df_sample.reset_index(drop=True)\n",
    "# df_sample.to_csv('sub_qda.csv', sep=',', na_rep='NaN', index = False)\n",
    "# #0.00289 #1300/1460"
   ]
  },
  {
   "cell_type": "code",
   "execution_count": null,
   "metadata": {},
   "outputs": [],
   "source": []
  },
  {
   "cell_type": "code",
   "execution_count": null,
   "metadata": {
    "collapsed": true
   },
   "outputs": [],
   "source": [
    "from sklearn.discriminant_analysis import LinearDiscriminantAnalysis"
   ]
  },
  {
   "cell_type": "code",
   "execution_count": null,
   "metadata": {},
   "outputs": [],
   "source": [
    "lda = LinearDiscriminantAnalysis().fit(df_train, y_label)"
   ]
  },
  {
   "cell_type": "code",
   "execution_count": null,
   "metadata": {},
   "outputs": [],
   "source": [
    "#predict_proba\n",
    "y_lda1 = lda.predict_proba(df_test)\n",
    "\n",
    "ids = []  #list of ids\n",
    "cts = []  #list of countries\n",
    "for i in range(len(df_sample)):\n",
    "    idx = df_sample.iloc[i, 0]\n",
    "    ids += [idx] * 5\n",
    "    cts += le.inverse_transform(np.argsort(y_lda1[i])[::-1])[:5].tolist()\n",
    "\n",
    "df_sample1 = pd.DataFrame(columns=['id', 'country'])\n",
    "df_sample1['id'] = ids\n",
    "df_sample1['country'] = cts\n",
    "df_sample1 = df_sample1.reset_index(drop=True)\n",
    "df_sample1.to_csv('sub_lda1.csv', sep=',', na_rep='NaN', index = False)\n",
    "#0.85654\n",
    "df_sample1.country.value_counts()"
   ]
  },
  {
   "cell_type": "code",
   "execution_count": null,
   "metadata": {},
   "outputs": [],
   "source": [
    "# y_lda = lda.predict(df_test)\n",
    "# y_inverse_lda = le.inverse_transform(y_lda)\n",
    "# y_inverse_lda\n",
    "\n",
    "# df_sample['country'] = y_inverse_lda\n",
    "# df_sample = df_sample.reset_index(drop=True)\n",
    "# df_sample.to_csv('sub_lda.csv', sep=',', na_rep='NaN', index = False)\n",
    "# #0.68756 #1210/1460"
   ]
  },
  {
   "cell_type": "code",
   "execution_count": null,
   "metadata": {
    "collapsed": true
   },
   "outputs": [],
   "source": []
  },
  {
   "cell_type": "markdown",
   "metadata": {},
   "source": [
    "# Naive Bayesian"
   ]
  },
  {
   "cell_type": "code",
   "execution_count": null,
   "metadata": {},
   "outputs": [],
   "source": [
    "from sklearn.naive_bayes import MultinomialNB"
   ]
  },
  {
   "cell_type": "code",
   "execution_count": null,
   "metadata": {},
   "outputs": [],
   "source": [
    "model_nb = MultinomialNB().fit(df_train, y_label)"
   ]
  },
  {
   "cell_type": "code",
   "execution_count": null,
   "metadata": {},
   "outputs": [],
   "source": [
    "#predict_proba\n",
    "y_nb1 = model_nb.predict_proba(df_test)\n",
    "\n",
    "ids = []  #list of ids\n",
    "cts = []  #list of countries\n",
    "for i in range(len(df_sample)):\n",
    "    idx = df_sample.iloc[i, 0]\n",
    "    ids += [idx] * 5\n",
    "    cts += le.inverse_transform(np.argsort(y_lda1[i])[::-1])[:5].tolist()\n",
    "\n",
    "df_sample1 = pd.DataFrame(columns=['id', 'country'])\n",
    "df_sample1['id'] = ids\n",
    "df_sample1['country'] = cts\n",
    "df_sample1 = df_sample1.reset_index(drop=True)\n",
    "df_sample1.to_csv('sub_nb1.csv', sep=',', na_rep='NaN', index = False)\n",
    "#0.85654\n",
    "df_sample1.country.value_counts()"
   ]
  },
  {
   "cell_type": "code",
   "execution_count": null,
   "metadata": {},
   "outputs": [],
   "source": [
    "# y_nb = model_nb.predict(df_test)\n",
    "# y_inverse_nb = le.inverse_transform(y_nb)\n",
    "# y_inverse_nb\n",
    "\n",
    "# df_sample['country'] = y_inverse_nb\n",
    "# df_sample = df_sample.reset_index(drop=True)\n",
    "# df_sample.to_csv('sub_nb.csv', sep=',', na_rep='NaN', index = False)\n",
    "# #0.54326 #1260/1460"
   ]
  },
  {
   "cell_type": "code",
   "execution_count": null,
   "metadata": {},
   "outputs": [],
   "source": []
  },
  {
   "cell_type": "markdown",
   "metadata": {},
   "source": [
    "# Decision Tree"
   ]
  },
  {
   "cell_type": "code",
   "execution_count": null,
   "metadata": {
    "collapsed": true
   },
   "outputs": [],
   "source": [
    "from sklearn.tree import DecisionTreeClassifier"
   ]
  },
  {
   "cell_type": "code",
   "execution_count": null,
   "metadata": {
    "collapsed": true
   },
   "outputs": [],
   "source": [
    "#max_depth = 10 is the best score\n",
    "tree1 = DecisionTreeClassifier(max_depth=10).fit(df_train, y_label)"
   ]
  },
  {
   "cell_type": "code",
   "execution_count": null,
   "metadata": {},
   "outputs": [],
   "source": [
    "#predict_proba\n",
    "y_tree1 = tree1.predict_proba(df_test)\n",
    "\n",
    "ids = []  #list of ids\n",
    "cts = []  #list of countries\n",
    "for i in range(len(df_sample)):\n",
    "    idx = df_sample.iloc[i, 0]\n",
    "    ids += [idx] * 5\n",
    "    cts += le.inverse_transform(np.argsort(y_tree1[i])[::-1])[:5].tolist()\n",
    "\n",
    "df_sample1 = pd.DataFrame(columns=['id', 'country'])\n",
    "df_sample1['id'] = ids\n",
    "df_sample1['country'] = cts\n",
    "df_sample1 = df_sample1.reset_index(drop=True)\n",
    "df_sample1.to_csv('sub_tree1.csv', sep=',', na_rep='NaN', index = False)\n",
    "#0.85856\n",
    "df_sample1.country.value_counts()"
   ]
  },
  {
   "cell_type": "code",
   "execution_count": null,
   "metadata": {},
   "outputs": [],
   "source": []
  },
  {
   "cell_type": "code",
   "execution_count": null,
   "metadata": {},
   "outputs": [],
   "source": [
    "# y_tree = tree1.predict(df_test)\n",
    "# y_inverse_tree = le.inverse_transform(y_tree)\n",
    "# y_inverse_tree\n",
    "\n",
    "# df_sample['country'] = y_inverse_tree\n",
    "# df_sample = df_sample.reset_index(drop=True)\n",
    "# df_sample.to_csv('sub_tree.csv', sep=',', na_rep='NaN', index = False)\n",
    "# #0.69341 #1200/1460"
   ]
  },
  {
   "cell_type": "code",
   "execution_count": null,
   "metadata": {},
   "outputs": [],
   "source": []
  },
  {
   "cell_type": "markdown",
   "metadata": {},
   "source": [
    "# randomforest"
   ]
  },
  {
   "cell_type": "code",
   "execution_count": null,
   "metadata": {
    "collapsed": true
   },
   "outputs": [],
   "source": [
    "from sklearn import clone\n",
    "from sklearn.datasets import load_iris\n",
    "from sklearn.ensemble import RandomForestClassifier, ExtraTreesClassifier\n",
    "from sklearn.tree import DecisionTreeClassifier"
   ]
  },
  {
   "cell_type": "code",
   "execution_count": null,
   "metadata": {
    "collapsed": true
   },
   "outputs": [],
   "source": [
    "model_random = RandomForestClassifier(max_depth=10, random_state=0).fit(df_train, y_label)"
   ]
  },
  {
   "cell_type": "code",
   "execution_count": null,
   "metadata": {},
   "outputs": [],
   "source": [
    "#predict_proba\n",
    "y_random1 = model_random.predict_proba(df_test)\n",
    "\n",
    "ids = []  #list of ids\n",
    "cts = []  #list of countries\n",
    "for i in range(len(df_sample)):\n",
    "    idx = df_sample.iloc[i, 0]\n",
    "    ids += [idx] * 5\n",
    "    cts += le.inverse_transform(np.argsort(y_random1[i])[::-1])[:5].tolist()\n",
    "\n",
    "df_sample1 = pd.DataFrame(columns=['id', 'country'])\n",
    "df_sample1['id'] = ids\n",
    "df_sample1['country'] = cts\n",
    "df_sample1 = df_sample1.reset_index(drop=True)\n",
    "df_sample1.to_csv('sub_random1.csv', sep=',', na_rep='NaN', index = False)\n",
    "#0.85346"
   ]
  },
  {
   "cell_type": "code",
   "execution_count": null,
   "metadata": {},
   "outputs": [],
   "source": []
  },
  {
   "cell_type": "code",
   "execution_count": null,
   "metadata": {},
   "outputs": [],
   "source": []
  },
  {
   "cell_type": "code",
   "execution_count": null,
   "metadata": {},
   "outputs": [],
   "source": []
  },
  {
   "cell_type": "code",
   "execution_count": null,
   "metadata": {
    "collapsed": true
   },
   "outputs": [],
   "source": [
    "y_random = model_random.predict(df_test)\n",
    "y_inverse_random = le.inverse_transform(y_random)\n",
    "y_inverse_random"
   ]
  },
  {
   "cell_type": "code",
   "execution_count": null,
   "metadata": {
    "collapsed": true
   },
   "outputs": [],
   "source": [
    "df_sample['country'] = y_inverse_random\n",
    "df_sample = df_sample.reset_index(drop=True)\n",
    "df_sample.to_csv('sub_random.csv', sep=',', na_rep='NaN', index = False)\n",
    "#0.67929 #1250/1460"
   ]
  },
  {
   "cell_type": "code",
   "execution_count": null,
   "metadata": {},
   "outputs": [],
   "source": [
    "df_sample.country.value_counts()"
   ]
  },
  {
   "cell_type": "markdown",
   "metadata": {},
   "source": [
    "# extratree"
   ]
  },
  {
   "cell_type": "code",
   "execution_count": null,
   "metadata": {},
   "outputs": [],
   "source": [
    "from sklearn.ensemble import ExtraTreesClassifier"
   ]
  },
  {
   "cell_type": "code",
   "execution_count": null,
   "metadata": {},
   "outputs": [],
   "source": [
    "model_extra = ExtraTreesClassifier(max_depth=4, random_state=0).fit(df_train, y_label)"
   ]
  },
  {
   "cell_type": "code",
   "execution_count": null,
   "metadata": {},
   "outputs": [],
   "source": [
    "#predict_proba\n",
    "y_extra1 = model_extra.predict_proba(df_test)\n",
    "\n",
    "ids = []  #list of ids\n",
    "cts = []  #list of countries\n",
    "for i in range(len(df_sample)):\n",
    "    idx = df_sample.iloc[i, 0]\n",
    "    ids += [idx] * 5\n",
    "    cts += le.inverse_transform(np.argsort(y_extra1[i])[::-1])[:5].tolist()\n",
    "\n",
    "df_sample1 = pd.DataFrame(columns=['id', 'country'])\n",
    "df_sample1['id'] = ids\n",
    "df_sample1['country'] = cts\n",
    "df_sample1 = df_sample1.reset_index(drop=True)\n",
    "df_sample1.to_csv('sub_extra1.csv', sep=',', na_rep='NaN', index = False)\n",
    "#0.85359"
   ]
  },
  {
   "cell_type": "markdown",
   "metadata": {},
   "source": [
    "# support vector machine"
   ]
  },
  {
   "cell_type": "code",
   "execution_count": null,
   "metadata": {},
   "outputs": [],
   "source": [
    "from sklearn import svm"
   ]
  },
  {
   "cell_type": "code",
   "execution_count": null,
   "metadata": {},
   "outputs": [],
   "source": [
    "# #kernel\n",
    "# model_svm = svm.SVC(random_state=0, probability=True).fit(df_train, y_label)"
   ]
  },
  {
   "cell_type": "code",
   "execution_count": null,
   "metadata": {},
   "outputs": [],
   "source": [
    "# #predict_proba\n",
    "# y_svm = model_svm.predict_proba(df_test)\n",
    "\n",
    "# ids = []  #list of ids\n",
    "# cts = []  #list of countries\n",
    "# for i in range(len(df_sample)):\n",
    "#     idx = df_sample.iloc[i, 0]\n",
    "#     ids += [idx] * 5\n",
    "#     cts += le.inverse_transform(np.argsort(y_svm[i])[::-1])[:5].tolist()\n",
    "\n",
    "# df_sample1 = pd.DataFrame(columns=['id', 'country'])\n",
    "# df_sample1['id'] = ids\n",
    "# df_sample1['country'] = cts\n",
    "# df_sample1 = df_sample1.reset_index(drop=True)\n",
    "# df_sample1.to_csv('sub_svm.csv', sep=',', na_rep='NaN', index = False)\n",
    "# #0.85359"
   ]
  },
  {
   "cell_type": "code",
   "execution_count": null,
   "metadata": {},
   "outputs": [],
   "source": []
  },
  {
   "cell_type": "code",
   "execution_count": null,
   "metadata": {},
   "outputs": [],
   "source": [
    "# #linear\n",
    "# model_svm1 = svm.SVC(random_state=0, kernel= 'linear', probability=True).fit(df_train, y_label)"
   ]
  },
  {
   "cell_type": "code",
   "execution_count": null,
   "metadata": {},
   "outputs": [],
   "source": [
    "# #predict_proba\n",
    "# y_svm1 = model_svm1.predict_proba(df_test)\n",
    "\n",
    "# ids = []  #list of ids\n",
    "# cts = []  #list of countries\n",
    "# for i in range(len(df_sample)):\n",
    "#     idx = df_sample.iloc[i, 0]\n",
    "#     ids += [idx] * 5\n",
    "#     cts += le.inverse_transform(np.argsort(y_svm1[i])[::-1])[:5].tolist()\n",
    "\n",
    "# df_sample1 = pd.DataFrame(columns=['id', 'country'])\n",
    "# df_sample1['id'] = ids\n",
    "# df_sample1['country'] = cts\n",
    "# df_sample1 = df_sample1.reset_index(drop=True)\n",
    "# df_sample1.to_csv('sub_svm1.csv', sep=',', na_rep='NaN', index = False)\n",
    "# #0.85359"
   ]
  },
  {
   "cell_type": "markdown",
   "metadata": {},
   "source": [
    "# XGBoost"
   ]
  },
  {
   "cell_type": "code",
   "execution_count": null,
   "metadata": {},
   "outputs": [],
   "source": [
    "import xgboost as xgb\n",
    "import numpy as np\n",
    "import pandas as pd\n",
    "from sklearn.preprocessing import LabelEncoder\n",
    "from xgboost.sklearn import XGBClassifier"
   ]
  },
  {
   "cell_type": "code",
   "execution_count": null,
   "metadata": {},
   "outputs": [],
   "source": [
    "model_xgb = xgb.XGBClassifier(max_depth=4 ,objective= 'multi:softmax', n_jobs=4 ).fit(df_train, y_label)"
   ]
  },
  {
   "cell_type": "code",
   "execution_count": null,
   "metadata": {},
   "outputs": [],
   "source": [
    "#predict_proba\n",
    "y_xgb1 = model_xgb.predict_proba(df_test)\n",
    "\n",
    "ids = []  #list of ids\n",
    "cts = []  #list of countries\n",
    "for i in range(len(df_sample)):\n",
    "    idx = df_sample.iloc[i, 0]\n",
    "    ids += [idx] * 5\n",
    "    cts += le.inverse_transform(np.argsort(y_xgb1[i])[::-1])[:5].tolist()\n",
    "\n",
    "df_sample1 = pd.DataFrame(columns=['id', 'country'])\n",
    "df_sample1['id'] = ids\n",
    "df_sample1['country'] = cts\n",
    "df_sample1 = df_sample1.reset_index(drop=True)\n",
    "df_sample1.to_csv('sub_xgb1.csv', sep=',', na_rep='NaN', index = False)\n",
    "#0.85950 w/o age\n",
    "#0.86442 with age\n",
    "#0.85983 w/ dummy age"
   ]
  },
  {
   "cell_type": "code",
   "execution_count": null,
   "metadata": {},
   "outputs": [],
   "source": []
  },
  {
   "cell_type": "code",
   "execution_count": null,
   "metadata": {},
   "outputs": [],
   "source": []
  },
  {
   "cell_type": "code",
   "execution_count": null,
   "metadata": {},
   "outputs": [],
   "source": []
  },
  {
   "cell_type": "code",
   "execution_count": null,
   "metadata": {},
   "outputs": [],
   "source": []
  },
  {
   "cell_type": "code",
   "execution_count": null,
   "metadata": {},
   "outputs": [],
   "source": []
  },
  {
   "cell_type": "code",
   "execution_count": null,
   "metadata": {},
   "outputs": [],
   "source": [
    "dtrain = xgb.DMatrix(df_train, label = y_label)"
   ]
  },
  {
   "cell_type": "code",
   "execution_count": null,
   "metadata": {},
   "outputs": [],
   "source": []
  },
  {
   "cell_type": "code",
   "execution_count": null,
   "metadata": {},
   "outputs": [],
   "source": []
  },
  {
   "cell_type": "code",
   "execution_count": null,
   "metadata": {},
   "outputs": [],
   "source": []
  },
  {
   "cell_type": "code",
   "execution_count": null,
   "metadata": {},
   "outputs": [],
   "source": []
  },
  {
   "cell_type": "code",
   "execution_count": null,
   "metadata": {
    "collapsed": true
   },
   "outputs": [],
   "source": [
    "y_xgb = model_xgb.predict(df_test)\n",
    "y_inverse_xgb = le.inverse_transform(y_xgb)\n",
    "y_inverse_xgb"
   ]
  },
  {
   "cell_type": "code",
   "execution_count": null,
   "metadata": {
    "collapsed": true
   },
   "outputs": [],
   "source": [
    "df_sample['country'] = y_inverse_random\n",
    "df_sample = df_sample.reset_index(drop=True)\n",
    "df_sample.to_csv('sub_xgb.csv', sep=',', na_rep='NaN', index = False)\n",
    "#0.67929 #1250/1460"
   ]
  },
  {
   "cell_type": "code",
   "execution_count": null,
   "metadata": {},
   "outputs": [],
   "source": [
    "df_sample.country.value_counts()"
   ]
  },
  {
   "cell_type": "markdown",
   "metadata": {},
   "source": [
    "# LightGBM"
   ]
  },
  {
   "cell_type": "code",
   "execution_count": null,
   "metadata": {},
   "outputs": [],
   "source": [
    "import lightgbm as lgb"
   ]
  },
  {
   "cell_type": "code",
   "execution_count": null,
   "metadata": {},
   "outputs": [],
   "source": [
    "model_lgb = lgb.LGBMClassifier(max_depth=10, objective = 'multiclass', random_state=0, n_jobs=4).fit(df_train, y_label)"
   ]
  },
  {
   "cell_type": "code",
   "execution_count": null,
   "metadata": {},
   "outputs": [],
   "source": [
    "y_vali = model_lgb.predict(df_train)"
   ]
  },
  {
   "cell_type": "code",
   "execution_count": null,
   "metadata": {},
   "outputs": [],
   "source": [
    "from sklearn.metrics import accuracy_score"
   ]
  },
  {
   "cell_type": "code",
   "execution_count": null,
   "metadata": {},
   "outputs": [],
   "source": [
    "import xgboost\n",
    "from xgboost.sklearn import XGBClassifier\n",
    "from sklearn.metrics import classification_report"
   ]
  },
  {
   "cell_type": "code",
   "execution_count": null,
   "metadata": {},
   "outputs": [],
   "source": [
    "print(classification_report(y_label, y_vali))"
   ]
  },
  {
   "cell_type": "code",
   "execution_count": null,
   "metadata": {},
   "outputs": [],
   "source": [
    "#predict_proba\n",
    "y_lgb = model_lgb.predict_proba(df_test)\n",
    "\n",
    "\n",
    "\n",
    "ids = []  #list of ids\n",
    "cts = []  #list of countries\n",
    "for i in range(len(df_sample)):\n",
    "    idx = df_sample.iloc[i, 0]\n",
    "    ids += [idx] * 5\n",
    "    cts += le.inverse_transform(np.argsort(y_lgb[i])[::-1])[:5].tolist()\n",
    "\n",
    "df_sample1 = pd.DataFrame(columns=['id', 'country'])\n",
    "df_sample1['id'] = ids\n",
    "df_sample1['country'] = cts\n",
    "df_sample1 = df_sample1.reset_index(drop=True)\n",
    "df_sample1.to_csv('sub_lgb.csv', sep=',', na_rep='NaN', index = False)\n",
    "#0.85932 w/o age\n",
    "#0.86495 w/ age"
   ]
  },
  {
   "cell_type": "code",
   "execution_count": null,
   "metadata": {},
   "outputs": [],
   "source": [
    "from sklearn import metrics\n",
    "from sklearn.model_selection import cross_val_score\n",
    "\n",
    "scores = cross_val_score(model_lgb, df_train, y_label, cv=5, scoring='neg_log_loss')\n",
    "scores"
   ]
  },
  {
   "cell_type": "markdown",
   "metadata": {},
   "source": [
    "# light train"
   ]
  },
  {
   "cell_type": "code",
   "execution_count": null,
   "metadata": {},
   "outputs": [],
   "source": [
    "from sklearn.model_selection import train_test_split"
   ]
  },
  {
   "cell_type": "code",
   "execution_count": null,
   "metadata": {},
   "outputs": [],
   "source": [
    "Xtr, Xv, ytr, yv = train_test_split(df_train, y_label, test_size=0.2, random_state=0)\n",
    "dtrain = lgb.Dataset(Xtr, label=ytr)\n",
    "dvalid = lgb.Dataset(Xv, label=yv)\n",
    "# dtest = lgb.Dataset(df_test.values)"
   ]
  },
  {
   "cell_type": "code",
   "execution_count": null,
   "metadata": {},
   "outputs": [],
   "source": [
    "params = {}\n",
    "\n",
    "params['application'] = 'lambdarank'\n",
    "params['max_depth'] = 8\n",
    "params['metric'] = 'ndcg'\n",
    "# params['metric'] = 'multi_error'\n",
    "# params['boosting'] = 'rf'"
   ]
  },
  {
   "cell_type": "code",
   "execution_count": null,
   "metadata": {},
   "outputs": [],
   "source": [
    "params"
   ]
  },
  {
   "cell_type": "code",
   "execution_count": null,
   "metadata": {},
   "outputs": [],
   "source": [
    "model_lgb1 = lgb.train(params, dtrain, valid_sets=dvalid)"
   ]
  },
  {
   "cell_type": "code",
   "execution_count": null,
   "metadata": {},
   "outputs": [],
   "source": [
    "model_lgb1"
   ]
  },
  {
   "cell_type": "code",
   "execution_count": null,
   "metadata": {},
   "outputs": [],
   "source": [
    "len(y_lgb1)"
   ]
  },
  {
   "cell_type": "code",
   "execution_count": null,
   "metadata": {},
   "outputs": [],
   "source": [
    "y_lgb1 = model_lgb1.predict(df_test)\n",
    "\n",
    "\n",
    "\n",
    "ids = []  #list of ids\n",
    "cts = []  #list of countries\n",
    "for i in range(len(df_sample)):\n",
    "    idx = df_sample.iloc[i, 0]\n",
    "    ids += [idx] * 5\n",
    "    cts += le.inverse_transform(np.argsort(y_lgb1[i])[::-1])[:5].tolist()\n",
    "\n",
    "df_sample1 = pd.DataFrame(columns=['id', 'country'])\n",
    "df_sample1['id'] = ids\n",
    "df_sample1['country'] = cts\n",
    "df_sample1 = df_sample1.reset_index(drop=True)\n",
    "df_sample1.to_csv('sub_lgb1.csv', sep=',', na_rep='NaN', index = False)\n"
   ]
  },
  {
   "cell_type": "code",
   "execution_count": null,
   "metadata": {},
   "outputs": [],
   "source": []
  },
  {
   "cell_type": "markdown",
   "metadata": {},
   "source": [
    "# Cross validation\n",
    "\n",
    "### k fold stacking"
   ]
  },
  {
   "cell_type": "code",
   "execution_count": null,
   "metadata": {
    "collapsed": true
   },
   "outputs": [],
   "source": [
    "from sklearn.model_selection import KFold"
   ]
  },
  {
   "cell_type": "code",
   "execution_count": null,
   "metadata": {
    "collapsed": true
   },
   "outputs": [],
   "source": [
    "\n"
   ]
  },
  {
   "cell_type": "code",
   "execution_count": null,
   "metadata": {
    "collapsed": true
   },
   "outputs": [],
   "source": [
    "kf = KFold(ntrian, n_folds=nfolds, shuffle = kfodl_shuffle, random_state = kfold_random_state)\n",
    "\n",
    "oof_train = np.zeros((ntrain,))\n",
    "oof_test = np.zeros((ntest,))\n",
    "oof_test_skf = np.empty((nfolds, ntest))"
   ]
  },
  {
   "cell_type": "code",
   "execution_count": null,
   "metadata": {
    "collapsed": true
   },
   "outputs": [],
   "source": [
    "for i, (train_index, cross_index) in enumerate(kf):\n",
    "    x_tr, x_cr = x_train.iloc[train_index], x_train.iloc[cross_index]\n",
    "    y_tr, y_cr = y_train.iloc[train_index], y_train.iloc[cross_index]\n",
    "    \n",
    "    clf.train(x_tr, y_tr, x_cr, y_cr)"
   ]
  },
  {
   "cell_type": "code",
   "execution_count": null,
   "metadata": {
    "collapsed": true
   },
   "outputs": [],
   "source": [
    "oof_train[cross_index] = clf.predict(x_cr)\n",
    "oof_test_skf[i, :] = clf.predict(x_test)\n",
    "oof_train[:] = oof_test_skf.mean(axis=0)\n"
   ]
  },
  {
   "cell_type": "code",
   "execution_count": null,
   "metadata": {
    "collapsed": true
   },
   "outputs": [],
   "source": []
  },
  {
   "cell_type": "code",
   "execution_count": null,
   "metadata": {
    "collapsed": true
   },
   "outputs": [],
   "source": []
  },
  {
   "cell_type": "code",
   "execution_count": null,
   "metadata": {},
   "outputs": [],
   "source": [
    "import numpy as np\n",
    "\n",
    "from sklearn.model_selection import cross_val_predict, KFold\n",
    "from sklearn.model_selection import train_test_split\n",
    "from sklearn.discriminant_analysis import LinearDiscriminantAnalysis\n",
    "\n",
    "X = np.array([[1, 2], [2, 4], [3, 2], [4, 4], [5, 2], [6, 4], [7, 2], [8, 4], [1, 2], [2, 4], [3, 2], [4, 4], [5, 2], [6, 4], [7, 2], [8, 4]])\n",
    "Y = np.array([1, 1, 2, 2, 3, 3, 4, 4, 5, 5, 6, 6, 7, 7, 8, 8])\n",
    "\n",
    "Xtrain,Xtest,Ytrain,Ytest = train_test_split(X,Y,train_size=0.5,random_state=1)\n",
    "\n",
    "clf = LinearDiscriminantAnalysis()\n",
    "clf.fit(X, Y)\n",
    "\n",
    "# without cross-valdidation\n",
    "prediction = clf.predict(Xtest)\n",
    "\n",
    "# with cross-valdidation\n",
    "cv = KFold(n_splits=2)\n",
    "prediction_cv = cross_val_predict(clf, X, Y, cv=cv)\n",
    "prediction_cv"
   ]
  },
  {
   "cell_type": "code",
   "execution_count": null,
   "metadata": {
    "collapsed": true
   },
   "outputs": [],
   "source": []
  },
  {
   "cell_type": "code",
   "execution_count": null,
   "metadata": {
    "collapsed": true
   },
   "outputs": [],
   "source": []
  }
 ],
 "metadata": {
  "kernelspec": {
   "display_name": "Python 3",
   "language": "python",
   "name": "python3"
  },
  "language_info": {
   "codemirror_mode": {
    "name": "ipython",
    "version": 3
   },
   "file_extension": ".py",
   "mimetype": "text/x-python",
   "name": "python",
   "nbconvert_exporter": "python",
   "pygments_lexer": "ipython3",
   "version": "3.6.3"
  }
 },
 "nbformat": 4,
 "nbformat_minor": 2
}
