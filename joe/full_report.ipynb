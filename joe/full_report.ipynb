{
 "cells": [
  {
   "cell_type": "markdown",
   "metadata": {},
   "source": [
    "# Project : Airbnb New User Booking\n",
    "---\n",
    "\n",
    "### Abstract :  \n",
    "\n",
    "- purpose of prediction\n",
    "\n",
    "- Model\n",
    "\n",
    "- Score\n",
    "\n",
    "\n",
    "### Introduction :\n",
    "\n",
    "- purpose of analysis : Predict destination country\n",
    "\n",
    "- evaluation metric : NDCG (Normalized discounted cumulative gain)\n",
    "\n",
    "- evaluation question : \n",
    "\n",
    "\n",
    "### Methods :\n",
    "\n",
    "- Description of selected model :\n",
    "\n",
    "- comparision of selected model and other method :\n",
    "\n",
    "- feature engineering : \n",
    "\n",
    "        - train / test missing data : \n",
    "        \n",
    "        - train / test categorical data :\n",
    "        \n",
    "        - sessions :\n",
    "        \n",
    "        - dropped data : age bkts, countries\n",
    "\n",
    "### Conclusions :\n",
    "\n",
    "##### A. Summary of Key Findings:\n",
    "\n",
    "##### B. Final Analysis :\n",
    "- * How does the author understand the data\n",
    "- * How does the author believe the data will impact the program\n",
    "- * Strengths and weaknesses of the program as revealed by evaluation findings \n",
    "\n",
    "##### C. Issues for Further Consideration (any outstanding issues raised by the evaluation) "
   ]
  },
  {
   "cell_type": "code",
   "execution_count": null,
   "metadata": {},
   "outputs": [],
   "source": []
  },
  {
   "cell_type": "markdown",
   "metadata": {},
   "source": [
    "### 1. Introduction :\n",
    "\n",
    "- purpose of analysis : Predict destination country\n",
    "\n",
    "- evaluation metric : NDCG (Normalized discounted cumulative gain)\n",
    "\n",
    "\n",
    "$$\n",
    "DCG_k=\\sum_{i=1}^k\\frac{2^{rel_i}-1}{\\log_2{\\left(i+1\\right)}}\n",
    "$$\n",
    "\n",
    "$$\n",
    "nDCG_k=\\frac{DCG_k}{IDCG_k}\n",
    "$$\n"
   ]
  },
  {
   "cell_type": "markdown",
   "metadata": {},
   "source": [
    "#### Methods :\n",
    "\n",
    "- Description of selected model :\n",
    "\n",
    "- comparision of selected model and other method :\n",
    "\n",
    "- feature engineering : \n",
    "\n",
    "        - train / test missing data : \n",
    "                \n",
    "                - date_first_booking : dropped\n",
    "                \n",
    "                - age : filled by clustering age buckets\n",
    "                \n",
    "                - first_affiliate_tracked : filled by mode data\n",
    "        \n",
    "        - train / test categorical data : \n",
    "        \n",
    "                - one-hot encoding\n",
    "        \n",
    "        - sessions :\n",
    "        \n",
    "                - action\n",
    "                \n",
    "                - action type\n",
    "                \n",
    "                - secs elapsed time\n",
    "        \n",
    "        - other features :\n",
    "        \n",
    "                - etc\n",
    "                \n",
    "                - etc\n",
    "        \n",
    "        - dropped data : age bkts, countries\n"
   ]
  },
  {
   "cell_type": "markdown",
   "metadata": {},
   "source": [
    "#### Load data"
   ]
  },
  {
   "cell_type": "code",
   "execution_count": 26,
   "metadata": {},
   "outputs": [],
   "source": [
    "from IPython.display import display\n",
    "import numpy as np\n",
    "import matplotlib.pyplot as plt\n",
    "import pandas as pd\n",
    "import seaborn as sns\n",
    "\n",
    "%matplotlib inline\n",
    "\n",
    "import warnings\n",
    "warnings.filterwarnings(\"ignore\")"
   ]
  },
  {
   "cell_type": "code",
   "execution_count": 27,
   "metadata": {},
   "outputs": [],
   "source": [
    "df_train = pd.read_csv(\"data/train_users_2.csv\")\n",
    "df_test = pd.read_csv(\"data/test_users.csv\")\n",
    "df_all = pd.concat([df_train, df_test])\n",
    "df_countries = pd.read_csv('data/countries.csv')\n",
    "df_sessions = pd.read_csv('data/sessions.csv')\n",
    "df_age_bkts = pd.read_csv('data/age_gender_bkts.csv')"
   ]
  },
  {
   "cell_type": "markdown",
   "metadata": {},
   "source": [
    "#### Missing value"
   ]
  },
  {
   "cell_type": "code",
   "execution_count": 28,
   "metadata": {},
   "outputs": [],
   "source": [
    "df_all.drop(\"country_destination\", axis = 1, inplace = True)"
   ]
  },
  {
   "cell_type": "code",
   "execution_count": 29,
   "metadata": {},
   "outputs": [
    {
     "data": {
      "text/plain": [
       "<matplotlib.axes._subplots.AxesSubplot at 0x7fefd3fa5400>"
      ]
     },
     "execution_count": 29,
     "metadata": {},
     "output_type": "execute_result"
    },
    {
     "data": {
      "image/png": "[encoded data removed]",
      "text/plain": [
       "<matplotlib.figure.Figure at 0x7fefe631a588>"
      ]
     },
     "metadata": {},
     "output_type": "display_data"
    }
   ],
   "source": [
    "df_all.isnull().sum().sort_values(ascending = False).plot(kind=\"bar\")"
   ]
  },
  {
   "cell_type": "code",
   "execution_count": 30,
   "metadata": {},
   "outputs": [
    {
     "name": "stdout",
     "output_type": "stream",
     "text": [
      "Missing data ratio\n",
      "date_frist_booking : 67.73\n",
      "age : 42.41\n",
      "first_affiliate_tracked: 2.21\n"
     ]
    }
   ],
   "source": [
    "print('Missing data ratio')\n",
    "print('date_frist_booking :',round(df_all.date_first_booking.isnull().sum() / len(df_all) * 100, 2))\n",
    "print('age :',round(df_all.age.isnull().sum() / len(df_all) * 100, 2))\n",
    "print('first_affiliate_tracked:',round(df_all.first_affiliate_tracked.isnull().sum() / len(df_all) * 100, 2))"
   ]
  },
  {
   "cell_type": "markdown",
   "metadata": {},
   "source": [
    "#### (3) Explore Target"
   ]
  },
  {
   "cell_type": "code",
   "execution_count": 31,
   "metadata": {},
   "outputs": [
    {
     "data": {
      "text/plain": [
       "<matplotlib.axes._subplots.AxesSubplot at 0x7fefd3e9bc88>"
      ]
     },
     "execution_count": 31,
     "metadata": {},
     "output_type": "execute_result"
    },
    {
     "data": {
      "image/png": "[encoded data removed]",
      "text/plain": [
       "<matplotlib.figure.Figure at 0x7fefe63148d0>"
      ]
     },
     "metadata": {},
     "output_type": "display_data"
    }
   ],
   "source": [
    "sns.countplot(df_train[\"country_destination\"])"
   ]
  },
  {
   "cell_type": "code",
   "execution_count": 32,
   "metadata": {},
   "outputs": [
    {
     "data": {
      "text/plain": [
       "NDF      58.35\n",
       "US       29.22\n",
       "other     4.73\n",
       "FR        2.35\n",
       "IT        1.33\n",
       "GB        1.09\n",
       "ES        1.05\n",
       "CA        0.67\n",
       "DE        0.50\n",
       "NL        0.36\n",
       "AU        0.25\n",
       "PT        0.10\n",
       "Name: country_destination, dtype: float64"
      ]
     },
     "execution_count": 32,
     "metadata": {},
     "output_type": "execute_result"
    }
   ],
   "source": [
    "round(df_train[\"country_destination\"].value_counts() / len(df_train) * 100, 2)"
   ]
  },
  {
   "cell_type": "markdown",
   "metadata": {},
   "source": [
    "### 3. Feature Engineering"
   ]
  },
  {
   "cell_type": "markdown",
   "metadata": {},
   "source": [
    "#### (1) Impute featrues"
   ]
  },
  {
   "cell_type": "markdown",
   "metadata": {},
   "source": [
    "##### 1-1. Gender"
   ]
  },
  {
   "cell_type": "code",
   "execution_count": 33,
   "metadata": {},
   "outputs": [
    {
     "data": {
      "text/plain": [
       "<matplotlib.axes._subplots.AxesSubplot at 0x7fefd0590518>"
      ]
     },
     "execution_count": 33,
     "metadata": {},
     "output_type": "execute_result"
    },
    {
     "data": {
      "image/png": "[encoded data removed]",
      "text/plain": [
       "<matplotlib.figure.Figure at 0x7fefd3e09828>"
      ]
     },
     "metadata": {},
     "output_type": "display_data"
    }
   ],
   "source": [
    "sns.countplot(df_all[\"gender\"])"
   ]
  },
  {
   "cell_type": "markdown",
   "metadata": {},
   "source": [
    "- female - male "
   ]
  },
  {
   "cell_type": "code",
   "execution_count": 34,
   "metadata": {},
   "outputs": [
    {
     "data": {
      "text/plain": [
       "<matplotlib.axes._subplots.AxesSubplot at 0x7fefd04bb668>"
      ]
     },
     "execution_count": 34,
     "metadata": {},
     "output_type": "execute_result"
    },
    {
     "data": {
      "image/png": "[encoded data removed]",
      "text/plain": [
       "<matplotlib.figure.Figure at 0x7fefd052f5c0>"
      ]
     },
     "metadata": {},
     "output_type": "display_data"
    }
   ],
   "source": [
    "df_train[\"count\"] = 1\n",
    "df_gender_country = df_train.pivot_table(values = \"count\", index = [\"country_destination\"], columns = [\"gender\"], aggfunc=np.sum)\n",
    "df_gender_country[\"FEMALE\"] = df_gender_country[\"FEMALE\"] / df_gender_country[\"FEMALE\"].sum() * 100\n",
    "df_gender_country[\"MALE\"] = df_gender_country[\"MALE\"] / df_gender_country[\"MALE\"].sum() * 100\n",
    "(df_gender_country[\"FEMALE\"] - df_gender_country[\"MALE\"]).sort_values(ascending = False).plot(kind=\"bar\")"
   ]
  },
  {
   "cell_type": "markdown",
   "metadata": {},
   "source": [
    "- 여자는 FR, IT 주로 여행을 간다. \n",
    "- 남자는 DE, other를 주로 여행을 간다"
   ]
  },
  {
   "cell_type": "code",
   "execution_count": 35,
   "metadata": {},
   "outputs": [],
   "source": [
    "## code"
   ]
  },
  {
   "cell_type": "markdown",
   "metadata": {},
   "source": [
    "##### 1-2. Age"
   ]
  },
  {
   "cell_type": "code",
   "execution_count": 75,
   "metadata": {},
   "outputs": [],
   "source": [
    "labels = [\"0~15\", \"16~25\", \"26~35\", \"36~60\", \"61~2010\"]"
   ]
  },
  {
   "cell_type": "code",
   "execution_count": 76,
   "metadata": {},
   "outputs": [],
   "source": [
    "df_train[\"age_cut\"] = pd.qcut(df_train[df_train[\"age\"] <= 120]['age'], 5, labels = labels)"
   ]
  },
  {
   "cell_type": "code",
   "execution_count": 77,
   "metadata": {},
   "outputs": [],
   "source": [
    "df_age_pivot = df_train.pivot_table(values = \"count\", index = \"age_cut\", columns = \"country_destination\", aggfunc = np.sum, fill_value = 0)"
   ]
  },
  {
   "cell_type": "code",
   "execution_count": 78,
   "metadata": {},
   "outputs": [
    {
     "data": {
      "text/html": [
       "<div>\n",
       "<style>\n",
       "    .dataframe thead tr:only-child th {\n",
       "        text-align: right;\n",
       "    }\n",
       "\n",
       "    .dataframe thead th {\n",
       "        text-align: left;\n",
       "    }\n",
       "\n",
       "    .dataframe tbody tr th {\n",
       "        vertical-align: top;\n",
       "    }\n",
       "</style>\n",
       "<table border=\"1\" class=\"dataframe\">\n",
       "  <thead>\n",
       "    <tr style=\"text-align: right;\">\n",
       "      <th>country_destination</th>\n",
       "      <th>AU</th>\n",
       "      <th>CA</th>\n",
       "      <th>DE</th>\n",
       "      <th>ES</th>\n",
       "      <th>FR</th>\n",
       "      <th>GB</th>\n",
       "      <th>IT</th>\n",
       "      <th>NDF</th>\n",
       "      <th>NL</th>\n",
       "      <th>PT</th>\n",
       "      <th>US</th>\n",
       "      <th>other</th>\n",
       "    </tr>\n",
       "    <tr>\n",
       "      <th>age_cut</th>\n",
       "      <th></th>\n",
       "      <th></th>\n",
       "      <th></th>\n",
       "      <th></th>\n",
       "      <th></th>\n",
       "      <th></th>\n",
       "      <th></th>\n",
       "      <th></th>\n",
       "      <th></th>\n",
       "      <th></th>\n",
       "      <th></th>\n",
       "      <th></th>\n",
       "    </tr>\n",
       "  </thead>\n",
       "  <tbody>\n",
       "    <tr>\n",
       "      <th>0~15</th>\n",
       "      <td>65</td>\n",
       "      <td>174</td>\n",
       "      <td>186</td>\n",
       "      <td>448</td>\n",
       "      <td>695</td>\n",
       "      <td>351</td>\n",
       "      <td>437</td>\n",
       "      <td>12255</td>\n",
       "      <td>150</td>\n",
       "      <td>36</td>\n",
       "      <td>9808</td>\n",
       "      <td>1471</td>\n",
       "    </tr>\n",
       "    <tr>\n",
       "      <th>16~25</th>\n",
       "      <td>97</td>\n",
       "      <td>224</td>\n",
       "      <td>160</td>\n",
       "      <td>312</td>\n",
       "      <td>681</td>\n",
       "      <td>296</td>\n",
       "      <td>340</td>\n",
       "      <td>9995</td>\n",
       "      <td>102</td>\n",
       "      <td>35</td>\n",
       "      <td>10250</td>\n",
       "      <td>1550</td>\n",
       "    </tr>\n",
       "    <tr>\n",
       "      <th>26~35</th>\n",
       "      <td>78</td>\n",
       "      <td>219</td>\n",
       "      <td>159</td>\n",
       "      <td>373</td>\n",
       "      <td>738</td>\n",
       "      <td>336</td>\n",
       "      <td>429</td>\n",
       "      <td>10630</td>\n",
       "      <td>131</td>\n",
       "      <td>35</td>\n",
       "      <td>10561</td>\n",
       "      <td>1665</td>\n",
       "    </tr>\n",
       "    <tr>\n",
       "      <th>36~60</th>\n",
       "      <td>111</td>\n",
       "      <td>243</td>\n",
       "      <td>176</td>\n",
       "      <td>298</td>\n",
       "      <td>810</td>\n",
       "      <td>357</td>\n",
       "      <td>392</td>\n",
       "      <td>12083</td>\n",
       "      <td>111</td>\n",
       "      <td>23</td>\n",
       "      <td>9715</td>\n",
       "      <td>1521</td>\n",
       "    </tr>\n",
       "    <tr>\n",
       "      <th>61~2010</th>\n",
       "      <td>84</td>\n",
       "      <td>211</td>\n",
       "      <td>163</td>\n",
       "      <td>266</td>\n",
       "      <td>770</td>\n",
       "      <td>424</td>\n",
       "      <td>425</td>\n",
       "      <td>11561</td>\n",
       "      <td>103</td>\n",
       "      <td>28</td>\n",
       "      <td>8009</td>\n",
       "      <td>1324</td>\n",
       "    </tr>\n",
       "  </tbody>\n",
       "</table>\n",
       "</div>"
      ],
      "text/plain": [
       "country_destination   AU   CA   DE   ES   FR   GB   IT    NDF   NL  PT     US  \\\n",
       "age_cut                                                                         \n",
       "0~15                  65  174  186  448  695  351  437  12255  150  36   9808   \n",
       "16~25                 97  224  160  312  681  296  340   9995  102  35  10250   \n",
       "26~35                 78  219  159  373  738  336  429  10630  131  35  10561   \n",
       "36~60                111  243  176  298  810  357  392  12083  111  23   9715   \n",
       "61~2010               84  211  163  266  770  424  425  11561  103  28   8009   \n",
       "\n",
       "country_destination  other  \n",
       "age_cut                     \n",
       "0~15                  1471  \n",
       "16~25                 1550  \n",
       "26~35                 1665  \n",
       "36~60                 1521  \n",
       "61~2010               1324  "
      ]
     },
     "execution_count": 78,
     "metadata": {},
     "output_type": "execute_result"
    }
   ],
   "source": [
    "df_age_pivot"
   ]
  },
  {
   "cell_type": "code",
   "execution_count": 79,
   "metadata": {},
   "outputs": [],
   "source": [
    "for c in df_age_pivot.index:\n",
    "    df_age_pivot.loc[c] = (df_age_pivot.loc[c] / (df_train[\"age_cut\"] == c).sum() * 100)"
   ]
  },
  {
   "cell_type": "code",
   "execution_count": 80,
   "metadata": {},
   "outputs": [
    {
     "data": {
      "text/plain": [
       "<matplotlib.axes._subplots.AxesSubplot at 0x7fefcf6fd198>"
      ]
     },
     "execution_count": 80,
     "metadata": {},
     "output_type": "execute_result"
    },
    {
     "data": {
      "image/png": "[encoded data removed]",
      "text/plain": [
       "<matplotlib.figure.Figure at 0x7feedebd8828>"
      ]
     },
     "metadata": {},
     "output_type": "display_data"
    }
   ],
   "source": [
    "df_age_pivot.T.plot(kind = \"bar\", figsize = (20, 10))"
   ]
  },
  {
   "cell_type": "code",
   "execution_count": 81,
   "metadata": {},
   "outputs": [
    {
     "data": {
      "text/plain": [
       "(0, 4)"
      ]
     },
     "execution_count": 81,
     "metadata": {},
     "output_type": "execute_result"
    },
    {
     "data": {
      "image/png": "[encoded data removed]",
      "text/plain": [
       "<matplotlib.figure.Figure at 0x7fefcf69bba8>"
      ]
     },
     "metadata": {},
     "output_type": "display_data"
    }
   ],
   "source": [
    "df_age_pivot.T.plot(kind = \"bar\", figsize = (20, 10))\n",
    "plt.ylim([0,4])"
   ]
  },
  {
   "cell_type": "markdown",
   "metadata": {},
   "source": [
    "- NDF : 27-36세는 NDF가 아닐 확률이 높다.\n",
    "- US  : 27-36세는 US로 여행할 확률이 높다.\n",
    "- FR  : 나이가 늘어 날수록 여행갈 비율이 높다.\n",
    "- other : 27-36세는 other에 여행할 확률이 약간 높다.\n",
    "- GB  : 46-세는 GB에 여행갈 확률이 높다\n",
    "- ES  : 0-27세는 ES에 여행갈 확률이 높다."
   ]
  },
  {
   "cell_type": "markdown",
   "metadata": {},
   "source": [
    "##### 1-3. first_affiliate_tracked"
   ]
  },
  {
   "cell_type": "code",
   "execution_count": 43,
   "metadata": {},
   "outputs": [
    {
     "data": {
      "text/plain": [
       "<matplotlib.axes._subplots.AxesSubplot at 0x7fefd051ff60>"
      ]
     },
     "execution_count": 43,
     "metadata": {},
     "output_type": "execute_result"
    },
    {
     "data": {
      "image/png": "[encoded data removed]",
      "text/plain": [
       "<matplotlib.figure.Figure at 0x7fefd0425780>"
      ]
     },
     "metadata": {},
     "output_type": "display_data"
    }
   ],
   "source": [
    "sns.countplot(df_all[\"first_affiliate_tracked\"])"
   ]
  },
  {
   "cell_type": "code",
   "execution_count": 74,
   "metadata": {},
   "outputs": [
    {
     "data": {
      "text/plain": [
       "untracked        51.96\n",
       "linked           22.52\n",
       "omg              19.91\n",
       "tracked-other     2.42\n",
       "product           0.85\n",
       "marketing         0.10\n",
       "local ops         0.03\n",
       "Name: first_affiliate_tracked, dtype: float64"
      ]
     },
     "execution_count": 74,
     "metadata": {},
     "output_type": "execute_result"
    }
   ],
   "source": [
    "round(df_all[\"first_affiliate_tracked\"].value_counts() / len(df_all) * 100, 2)"
   ]
  },
  {
   "cell_type": "markdown",
   "metadata": {},
   "source": [
    "- 전체 특징에서 51.96%가 untracked이기 때문에 최빈값 `untracked` 으로 Missing value 처리"
   ]
  },
  {
   "cell_type": "code",
   "execution_count": 45,
   "metadata": {},
   "outputs": [
    {
     "data": {
      "text/plain": [
       "0            untracked\n",
       "1            untracked\n",
       "2               linked\n",
       "3               linked\n",
       "4            untracked\n",
       "5                  omg\n",
       "6            untracked\n",
       "7            untracked\n",
       "8            untracked\n",
       "9                  omg\n",
       "10           untracked\n",
       "11           untracked\n",
       "12              linked\n",
       "13              linked\n",
       "14           untracked\n",
       "15              linked\n",
       "16           untracked\n",
       "17              linked\n",
       "18                 omg\n",
       "19              linked\n",
       "20              linked\n",
       "21           untracked\n",
       "22              linked\n",
       "23           untracked\n",
       "24                 omg\n",
       "25              linked\n",
       "26                 omg\n",
       "27                 omg\n",
       "28             product\n",
       "29              linked\n",
       "             ...      \n",
       "62066        untracked\n",
       "62067        untracked\n",
       "62068        untracked\n",
       "62069        untracked\n",
       "62070        untracked\n",
       "62071        untracked\n",
       "62072        untracked\n",
       "62073        untracked\n",
       "62074           linked\n",
       "62075              omg\n",
       "62076        untracked\n",
       "62077        untracked\n",
       "62078        untracked\n",
       "62079           linked\n",
       "62080           linked\n",
       "62081        untracked\n",
       "62082        untracked\n",
       "62083        untracked\n",
       "62084        untracked\n",
       "62085           linked\n",
       "62086        untracked\n",
       "62087              omg\n",
       "62088        untracked\n",
       "62089           linked\n",
       "62090           linked\n",
       "62091        untracked\n",
       "62092        untracked\n",
       "62093           linked\n",
       "62094              omg\n",
       "62095    tracked-other\n",
       "Name: first_affiliate_tracked, Length: 62096, dtype: object"
      ]
     },
     "execution_count": 45,
     "metadata": {},
     "output_type": "execute_result"
    }
   ],
   "source": [
    "## code\n",
    "df_train[\"first_affiliate_tracked\"].fillna(\"untracked\")\n",
    "df_test[\"first_affiliate_tracked\"].fillna(\"untracked\")"
   ]
  },
  {
   "cell_type": "markdown",
   "metadata": {},
   "source": [
    "##### 1-4. date_first_booking"
   ]
  },
  {
   "cell_type": "code",
   "execution_count": 46,
   "metadata": {},
   "outputs": [
    {
     "name": "stdout",
     "output_type": "stream",
     "text": [
      "Number of date_first_booking in test : 0\n"
     ]
    }
   ],
   "source": [
    "test_exist = len(df_test) - df_test[\"date_first_booking\"].isnull().sum()\n",
    "print(\"Number of date_first_booking in test : {}\".format(test_exist))"
   ]
  },
  {
   "cell_type": "markdown",
   "metadata": {},
   "source": [
    "- test 데이터에는 date_first_booking 특징이 전혀 존재하지 않기 때문에 해당 특지은 사용하지 않는다."
   ]
  },
  {
   "cell_type": "code",
   "execution_count": 47,
   "metadata": {},
   "outputs": [],
   "source": [
    "## code\n",
    "df_train.drop(\"date_first_booking\", axis = 1, inplace = True)\n",
    "df_test.drop(\"date_first_booking\", axis = 1, inplace = True)"
   ]
  },
  {
   "cell_type": "markdown",
   "metadata": {},
   "source": [
    "##### 1-5. gender"
   ]
  },
  {
   "cell_type": "code",
   "execution_count": null,
   "metadata": {},
   "outputs": [],
   "source": [
    "df_age_pivot = df_train.pivot_table(values = \"count\", index = \"age_cut\", columns = \"country_destination\", aggfunc = np.sum, fill_value = 0)\n",
    "df_age_pivot"
   ]
  },
  {
   "cell_type": "code",
   "execution_count": null,
   "metadata": {},
   "outputs": [],
   "source": [
    "for c in df_age_pivot.index:\n",
    "    df_age_pivot.loc[c] = (df_age_pivot.loc[c] / (df_train[\"age_cut\"] == c).sum() * 100)"
   ]
  },
  {
   "cell_type": "code",
   "execution_count": null,
   "metadata": {},
   "outputs": [],
   "source": [
    "df_age_pivot.T.plot(kind = \"bar\", figsize = (20, 10))"
   ]
  },
  {
   "cell_type": "markdown",
   "metadata": {},
   "source": [
    "#### (2) Create featrues"
   ]
  },
  {
   "cell_type": "markdown",
   "metadata": {},
   "source": [
    "##### 2-1. Faithless sign-in"
   ]
  },
  {
   "cell_type": "markdown",
   "metadata": {},
   "source": [
    "- **가정) 가입을 꼼꼼하게 한 사람일수록 여행을 예약할 확률이 높다** \n",
    "\n",
    "  - `age`가 `nan`이거나 `이상값`이거나 `gender`가 `unknown`일 경우, 가입을 대충했다고 가정"
   ]
  },
  {
   "cell_type": "code",
   "execution_count": 48,
   "metadata": {},
   "outputs": [],
   "source": [
    "s_all_input_train = (df_train['age'] < 120) & (df_train['gender'] != '-unknown-')\n",
    "s_all_input_test = (df_test['age'] < 120) & (df_test['gender'] != '-unknown-')"
   ]
  },
  {
   "cell_type": "code",
   "execution_count": 49,
   "metadata": {},
   "outputs": [],
   "source": [
    "df_train['faithless_sign'] = s_all_input_train.apply(lambda x : 0 if x == True else 1)\n",
    "df_test['faithless_sign'] = s_all_input_test.apply(lambda x : 0 if x == True else 1)"
   ]
  },
  {
   "cell_type": "code",
   "execution_count": null,
   "metadata": {},
   "outputs": [],
   "source": [
    "df_age_pivot.T.plot(kind = \"bar\", figsize = (20, 10))\n",
    "plt.ylim([0,4])"
   ]
  },
  {
   "cell_type": "markdown",
   "metadata": {},
   "source": [
    "##### 2-2. Session info"
   ]
  },
  {
   "cell_type": "markdown",
   "metadata": {},
   "source": [
    "- **가정) 사이트를 자주 들어간 사람일수록 여행을 예약할 확률이 높다**\n",
    "  - 각 `user_id`별 session count 갯수가 많을 수록, 사이트를 자주 들어 왔다고 가정\n",
    "- **추가 사항 : secs_elapse_mean, secs_elapse_mode, secs_elapse_sum, device_type_mode**"
   ]
  },
  {
   "cell_type": "markdown",
   "metadata": {},
   "source": [
    "##### action, action_type, action_detail count"
   ]
  },
  {
   "cell_type": "code",
   "execution_count": 53,
   "metadata": {},
   "outputs": [],
   "source": [
    "## make action count\n",
    "tmp = df_sessions.groupby([\"user_id\", \"action_type\"])[\"secs_elapsed\"].count().unstack().fillna(0)\n",
    "df_session_type = pd.DataFrame(tmp)\n",
    "df_session_type.rename(columns = lambda x : \"type_\" + x, inplace = True)"
   ]
  },
  {
   "cell_type": "code",
   "execution_count": 57,
   "metadata": {},
   "outputs": [],
   "source": [
    "## make action_type count\n",
    "tmp = df_sessions.groupby([\"user_id\", \"action\"])[\"secs_elapsed\"].count().unstack().fillna(0)\n",
    "df_session_action = pd.DataFrame(tmp)\n",
    "df_session_action.rename(columns = lambda x : \"action_\" + x, inplace = True)"
   ]
  },
  {
   "cell_type": "code",
   "execution_count": 58,
   "metadata": {},
   "outputs": [],
   "source": [
    "## make action_detail count\n",
    "tmp = df_sessions.groupby([\"user_id\", \"action_detail\"])[\"secs_elapsed\"].count().unstack().fillna(0)\n",
    "df_session_action_detail = pd.DataFrame(tmp)\n",
    "df_session_action_detail.rename(columns = lambda x : \"detail_\" + x, inplace = True)"
   ]
  },
  {
   "cell_type": "code",
   "execution_count": 59,
   "metadata": {},
   "outputs": [],
   "source": [
    "df_session_info = df_session_type.merge(df_session_action, how = \"left\", left_index = True, right_index = True)\n",
    "df_session_info = df_session_info.merge(df_session_action_detail, how = \"left\", left_index = True, right_index = True)"
   ]
  },
  {
   "cell_type": "code",
   "execution_count": 60,
   "metadata": {},
   "outputs": [],
   "source": [
    "## drop unknown value\n",
    "df_session_info.drop([\"type_-unknown-\", \"detail_-unknown-\"], axis = 1, inplace = True)"
   ]
  },
  {
   "cell_type": "code",
   "execution_count": 65,
   "metadata": {},
   "outputs": [],
   "source": [
    "## impute the missing value using median\n",
    "from sklearn.preprocessing import Imputer\n",
    "\n",
    "df_train_origin = df_train.copy()\n",
    "df_test_origin = df_test.copy()\n",
    "\n",
    "df_train = df_train_origin.merge(df_session_info, how = \"left\", left_on = \"id\", right_index = True)\n",
    "df_test = df_test_origin.merge(df_session_info, how = \"left\", left_on = \"id\", right_index = True)\n",
    "\n",
    "imp = Imputer(missing_values='NaN', strategy='median', axis=0)\n",
    "\n",
    "df_train[df_session_info.columns.tolist()] = imp.fit_transform(df_train[df_session_info.columns.tolist()])\n",
    "df_test[df_session_info.columns.tolist()] = imp.fit_transform(df_test[df_session_info.columns.tolist()])"
   ]
  },
  {
   "cell_type": "markdown",
   "metadata": {},
   "source": [
    "##### 2-3. Date info"
   ]
  },
  {
   "cell_type": "markdown",
   "metadata": {},
   "source": [
    "- **가정1) 주말에 처음 활동한 사람일수록 여행을 예약할 확률이 높다** \n",
    "- **가정2) 공휴일에 처음 활동한 사람일수록 여행을 예약할 확률이 높다**\n",
    "- **추가 사항 : first_active_year, first_active_month, first_active_day, first_active_weekend, create_account_year, create_account_month, create_account_day**"
   ]
  },
  {
   "cell_type": "markdown",
   "metadata": {},
   "source": [
    "##### 2-4. Lag-time"
   ]
  },
  {
   "cell_type": "markdown",
   "metadata": {},
   "source": [
    "- **가정) 활동 빈도가 적을 수록 여행을 예약할 확률이 낮다**\n",
    "  - 처음으로 활동한 날짜 - 처음 계정을 생성한 날짜"
   ]
  },
  {
   "cell_type": "code",
   "execution_count": 62,
   "metadata": {},
   "outputs": [],
   "source": [
    "df_train[\"date_account_created\"] = pd.to_datetime(df_train[\"date_account_created\"], format = \"%Y-%m-%d\")\n",
    "df_train[\"timestamp_first_active\"] = pd.to_datetime(df_train[\"timestamp_first_active\"], format=\"%Y%m%d%H%M%S\", errors='ignore')\n",
    "df_test[\"date_account_created\"] = pd.to_datetime(df_test[\"date_account_created\"], format = \"%Y-%m-%d\")\n",
    "df_test[\"timestamp_first_active\"] = pd.to_datetime(df_test[\"timestamp_first_active\"], format=\"%Y%m%d%H%M%S\", errors='ignore')"
   ]
  },
  {
   "cell_type": "code",
   "execution_count": 63,
   "metadata": {},
   "outputs": [],
   "source": [
    "s_train_lag = df_train[\"timestamp_first_active\"] - df_train[\"date_account_created\"]\n",
    "s_test_lag = df_test[\"timestamp_first_active\"] - df_test[\"date_account_created\"]"
   ]
  },
  {
   "cell_type": "code",
   "execution_count": 64,
   "metadata": {},
   "outputs": [],
   "source": [
    "df_train[\"lag_days\"] = s_train_lag.apply(lambda x : -1 * x.days)\n",
    "df_test[\"lag_days\"] = s_test_lag.apply(lambda x : -1 * x.days)\n",
    "df_train[\"lag_seconds\"] = s_train_lag.apply(lambda x : x.seconds)\n",
    "df_test[\"lag_seconds\"] = s_test_lag.apply(lambda x : x.seconds)"
   ]
  },
  {
   "cell_type": "markdown",
   "metadata": {},
   "source": [
    "#### (3) Featrues selection"
   ]
  },
  {
   "cell_type": "markdown",
   "metadata": {},
   "source": [
    "##### 3-1. Use importance feature"
   ]
  },
  {
   "cell_type": "code",
   "execution_count": null,
   "metadata": {},
   "outputs": [],
   "source": []
  },
  {
   "cell_type": "markdown",
   "metadata": {},
   "source": [
    "### 4. Modeling"
   ]
  },
  {
   "cell_type": "markdown",
   "metadata": {},
   "source": [
    "#### (1) Selection Model"
   ]
  },
  {
   "cell_type": "markdown",
   "metadata": {},
   "source": [
    "#### (2) Parameter tuning"
   ]
  },
  {
   "cell_type": "markdown",
   "metadata": {},
   "source": [
    "### 5. Analysis the result"
   ]
  },
  {
   "cell_type": "code",
   "execution_count": 4,
   "metadata": {},
   "outputs": [],
   "source": [
    "train_all_remove = pd.read_csv(\"train_all_remove.csv\")\n",
    "test_all_remove = pd.read_csv(\"test_all_remove.csv\")"
   ]
  },
  {
   "cell_type": "code",
   "execution_count": 18,
   "metadata": {},
   "outputs": [
    {
     "data": {
      "text/html": [
       "<div>\n",
       "<style>\n",
       "    .dataframe thead tr:only-child th {\n",
       "        text-align: right;\n",
       "    }\n",
       "\n",
       "    .dataframe thead th {\n",
       "        text-align: left;\n",
       "    }\n",
       "\n",
       "    .dataframe tbody tr th {\n",
       "        vertical-align: top;\n",
       "    }\n",
       "</style>\n",
       "<table border=\"1\" class=\"dataframe\">\n",
       "  <thead>\n",
       "    <tr style=\"text-align: right;\">\n",
       "      <th></th>\n",
       "      <th>age</th>\n",
       "      <th>country_destination</th>\n",
       "    </tr>\n",
       "  </thead>\n",
       "  <tbody>\n",
       "    <tr>\n",
       "      <th>0</th>\n",
       "      <td>35.0</td>\n",
       "      <td>NDF</td>\n",
       "    </tr>\n",
       "    <tr>\n",
       "      <th>1</th>\n",
       "      <td>38.0</td>\n",
       "      <td>NDF</td>\n",
       "    </tr>\n",
       "    <tr>\n",
       "      <th>2</th>\n",
       "      <td>56.0</td>\n",
       "      <td>US</td>\n",
       "    </tr>\n",
       "    <tr>\n",
       "      <th>3</th>\n",
       "      <td>42.0</td>\n",
       "      <td>other</td>\n",
       "    </tr>\n",
       "    <tr>\n",
       "      <th>4</th>\n",
       "      <td>41.0</td>\n",
       "      <td>US</td>\n",
       "    </tr>\n",
       "    <tr>\n",
       "      <th>5</th>\n",
       "      <td>35.0</td>\n",
       "      <td>US</td>\n",
       "    </tr>\n",
       "    <tr>\n",
       "      <th>6</th>\n",
       "      <td>46.0</td>\n",
       "      <td>US</td>\n",
       "    </tr>\n",
       "    <tr>\n",
       "      <th>7</th>\n",
       "      <td>47.0</td>\n",
       "      <td>US</td>\n",
       "    </tr>\n",
       "    <tr>\n",
       "      <th>8</th>\n",
       "      <td>50.0</td>\n",
       "      <td>US</td>\n",
       "    </tr>\n",
       "    <tr>\n",
       "      <th>9</th>\n",
       "      <td>46.0</td>\n",
       "      <td>US</td>\n",
       "    </tr>\n",
       "    <tr>\n",
       "      <th>10</th>\n",
       "      <td>36.0</td>\n",
       "      <td>US</td>\n",
       "    </tr>\n",
       "    <tr>\n",
       "      <th>11</th>\n",
       "      <td>47.0</td>\n",
       "      <td>NDF</td>\n",
       "    </tr>\n",
       "    <tr>\n",
       "      <th>12</th>\n",
       "      <td>35.0</td>\n",
       "      <td>FR</td>\n",
       "    </tr>\n",
       "    <tr>\n",
       "      <th>13</th>\n",
       "      <td>37.0</td>\n",
       "      <td>NDF</td>\n",
       "    </tr>\n",
       "    <tr>\n",
       "      <th>14</th>\n",
       "      <td>36.0</td>\n",
       "      <td>NDF</td>\n",
       "    </tr>\n",
       "    <tr>\n",
       "      <th>15</th>\n",
       "      <td>33.0</td>\n",
       "      <td>CA</td>\n",
       "    </tr>\n",
       "    <tr>\n",
       "      <th>16</th>\n",
       "      <td>45.0</td>\n",
       "      <td>NDF</td>\n",
       "    </tr>\n",
       "    <tr>\n",
       "      <th>17</th>\n",
       "      <td>31.0</td>\n",
       "      <td>US</td>\n",
       "    </tr>\n",
       "    <tr>\n",
       "      <th>18</th>\n",
       "      <td>35.0</td>\n",
       "      <td>NDF</td>\n",
       "    </tr>\n",
       "    <tr>\n",
       "      <th>19</th>\n",
       "      <td>29.0</td>\n",
       "      <td>FR</td>\n",
       "    </tr>\n",
       "    <tr>\n",
       "      <th>20</th>\n",
       "      <td>35.0</td>\n",
       "      <td>US</td>\n",
       "    </tr>\n",
       "    <tr>\n",
       "      <th>21</th>\n",
       "      <td>30.0</td>\n",
       "      <td>US</td>\n",
       "    </tr>\n",
       "    <tr>\n",
       "      <th>22</th>\n",
       "      <td>40.0</td>\n",
       "      <td>US</td>\n",
       "    </tr>\n",
       "    <tr>\n",
       "      <th>23</th>\n",
       "      <td>45.0</td>\n",
       "      <td>NDF</td>\n",
       "    </tr>\n",
       "    <tr>\n",
       "      <th>24</th>\n",
       "      <td>40.0</td>\n",
       "      <td>NDF</td>\n",
       "    </tr>\n",
       "    <tr>\n",
       "      <th>25</th>\n",
       "      <td>26.0</td>\n",
       "      <td>FR</td>\n",
       "    </tr>\n",
       "    <tr>\n",
       "      <th>26</th>\n",
       "      <td>35.0</td>\n",
       "      <td>NDF</td>\n",
       "    </tr>\n",
       "    <tr>\n",
       "      <th>27</th>\n",
       "      <td>32.0</td>\n",
       "      <td>US</td>\n",
       "    </tr>\n",
       "    <tr>\n",
       "      <th>28</th>\n",
       "      <td>35.0</td>\n",
       "      <td>FR</td>\n",
       "    </tr>\n",
       "    <tr>\n",
       "      <th>29</th>\n",
       "      <td>37.0</td>\n",
       "      <td>US</td>\n",
       "    </tr>\n",
       "    <tr>\n",
       "      <th>...</th>\n",
       "      <td>...</td>\n",
       "      <td>...</td>\n",
       "    </tr>\n",
       "    <tr>\n",
       "      <th>213431</th>\n",
       "      <td>35.0</td>\n",
       "      <td>NDF</td>\n",
       "    </tr>\n",
       "    <tr>\n",
       "      <th>213432</th>\n",
       "      <td>45.0</td>\n",
       "      <td>NDF</td>\n",
       "    </tr>\n",
       "    <tr>\n",
       "      <th>213433</th>\n",
       "      <td>20.0</td>\n",
       "      <td>NDF</td>\n",
       "    </tr>\n",
       "    <tr>\n",
       "      <th>213434</th>\n",
       "      <td>32.0</td>\n",
       "      <td>NDF</td>\n",
       "    </tr>\n",
       "    <tr>\n",
       "      <th>213435</th>\n",
       "      <td>30.0</td>\n",
       "      <td>NDF</td>\n",
       "    </tr>\n",
       "    <tr>\n",
       "      <th>213436</th>\n",
       "      <td>35.0</td>\n",
       "      <td>NDF</td>\n",
       "    </tr>\n",
       "    <tr>\n",
       "      <th>213437</th>\n",
       "      <td>35.0</td>\n",
       "      <td>NDF</td>\n",
       "    </tr>\n",
       "    <tr>\n",
       "      <th>213438</th>\n",
       "      <td>35.0</td>\n",
       "      <td>NDF</td>\n",
       "    </tr>\n",
       "    <tr>\n",
       "      <th>213439</th>\n",
       "      <td>35.0</td>\n",
       "      <td>NDF</td>\n",
       "    </tr>\n",
       "    <tr>\n",
       "      <th>213440</th>\n",
       "      <td>19.0</td>\n",
       "      <td>NDF</td>\n",
       "    </tr>\n",
       "    <tr>\n",
       "      <th>213441</th>\n",
       "      <td>35.0</td>\n",
       "      <td>NDF</td>\n",
       "    </tr>\n",
       "    <tr>\n",
       "      <th>213442</th>\n",
       "      <td>31.0</td>\n",
       "      <td>NDF</td>\n",
       "    </tr>\n",
       "    <tr>\n",
       "      <th>213443</th>\n",
       "      <td>45.0</td>\n",
       "      <td>NDF</td>\n",
       "    </tr>\n",
       "    <tr>\n",
       "      <th>213444</th>\n",
       "      <td>25.0</td>\n",
       "      <td>NDF</td>\n",
       "    </tr>\n",
       "    <tr>\n",
       "      <th>213445</th>\n",
       "      <td>35.0</td>\n",
       "      <td>NDF</td>\n",
       "    </tr>\n",
       "    <tr>\n",
       "      <th>213446</th>\n",
       "      <td>35.0</td>\n",
       "      <td>NDF</td>\n",
       "    </tr>\n",
       "    <tr>\n",
       "      <th>213447</th>\n",
       "      <td>35.0</td>\n",
       "      <td>NDF</td>\n",
       "    </tr>\n",
       "    <tr>\n",
       "      <th>213448</th>\n",
       "      <td>35.0</td>\n",
       "      <td>NDF</td>\n",
       "    </tr>\n",
       "    <tr>\n",
       "      <th>213449</th>\n",
       "      <td>43.0</td>\n",
       "      <td>US</td>\n",
       "    </tr>\n",
       "    <tr>\n",
       "      <th>213450</th>\n",
       "      <td>24.0</td>\n",
       "      <td>NDF</td>\n",
       "    </tr>\n",
       "    <tr>\n",
       "      <th>213451</th>\n",
       "      <td>34.0</td>\n",
       "      <td>ES</td>\n",
       "    </tr>\n",
       "    <tr>\n",
       "      <th>213452</th>\n",
       "      <td>35.0</td>\n",
       "      <td>NDF</td>\n",
       "    </tr>\n",
       "    <tr>\n",
       "      <th>213453</th>\n",
       "      <td>36.0</td>\n",
       "      <td>US</td>\n",
       "    </tr>\n",
       "    <tr>\n",
       "      <th>213454</th>\n",
       "      <td>35.0</td>\n",
       "      <td>NDF</td>\n",
       "    </tr>\n",
       "    <tr>\n",
       "      <th>213455</th>\n",
       "      <td>23.0</td>\n",
       "      <td>US</td>\n",
       "    </tr>\n",
       "    <tr>\n",
       "      <th>213456</th>\n",
       "      <td>32.0</td>\n",
       "      <td>NDF</td>\n",
       "    </tr>\n",
       "    <tr>\n",
       "      <th>213457</th>\n",
       "      <td>35.0</td>\n",
       "      <td>NDF</td>\n",
       "    </tr>\n",
       "    <tr>\n",
       "      <th>213458</th>\n",
       "      <td>32.0</td>\n",
       "      <td>NDF</td>\n",
       "    </tr>\n",
       "    <tr>\n",
       "      <th>213459</th>\n",
       "      <td>35.0</td>\n",
       "      <td>NDF</td>\n",
       "    </tr>\n",
       "    <tr>\n",
       "      <th>213460</th>\n",
       "      <td>35.0</td>\n",
       "      <td>NDF</td>\n",
       "    </tr>\n",
       "  </tbody>\n",
       "</table>\n",
       "<p>213461 rows × 2 columns</p>\n",
       "</div>"
      ],
      "text/plain": [
       "         age country_destination\n",
       "0       35.0                 NDF\n",
       "1       38.0                 NDF\n",
       "2       56.0                  US\n",
       "3       42.0               other\n",
       "4       41.0                  US\n",
       "5       35.0                  US\n",
       "6       46.0                  US\n",
       "7       47.0                  US\n",
       "8       50.0                  US\n",
       "9       46.0                  US\n",
       "10      36.0                  US\n",
       "11      47.0                 NDF\n",
       "12      35.0                  FR\n",
       "13      37.0                 NDF\n",
       "14      36.0                 NDF\n",
       "15      33.0                  CA\n",
       "16      45.0                 NDF\n",
       "17      31.0                  US\n",
       "18      35.0                 NDF\n",
       "19      29.0                  FR\n",
       "20      35.0                  US\n",
       "21      30.0                  US\n",
       "22      40.0                  US\n",
       "23      45.0                 NDF\n",
       "24      40.0                 NDF\n",
       "25      26.0                  FR\n",
       "26      35.0                 NDF\n",
       "27      32.0                  US\n",
       "28      35.0                  FR\n",
       "29      37.0                  US\n",
       "...      ...                 ...\n",
       "213431  35.0                 NDF\n",
       "213432  45.0                 NDF\n",
       "213433  20.0                 NDF\n",
       "213434  32.0                 NDF\n",
       "213435  30.0                 NDF\n",
       "213436  35.0                 NDF\n",
       "213437  35.0                 NDF\n",
       "213438  35.0                 NDF\n",
       "213439  35.0                 NDF\n",
       "213440  19.0                 NDF\n",
       "213441  35.0                 NDF\n",
       "213442  31.0                 NDF\n",
       "213443  45.0                 NDF\n",
       "213444  25.0                 NDF\n",
       "213445  35.0                 NDF\n",
       "213446  35.0                 NDF\n",
       "213447  35.0                 NDF\n",
       "213448  35.0                 NDF\n",
       "213449  43.0                  US\n",
       "213450  24.0                 NDF\n",
       "213451  34.0                  ES\n",
       "213452  35.0                 NDF\n",
       "213453  36.0                  US\n",
       "213454  35.0                 NDF\n",
       "213455  23.0                  US\n",
       "213456  32.0                 NDF\n",
       "213457  35.0                 NDF\n",
       "213458  32.0                 NDF\n",
       "213459  35.0                 NDF\n",
       "213460  35.0                 NDF\n",
       "\n",
       "[213461 rows x 2 columns]"
      ]
     },
     "execution_count": 18,
     "metadata": {},
     "output_type": "execute_result"
    }
   ],
   "source": [
    "train_all_remove.loc[:,['age', 'country_destination']]"
   ]
  },
  {
   "cell_type": "code",
   "execution_count": 22,
   "metadata": {},
   "outputs": [
    {
     "data": {
      "text/html": [
       "<div>\n",
       "<style>\n",
       "    .dataframe thead tr:only-child th {\n",
       "        text-align: right;\n",
       "    }\n",
       "\n",
       "    .dataframe thead th {\n",
       "        text-align: left;\n",
       "    }\n",
       "\n",
       "    .dataframe tbody tr th {\n",
       "        vertical-align: top;\n",
       "    }\n",
       "</style>\n",
       "<table border=\"1\" class=\"dataframe\">\n",
       "  <thead>\n",
       "    <tr style=\"text-align: right;\">\n",
       "      <th></th>\n",
       "      <th>FEMALE</th>\n",
       "      <th>MALE</th>\n",
       "      <th>country_destination</th>\n",
       "    </tr>\n",
       "  </thead>\n",
       "  <tbody>\n",
       "    <tr>\n",
       "      <th>0</th>\n",
       "      <td>0</td>\n",
       "      <td>1</td>\n",
       "      <td>NDF</td>\n",
       "    </tr>\n",
       "    <tr>\n",
       "      <th>1</th>\n",
       "      <td>0</td>\n",
       "      <td>1</td>\n",
       "      <td>NDF</td>\n",
       "    </tr>\n",
       "    <tr>\n",
       "      <th>2</th>\n",
       "      <td>1</td>\n",
       "      <td>0</td>\n",
       "      <td>US</td>\n",
       "    </tr>\n",
       "    <tr>\n",
       "      <th>3</th>\n",
       "      <td>1</td>\n",
       "      <td>0</td>\n",
       "      <td>other</td>\n",
       "    </tr>\n",
       "    <tr>\n",
       "      <th>4</th>\n",
       "      <td>1</td>\n",
       "      <td>0</td>\n",
       "      <td>US</td>\n",
       "    </tr>\n",
       "    <tr>\n",
       "      <th>5</th>\n",
       "      <td>1</td>\n",
       "      <td>0</td>\n",
       "      <td>US</td>\n",
       "    </tr>\n",
       "    <tr>\n",
       "      <th>6</th>\n",
       "      <td>1</td>\n",
       "      <td>0</td>\n",
       "      <td>US</td>\n",
       "    </tr>\n",
       "    <tr>\n",
       "      <th>7</th>\n",
       "      <td>1</td>\n",
       "      <td>0</td>\n",
       "      <td>US</td>\n",
       "    </tr>\n",
       "    <tr>\n",
       "      <th>8</th>\n",
       "      <td>1</td>\n",
       "      <td>0</td>\n",
       "      <td>US</td>\n",
       "    </tr>\n",
       "    <tr>\n",
       "      <th>9</th>\n",
       "      <td>1</td>\n",
       "      <td>0</td>\n",
       "      <td>US</td>\n",
       "    </tr>\n",
       "    <tr>\n",
       "      <th>10</th>\n",
       "      <td>1</td>\n",
       "      <td>0</td>\n",
       "      <td>US</td>\n",
       "    </tr>\n",
       "    <tr>\n",
       "      <th>11</th>\n",
       "      <td>1</td>\n",
       "      <td>0</td>\n",
       "      <td>NDF</td>\n",
       "    </tr>\n",
       "    <tr>\n",
       "      <th>12</th>\n",
       "      <td>1</td>\n",
       "      <td>0</td>\n",
       "      <td>FR</td>\n",
       "    </tr>\n",
       "    <tr>\n",
       "      <th>13</th>\n",
       "      <td>1</td>\n",
       "      <td>0</td>\n",
       "      <td>NDF</td>\n",
       "    </tr>\n",
       "    <tr>\n",
       "      <th>14</th>\n",
       "      <td>1</td>\n",
       "      <td>0</td>\n",
       "      <td>NDF</td>\n",
       "    </tr>\n",
       "    <tr>\n",
       "      <th>15</th>\n",
       "      <td>1</td>\n",
       "      <td>0</td>\n",
       "      <td>CA</td>\n",
       "    </tr>\n",
       "    <tr>\n",
       "      <th>16</th>\n",
       "      <td>1</td>\n",
       "      <td>0</td>\n",
       "      <td>NDF</td>\n",
       "    </tr>\n",
       "    <tr>\n",
       "      <th>17</th>\n",
       "      <td>1</td>\n",
       "      <td>0</td>\n",
       "      <td>US</td>\n",
       "    </tr>\n",
       "    <tr>\n",
       "      <th>18</th>\n",
       "      <td>1</td>\n",
       "      <td>0</td>\n",
       "      <td>NDF</td>\n",
       "    </tr>\n",
       "    <tr>\n",
       "      <th>19</th>\n",
       "      <td>1</td>\n",
       "      <td>0</td>\n",
       "      <td>FR</td>\n",
       "    </tr>\n",
       "    <tr>\n",
       "      <th>20</th>\n",
       "      <td>1</td>\n",
       "      <td>0</td>\n",
       "      <td>US</td>\n",
       "    </tr>\n",
       "    <tr>\n",
       "      <th>21</th>\n",
       "      <td>0</td>\n",
       "      <td>1</td>\n",
       "      <td>US</td>\n",
       "    </tr>\n",
       "    <tr>\n",
       "      <th>22</th>\n",
       "      <td>1</td>\n",
       "      <td>0</td>\n",
       "      <td>US</td>\n",
       "    </tr>\n",
       "    <tr>\n",
       "      <th>23</th>\n",
       "      <td>1</td>\n",
       "      <td>0</td>\n",
       "      <td>NDF</td>\n",
       "    </tr>\n",
       "    <tr>\n",
       "      <th>24</th>\n",
       "      <td>1</td>\n",
       "      <td>0</td>\n",
       "      <td>NDF</td>\n",
       "    </tr>\n",
       "    <tr>\n",
       "      <th>25</th>\n",
       "      <td>1</td>\n",
       "      <td>0</td>\n",
       "      <td>FR</td>\n",
       "    </tr>\n",
       "    <tr>\n",
       "      <th>26</th>\n",
       "      <td>1</td>\n",
       "      <td>0</td>\n",
       "      <td>NDF</td>\n",
       "    </tr>\n",
       "    <tr>\n",
       "      <th>27</th>\n",
       "      <td>1</td>\n",
       "      <td>0</td>\n",
       "      <td>US</td>\n",
       "    </tr>\n",
       "    <tr>\n",
       "      <th>28</th>\n",
       "      <td>1</td>\n",
       "      <td>0</td>\n",
       "      <td>FR</td>\n",
       "    </tr>\n",
       "    <tr>\n",
       "      <th>29</th>\n",
       "      <td>1</td>\n",
       "      <td>0</td>\n",
       "      <td>US</td>\n",
       "    </tr>\n",
       "    <tr>\n",
       "      <th>...</th>\n",
       "      <td>...</td>\n",
       "      <td>...</td>\n",
       "      <td>...</td>\n",
       "    </tr>\n",
       "    <tr>\n",
       "      <th>213431</th>\n",
       "      <td>1</td>\n",
       "      <td>0</td>\n",
       "      <td>NDF</td>\n",
       "    </tr>\n",
       "    <tr>\n",
       "      <th>213432</th>\n",
       "      <td>1</td>\n",
       "      <td>0</td>\n",
       "      <td>NDF</td>\n",
       "    </tr>\n",
       "    <tr>\n",
       "      <th>213433</th>\n",
       "      <td>1</td>\n",
       "      <td>0</td>\n",
       "      <td>NDF</td>\n",
       "    </tr>\n",
       "    <tr>\n",
       "      <th>213434</th>\n",
       "      <td>1</td>\n",
       "      <td>0</td>\n",
       "      <td>NDF</td>\n",
       "    </tr>\n",
       "    <tr>\n",
       "      <th>213435</th>\n",
       "      <td>1</td>\n",
       "      <td>0</td>\n",
       "      <td>NDF</td>\n",
       "    </tr>\n",
       "    <tr>\n",
       "      <th>213436</th>\n",
       "      <td>0</td>\n",
       "      <td>1</td>\n",
       "      <td>NDF</td>\n",
       "    </tr>\n",
       "    <tr>\n",
       "      <th>213437</th>\n",
       "      <td>0</td>\n",
       "      <td>1</td>\n",
       "      <td>NDF</td>\n",
       "    </tr>\n",
       "    <tr>\n",
       "      <th>213438</th>\n",
       "      <td>0</td>\n",
       "      <td>1</td>\n",
       "      <td>NDF</td>\n",
       "    </tr>\n",
       "    <tr>\n",
       "      <th>213439</th>\n",
       "      <td>0</td>\n",
       "      <td>1</td>\n",
       "      <td>NDF</td>\n",
       "    </tr>\n",
       "    <tr>\n",
       "      <th>213440</th>\n",
       "      <td>1</td>\n",
       "      <td>0</td>\n",
       "      <td>NDF</td>\n",
       "    </tr>\n",
       "    <tr>\n",
       "      <th>213441</th>\n",
       "      <td>1</td>\n",
       "      <td>0</td>\n",
       "      <td>NDF</td>\n",
       "    </tr>\n",
       "    <tr>\n",
       "      <th>213442</th>\n",
       "      <td>0</td>\n",
       "      <td>1</td>\n",
       "      <td>NDF</td>\n",
       "    </tr>\n",
       "    <tr>\n",
       "      <th>213443</th>\n",
       "      <td>1</td>\n",
       "      <td>0</td>\n",
       "      <td>NDF</td>\n",
       "    </tr>\n",
       "    <tr>\n",
       "      <th>213444</th>\n",
       "      <td>1</td>\n",
       "      <td>0</td>\n",
       "      <td>NDF</td>\n",
       "    </tr>\n",
       "    <tr>\n",
       "      <th>213445</th>\n",
       "      <td>1</td>\n",
       "      <td>0</td>\n",
       "      <td>NDF</td>\n",
       "    </tr>\n",
       "    <tr>\n",
       "      <th>213446</th>\n",
       "      <td>0</td>\n",
       "      <td>1</td>\n",
       "      <td>NDF</td>\n",
       "    </tr>\n",
       "    <tr>\n",
       "      <th>213447</th>\n",
       "      <td>0</td>\n",
       "      <td>1</td>\n",
       "      <td>NDF</td>\n",
       "    </tr>\n",
       "    <tr>\n",
       "      <th>213448</th>\n",
       "      <td>0</td>\n",
       "      <td>1</td>\n",
       "      <td>NDF</td>\n",
       "    </tr>\n",
       "    <tr>\n",
       "      <th>213449</th>\n",
       "      <td>0</td>\n",
       "      <td>1</td>\n",
       "      <td>US</td>\n",
       "    </tr>\n",
       "    <tr>\n",
       "      <th>213450</th>\n",
       "      <td>1</td>\n",
       "      <td>0</td>\n",
       "      <td>NDF</td>\n",
       "    </tr>\n",
       "    <tr>\n",
       "      <th>213451</th>\n",
       "      <td>1</td>\n",
       "      <td>0</td>\n",
       "      <td>ES</td>\n",
       "    </tr>\n",
       "    <tr>\n",
       "      <th>213452</th>\n",
       "      <td>1</td>\n",
       "      <td>0</td>\n",
       "      <td>NDF</td>\n",
       "    </tr>\n",
       "    <tr>\n",
       "      <th>213453</th>\n",
       "      <td>1</td>\n",
       "      <td>0</td>\n",
       "      <td>US</td>\n",
       "    </tr>\n",
       "    <tr>\n",
       "      <th>213454</th>\n",
       "      <td>0</td>\n",
       "      <td>1</td>\n",
       "      <td>NDF</td>\n",
       "    </tr>\n",
       "    <tr>\n",
       "      <th>213455</th>\n",
       "      <td>1</td>\n",
       "      <td>0</td>\n",
       "      <td>US</td>\n",
       "    </tr>\n",
       "    <tr>\n",
       "      <th>213456</th>\n",
       "      <td>0</td>\n",
       "      <td>1</td>\n",
       "      <td>NDF</td>\n",
       "    </tr>\n",
       "    <tr>\n",
       "      <th>213457</th>\n",
       "      <td>0</td>\n",
       "      <td>1</td>\n",
       "      <td>NDF</td>\n",
       "    </tr>\n",
       "    <tr>\n",
       "      <th>213458</th>\n",
       "      <td>1</td>\n",
       "      <td>0</td>\n",
       "      <td>NDF</td>\n",
       "    </tr>\n",
       "    <tr>\n",
       "      <th>213459</th>\n",
       "      <td>1</td>\n",
       "      <td>0</td>\n",
       "      <td>NDF</td>\n",
       "    </tr>\n",
       "    <tr>\n",
       "      <th>213460</th>\n",
       "      <td>0</td>\n",
       "      <td>1</td>\n",
       "      <td>NDF</td>\n",
       "    </tr>\n",
       "  </tbody>\n",
       "</table>\n",
       "<p>213461 rows × 3 columns</p>\n",
       "</div>"
      ],
      "text/plain": [
       "        FEMALE  MALE country_destination\n",
       "0            0     1                 NDF\n",
       "1            0     1                 NDF\n",
       "2            1     0                  US\n",
       "3            1     0               other\n",
       "4            1     0                  US\n",
       "5            1     0                  US\n",
       "6            1     0                  US\n",
       "7            1     0                  US\n",
       "8            1     0                  US\n",
       "9            1     0                  US\n",
       "10           1     0                  US\n",
       "11           1     0                 NDF\n",
       "12           1     0                  FR\n",
       "13           1     0                 NDF\n",
       "14           1     0                 NDF\n",
       "15           1     0                  CA\n",
       "16           1     0                 NDF\n",
       "17           1     0                  US\n",
       "18           1     0                 NDF\n",
       "19           1     0                  FR\n",
       "20           1     0                  US\n",
       "21           0     1                  US\n",
       "22           1     0                  US\n",
       "23           1     0                 NDF\n",
       "24           1     0                 NDF\n",
       "25           1     0                  FR\n",
       "26           1     0                 NDF\n",
       "27           1     0                  US\n",
       "28           1     0                  FR\n",
       "29           1     0                  US\n",
       "...        ...   ...                 ...\n",
       "213431       1     0                 NDF\n",
       "213432       1     0                 NDF\n",
       "213433       1     0                 NDF\n",
       "213434       1     0                 NDF\n",
       "213435       1     0                 NDF\n",
       "213436       0     1                 NDF\n",
       "213437       0     1                 NDF\n",
       "213438       0     1                 NDF\n",
       "213439       0     1                 NDF\n",
       "213440       1     0                 NDF\n",
       "213441       1     0                 NDF\n",
       "213442       0     1                 NDF\n",
       "213443       1     0                 NDF\n",
       "213444       1     0                 NDF\n",
       "213445       1     0                 NDF\n",
       "213446       0     1                 NDF\n",
       "213447       0     1                 NDF\n",
       "213448       0     1                 NDF\n",
       "213449       0     1                  US\n",
       "213450       1     0                 NDF\n",
       "213451       1     0                  ES\n",
       "213452       1     0                 NDF\n",
       "213453       1     0                  US\n",
       "213454       0     1                 NDF\n",
       "213455       1     0                  US\n",
       "213456       0     1                 NDF\n",
       "213457       0     1                 NDF\n",
       "213458       1     0                 NDF\n",
       "213459       1     0                 NDF\n",
       "213460       0     1                 NDF\n",
       "\n",
       "[213461 rows x 3 columns]"
      ]
     },
     "execution_count": 22,
     "metadata": {},
     "output_type": "execute_result"
    }
   ],
   "source": [
    "train_all_remove.loc[:,['FEMALE', 'MALE', 'country_destination']]"
   ]
  },
  {
   "cell_type": "code",
   "execution_count": null,
   "metadata": {},
   "outputs": [],
   "source": []
  }
 ],
 "metadata": {
  "kernelspec": {
   "display_name": "Python 3",
   "language": "python",
   "name": "python3"
  },
  "language_info": {
   "codemirror_mode": {
    "name": "ipython",
    "version": 3
   },
   "file_extension": ".py",
   "mimetype": "text/x-python",
   "name": "python",
   "nbconvert_exporter": "python",
   "pygments_lexer": "ipython3",
   "version": "3.6.3"
  }
 },
 "nbformat": 4,
 "nbformat_minor": 2
}
