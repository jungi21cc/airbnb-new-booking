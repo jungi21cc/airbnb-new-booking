{
 "cells": [
  {
   "cell_type": "markdown",
   "metadata": {},
   "source": [
    "# Project : Airbnb New User Booking\n",
    "---\n",
    "\n",
    "### Abstract :  \n",
    "\n",
    "- purpose of prediction\n",
    "\n",
    "- Model\n",
    "\n",
    "- Score\n",
    "\n",
    "\n",
    "### Introduction :\n",
    "\n",
    "- purpose of analysis : Predict destination country\n",
    "\n",
    "- evaluation metric : NDCG (Normalized discounted cumulative gain)\n",
    "\n",
    "- evaluation question : \n",
    "\n",
    "\n",
    "### Methods :\n",
    "\n",
    "- Description of selected model :\n",
    "\n",
    "- comparision of selected model and other method :\n",
    "\n",
    "- feature engineering : \n",
    "\n",
    "        - train / test missing data : \n",
    "        \n",
    "        - train / test categorical data :\n",
    "        \n",
    "        - sessions :\n",
    "        \n",
    "        - dropped data : age bkts, countries\n",
    "\n",
    "### Conclusions :\n",
    "\n",
    "##### A. Summary of Key Findings:\n",
    "\n",
    "##### B. Final Analysis :\n",
    "- * How does the author understand the data\n",
    "- * How does the author believe the data will impact the program\n",
    "- * Strengths and weaknesses of the program as revealed by evaluation findings \n",
    "\n",
    "##### C. Issues for Further Consideration (any outstanding issues raised by the evaluation) "
   ]
  },
  {
   "cell_type": "code",
   "execution_count": null,
   "metadata": {},
   "outputs": [],
   "source": []
  },
  {
   "cell_type": "markdown",
   "metadata": {},
   "source": [
    "### Introduction :\n",
    "\n",
    "- purpose of analysis : Predict destination country\n",
    "\n",
    "- evaluation metric : NDCG (Normalized discounted cumulative gain)\n",
    "\n",
    "\n",
    "$DCG_k=\\sum_{i=1}^k\\frac{2^{rel_i}-1}{\\log_2{\\left(i+1\\right)}}$\n",
    "\n",
    "<br/>\n",
    "\n",
    "$nDCG_k=\\frac{DCG_k}{IDCG_k}$\n"
   ]
  },
  {
   "cell_type": "markdown",
   "metadata": {},
   "source": []
  },
  {
   "cell_type": "markdown",
   "metadata": {},
   "source": [
    "### Methods :\n",
    "\n",
    "- Description of selected model :\n",
    "\n",
    "- comparision of selected model and other method :\n",
    "\n",
    "- feature engineering : \n",
    "\n",
    "        - train / test missing data : \n",
    "                \n",
    "                - date_first_booking : dropped\n",
    "                \n",
    "                - age : filled by clustering age buckets\n",
    "                \n",
    "                - first_affiliate_tracked : filled by mode data\n",
    "        \n",
    "        - train / test categorical data : \n",
    "        \n",
    "                - one-hot encoding\n",
    "        \n",
    "        - sessions :\n",
    "        \n",
    "                - action\n",
    "                \n",
    "                - action type\n",
    "                \n",
    "                - secs elapsed time\n",
    "        \n",
    "        - other features :\n",
    "        \n",
    "                - etc\n",
    "                \n",
    "                - etc\n",
    "        \n",
    "        - dropped data : age bkts, countries\n"
   ]
  },
  {
   "cell_type": "code",
   "execution_count": null,
   "metadata": {},
   "outputs": [],
   "source": []
  },
  {
   "cell_type": "code",
   "execution_count": null,
   "metadata": {},
   "outputs": [],
   "source": []
  },
  {
   "cell_type": "markdown",
   "metadata": {},
   "source": [
    "# missing data"
   ]
  },
  {
   "cell_type": "code",
   "execution_count": 1,
   "metadata": {},
   "outputs": [],
   "source": [
    "from IPython.display import display\n",
    "import numpy as np\n",
    "import matplotlib.pyplot as plt\n",
    "import pandas as pd\n",
    "import seaborn as sns\n",
    "\n",
    "%matplotlib inline\n",
    "\n",
    "import warnings\n",
    "warnings.filterwarnings(\"ignore\")"
   ]
  },
  {
   "cell_type": "code",
   "execution_count": 17,
   "metadata": {},
   "outputs": [],
   "source": [
    "df_train = pd.read_csv(\"data/train_users_2.csv\")\n",
    "df_test = pd.read_csv(\"data/test_users.csv\")\n",
    "df_all = pd.concat([df_train, df_test])\n",
    "df_sample = pd.read_csv('data/sample_submission_NDF.csv')\n",
    "df_countries = pd.read_csv('data/countries.csv')\n",
    "df_sessions = pd.read_csv('data/sessions.csv')\n",
    "df_age_bkts = pd.read_csv('data/age_gender_bkts.csv')"
   ]
  },
  {
   "cell_type": "code",
   "execution_count": 7,
   "metadata": {},
   "outputs": [
    {
     "data": {
      "text/plain": [
       "id                              0\n",
       "date_account_created            0\n",
       "timestamp_first_active          0\n",
       "date_first_booking         124543\n",
       "gender                          0\n",
       "age                         87990\n",
       "signup_method                   0\n",
       "signup_flow                     0\n",
       "language                        0\n",
       "affiliate_channel               0\n",
       "affiliate_provider              0\n",
       "first_affiliate_tracked      6065\n",
       "signup_app                      0\n",
       "first_device_type               0\n",
       "first_browser                   0\n",
       "country_destination             0\n",
       "dtype: int64"
      ]
     },
     "execution_count": 7,
     "metadata": {},
     "output_type": "execute_result"
    }
   ],
   "source": [
    "df_train.isnull().sum()"
   ]
  },
  {
   "cell_type": "code",
   "execution_count": 14,
   "metadata": {},
   "outputs": [
    {
     "name": "stdout",
     "output_type": "stream",
     "text": [
      "Missing data ratio\n",
      "booking : 58.35\n",
      "age : 41.22\n",
      "affiliate : 2.84\n"
     ]
    }
   ],
   "source": [
    "print('Missing data ratio')\n",
    "print('booking :',round(df_train.date_first_booking.isnull().sum() / len(df_train) * 100, 2))\n",
    "print('age :',round(df_train.age.isnull().sum() / len(df_train) * 100, 2))\n",
    "print('affiliate :',round(df_train.first_affiliate_tracked.isnull().sum() / len(df_train) * 100, 2))"
   ]
  },
  {
   "cell_type": "code",
   "execution_count": 8,
   "metadata": {},
   "outputs": [
    {
     "data": {
      "text/plain": [
       "id                             0\n",
       "date_account_created           0\n",
       "timestamp_first_active         0\n",
       "date_first_booking         62096\n",
       "gender                         0\n",
       "age                        28876\n",
       "signup_method                  0\n",
       "signup_flow                    0\n",
       "language                       0\n",
       "affiliate_channel              0\n",
       "affiliate_provider             0\n",
       "first_affiliate_tracked       20\n",
       "signup_app                     0\n",
       "first_device_type              0\n",
       "first_browser                  0\n",
       "dtype: int64"
      ]
     },
     "execution_count": 8,
     "metadata": {},
     "output_type": "execute_result"
    }
   ],
   "source": [
    "df_test.isnull().sum()"
   ]
  },
  {
   "cell_type": "code",
   "execution_count": 15,
   "metadata": {},
   "outputs": [
    {
     "name": "stdout",
     "output_type": "stream",
     "text": [
      "Missing data ratio\n",
      "booking : 100.0\n",
      "age : 46.5\n",
      "affiliate : 0.03\n"
     ]
    }
   ],
   "source": [
    "print('Missing data ratio')\n",
    "print('booking :',round(df_test.date_first_booking.isnull().sum() / len(df_test) * 100, 2))\n",
    "print('age :',round(df_test.age.isnull().sum() / len(df_test) * 100, 2))\n",
    "print('affiliate :',round(df_test.first_affiliate_tracked.isnull().sum() / len(df_test) * 100, 2))"
   ]
  },
  {
   "cell_type": "code",
   "execution_count": null,
   "metadata": {},
   "outputs": [],
   "source": []
  },
  {
   "cell_type": "code",
   "execution_count": null,
   "metadata": {},
   "outputs": [],
   "source": []
  },
  {
   "cell_type": "code",
   "execution_count": null,
   "metadata": {},
   "outputs": [],
   "source": []
  },
  {
   "cell_type": "code",
   "execution_count": null,
   "metadata": {},
   "outputs": [],
   "source": []
  },
  {
   "cell_type": "code",
   "execution_count": null,
   "metadata": {},
   "outputs": [],
   "source": []
  },
  {
   "cell_type": "code",
   "execution_count": null,
   "metadata": {},
   "outputs": [],
   "source": []
  },
  {
   "cell_type": "code",
   "execution_count": null,
   "metadata": {},
   "outputs": [],
   "source": []
  },
  {
   "cell_type": "code",
   "execution_count": null,
   "metadata": {},
   "outputs": [],
   "source": []
  },
  {
   "cell_type": "code",
   "execution_count": null,
   "metadata": {},
   "outputs": [],
   "source": []
  },
  {
   "cell_type": "code",
   "execution_count": null,
   "metadata": {},
   "outputs": [],
   "source": []
  },
  {
   "cell_type": "code",
   "execution_count": null,
   "metadata": {},
   "outputs": [],
   "source": []
  },
  {
   "cell_type": "markdown",
   "metadata": {},
   "source": [
    "#### (3) Explore Target"
   ]
  },
  {
   "cell_type": "markdown",
   "metadata": {},
   "source": [
    "### 3. Feature Engineering"
   ]
  },
  {
   "cell_type": "markdown",
   "metadata": {},
   "source": [
    "#### (1) Impute featrues"
   ]
  },
  {
   "cell_type": "markdown",
   "metadata": {},
   "source": [
    "##### 1-1. Age"
   ]
  },
  {
   "cell_type": "markdown",
   "metadata": {},
   "source": [
    "##### 1-2. Gender"
   ]
  },
  {
   "cell_type": "markdown",
   "metadata": {},
   "source": [
    "##### 1-3. first_affiliate_tracked"
   ]
  },
  {
   "cell_type": "markdown",
   "metadata": {},
   "source": [
    "##### 1-4. date_first_booking"
   ]
  },
  {
   "cell_type": "markdown",
   "metadata": {},
   "source": [
    "#### (2) Create featrues"
   ]
  },
  {
   "cell_type": "markdown",
   "metadata": {},
   "source": [
    "##### 2-1. Faithless sign-in"
   ]
  },
  {
   "cell_type": "markdown",
   "metadata": {},
   "source": [
    "##### 2-2. Session info"
   ]
  },
  {
   "cell_type": "markdown",
   "metadata": {},
   "source": [
    "##### 2-3. Date info"
   ]
  },
  {
   "cell_type": "markdown",
   "metadata": {},
   "source": [
    "##### 2-4. Lag-time"
   ]
  },
  {
   "cell_type": "markdown",
   "metadata": {},
   "source": [
    "#### (3) Featrues selection"
   ]
  },
  {
   "cell_type": "markdown",
   "metadata": {},
   "source": [
    "##### 3-1. Use importance feature"
   ]
  },
  {
   "cell_type": "code",
   "execution_count": null,
   "metadata": {},
   "outputs": [],
   "source": []
  },
  {
   "cell_type": "markdown",
   "metadata": {},
   "source": [
    "### 4. Modeling"
   ]
  },
  {
   "cell_type": "markdown",
   "metadata": {},
   "source": [
    "#### (1) Selection Model"
   ]
  },
  {
   "cell_type": "markdown",
   "metadata": {},
   "source": [
    "#### (2) Parameter tuning"
   ]
  },
  {
   "cell_type": "markdown",
   "metadata": {},
   "source": [
    "### 5. Analysis the result"
   ]
  },
  {
   "cell_type": "code",
   "execution_count": null,
   "metadata": {},
   "outputs": [],
   "source": []
  }
 ],
 "metadata": {
  "kernelspec": {
   "display_name": "Python 3",
   "language": "python",
   "name": "python3"
  },
  "language_info": {
   "codemirror_mode": {
    "name": "ipython",
    "version": 3
   },
   "file_extension": ".py",
   "mimetype": "text/x-python",
   "name": "python",
   "nbconvert_exporter": "python",
   "pygments_lexer": "ipython3",
   "version": "3.6.3"
  }
 },
 "nbformat": 4,
 "nbformat_minor": 2
}
