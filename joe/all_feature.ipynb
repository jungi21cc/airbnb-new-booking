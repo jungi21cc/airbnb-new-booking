{
 "cells": [
  {
   "cell_type": "code",
   "execution_count": 1,
   "metadata": {},
   "outputs": [],
   "source": [
    "import pandas as pd\n",
    "import numpy as np\n",
    "import lightgbm as lgb\n",
    "import xgboost as xgb\n",
    "import numpy as np\n",
    "import pandas as pd\n",
    "from sklearn.preprocessing import LabelEncoder\n",
    "from xgboost.sklearn import XGBClassifier\n",
    "from sklearn.discriminant_analysis import QuadraticDiscriminantAnalysis\n",
    "from sklearn.discriminant_analysis import LinearDiscriminantAnalysis\n",
    "\n",
    "import warnings\n",
    "warnings.filterwarnings(\"ignore\")"
   ]
  },
  {
   "cell_type": "code",
   "execution_count": 2,
   "metadata": {},
   "outputs": [],
   "source": [
    "def pre_setting():\n",
    "    last_train_data_add = pd.read_csv(\"last_train_data_add.csv\")\n",
    "    last_test_data_add = pd.read_csv(\"last_test_data_add.csv\")\n",
    "    \n",
    "    X = last_train_data_add\n",
    "    y = last_test_data_add\n",
    "    \n",
    "    model_lgb = lgb.LGBMClassifier(nthread=3)\n",
    "    model_qda = QuadraticDiscriminantAnalysis(store_covariance=True)\n",
    "    model_lda = LinearDiscriminantAnalysis(n_components=3, solver=\"svd\", store_covariance=True)\n",
    "    model_xg = XGBClassifier(nthread=3)\n",
    "    \n",
    "    return X, y, model_lgb, model_qda, model_lda, model_xg\n",
    "\n",
    "X, y, model_lgb, model_qda, model_lda, model_xg = pre_setting()"
   ]
  },
  {
   "cell_type": "code",
   "execution_count": null,
   "metadata": {},
   "outputs": [],
   "source": [
    "def submit_kaggle(df_train, df_test, model, user_id = \"id\", target = \"country_destination\"):\n",
    "    \n",
    "    le = LabelEncoder()\n",
    "\n",
    "    y_train = le.fit_transform(df_train[target])\n",
    "    X_train = df_train.drop([target, user_id], axis = 1)\n",
    "    \n",
    "    X_test_id = df_test[user_id]\n",
    "    X_test = df_test.drop([user_id, target], axis = 1)\n",
    "    \n",
    "\n",
    "    print(\"model fitting 시작\")\n",
    "    model = model.fit(X_train, y_train)\n",
    "    predic_proba = model.predict_proba(X_test)\n",
    "    print(\"model fitting 종료\")\n",
    "\n",
    "    df_submit = pd.DataFrame(columns=[\"id\", \"country\"])\n",
    "    ids = []\n",
    "    cts = []\n",
    "    for i in range(len(X_test_id)):\n",
    "        idx = X_test_id.iloc[i]\n",
    "        ids += [idx] * 5\n",
    "        cts += le.inverse_transform(np.argsort(predic_proba[i])[::-1])[:5].tolist()\n",
    "    df_submit[\"id\"] = ids\n",
    "    df_submit[\"country\"] = cts\n",
    "    df_submit.to_csv('submit_xg.csv', index = False)\n",
    "    print(\"csv file 생성\")\n",
    "    !kaggle competitions submit -c airbnb-recruiting-new-user-bookings -f 'submit_xg.csv' -m \"Message\""
   ]
  },
  {
   "cell_type": "code",
   "execution_count": null,
   "metadata": {},
   "outputs": [
    {
     "name": "stdout",
     "output_type": "stream",
     "text": [
      "model fitting 시작\n"
     ]
    }
   ],
   "source": [
    "submit_kaggle(X, y, model_lgb, \"id\", \"country_destination\")"
   ]
  },
  {
   "cell_type": "code",
   "execution_count": null,
   "metadata": {},
   "outputs": [],
   "source": []
  }
 ],
 "metadata": {
  "kernelspec": {
   "display_name": "Python 3",
   "language": "python",
   "name": "python3"
  },
  "language_info": {
   "codemirror_mode": {
    "name": "ipython",
    "version": 3
   },
   "file_extension": ".py",
   "mimetype": "text/x-python",
   "name": "python",
   "nbconvert_exporter": "python",
   "pygments_lexer": "ipython3",
   "version": "3.6.3"
  }
 },
 "nbformat": 4,
 "nbformat_minor": 2
}
