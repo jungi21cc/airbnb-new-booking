{
 "cells": [
  {
   "cell_type": "code",
   "execution_count": null,
   "metadata": {},
   "outputs": [],
   "source": [
    "import lightgbm as lgb\n",
    "import xgboost as xgb\n",
    "import numpy as np\n",
    "import pandas as pd\n",
    "from sklearn.preprocessing import LabelEncoder\n",
    "from xgboost.sklearn import XGBClassifier\n",
    "from sklearn.ensemble import ExtraTreesClassifier\n",
    "from sklearn import clone\n",
    "from sklearn.datasets import load_iris\n",
    "from sklearn.ensemble import RandomForestClassifier, ExtraTreesClassifier\n",
    "from sklearn.tree import DecisionTreeClassifier\n",
    "from sklearn import linear_model"
   ]
  },
  {
   "cell_type": "code",
   "execution_count": null,
   "metadata": {},
   "outputs": [],
   "source": [
    "import numpy as np\n",
    "from sklearn.linear_model import LogisticRegression\n",
    "from sklearn.naive_bayes import GaussianNB\n",
    "from sklearn.ensemble import RandomForestClassifier, VotingClassifier\n",
    "clf1 = linear_model.LogisticRegression(n_jobs=-1, random_state=0)\n",
    "clf2 = RandomForestClassifier(n_jobs=-1,max_depth=4, random_state=0)\n",
    "clf3 = ExtraTreesClassifier(n_jobs=-1, max_depth=4, random_state=0)\n",
    "clf4 = xgb.XGBClassifier(max_depth=4 , n_jobs=-1, random_state=0)\n",
    "clf5 = lgb.LGBMClassifier(max_depth=4, random_state=0, n_jobs=-1)\n",
    "\n",
    "\n",
    "# eclf1 = VotingClassifier(estimators=[('log', clf1), ('rf', clf2), ('ex', clf3), ('xgb', clf4), ('lgb', clf5)], voting='hard')\n",
    "# eclf1 = eclf1.fit(df_train, y_label)\n",
    "# y_ecl1 = eclf1.predict_proba(df_test)\n",
    "# print(y_ecl1)\n",
    "\n",
    "eclf2 = VotingClassifier(estimators=[('log', clf1), ('rf', clf2), ('ex', clf3), ('xgb', clf4), ('lgb', clf5)], voting='soft')\n",
    "eclf2 = eclf2.fit(df_train, y_label)\n",
    "y_ecl2 = eclf2.predict_proba(df_test)\n",
    "print(y_ecl2)\n",
    "\n",
    "# eclf3 = VotingClassifier(estimators=[('log', clf1), ('rf', clf2), ('ex', clf3), ('xgb', clf4), ('lgb', clf5)], voting='soft', weights=[1,1,1,1,1])\n",
    "# eclf3 = eclf3.fit(df_train, y_label)\n",
    "# y_ecl3 = eclf3.predict_proba(df_test)\n",
    "# print(y_ecl3)"
   ]
  },
  {
   "cell_type": "code",
   "execution_count": null,
   "metadata": {},
   "outputs": [],
   "source": [
    "#predict_proba\n",
    "ids = []  #list of ids\n",
    "cts = []  #list of countries\n",
    "for i in range(len(df_sample)):\n",
    "    idx = df_sample.iloc[i, 0]\n",
    "    ids += [idx] * 5\n",
    "    cts += le.inverse_transform(np.argsort(y_ecl2[i])[::-1])[:5].tolist()\n",
    "\n",
    "df_sample1 = pd.DataFrame(columns=['id', 'country'])\n",
    "df_sample1['id'] = ids\n",
    "df_sample1['country'] = cts\n",
    "df_sample1 = df_sample1.reset_index(drop=True)\n",
    "df_sample1.to_csv('sub_ecl2.csv', sep=',', na_rep='NaN', index = False)\n"
   ]
  }
 ],
 "metadata": {
  "kernelspec": {
   "display_name": "Python 3",
   "language": "python",
   "name": "python3"
  },
  "language_info": {
   "codemirror_mode": {
    "name": "ipython",
    "version": 3
   },
   "file_extension": ".py",
   "mimetype": "text/x-python",
   "name": "python",
   "nbconvert_exporter": "python",
   "pygments_lexer": "ipython3",
   "version": "3.6.3"
  }
 },
 "nbformat": 4,
 "nbformat_minor": 2
}
