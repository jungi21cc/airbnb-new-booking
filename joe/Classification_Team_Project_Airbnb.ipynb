{
 "cells": [
  {
   "cell_type": "code",
   "execution_count": 1,
   "metadata": {},
   "outputs": [],
   "source": [
    "age_gender_bkts = pd.read_csv(\"age_gender_bkts.csv\")\n",
    "countries = pd.read_csv(\"countries.csv\")\n",
    "sessions = pd.read_csv(\"sessions.csv\")\n",
    "test_users = pd.read_csv(\"test_users.csv\")\n",
    "train_users_2 = pd.read_csv(\"train_users_2.csv\")\n",
    "sample_submission_NDF = pd.read_csv(\"sample_submission_NDF.csv\")"
   ]
  },
  {
   "cell_type": "code",
   "execution_count": 2,
   "metadata": {},
   "outputs": [],
   "source": [
    "def merge_Airbnb_data():\n",
    "    \n",
    "    test_users[\"country_destination\"] = np.nan\n",
    "    Airbnb = pd.concat([train_users_2,test_users], ignore_index=True, axis=0)\n",
    "    Airbnb = pd.merge(Airbnb, sessions, left_on=\"id\", right_on=\"user_id\",how=\"left\")\n",
    "    Airbnb = pd.merge(Airbnb, countries, how=\"left\", left_on=\"country_destination\", right_on=\"country_destination\")\n",
    "    \n",
    "    return Airbnb\n",
    "\n",
    "Airbnb = merge_Airbnb_data()"
   ]
  },
  {
   "cell_type": "code",
   "execution_count": 3,
   "metadata": {},
   "outputs": [],
   "source": [
    "def datetime_check():\n",
    "    \n",
    "    Airbnb[\"trans_timestamp_first_active\"] = Airbnb[\"timestamp_first_active\"].apply(lambda x: str(x)[:8])\n",
    "    Airbnb[\"c_time\"] = pd.to_datetime(Airbnb.date_account_created)\n",
    "    Airbnb[\"b_time\"] = pd.to_datetime(Airbnb.trans_timestamp_first_active)\n",
    "    Airbnb[\"time_subs\"] = Airbnb[\"c_time\"] - Airbnb[\"b_time\"]\n",
    "    \n",
    "    return Airbnb\n",
    "\n",
    "Airbnb = datetime_check()"
   ]
  },
  {
   "cell_type": "code",
   "execution_count": 5,
   "metadata": {},
   "outputs": [],
   "source": [
    "def data_transform():\n",
    "    \n",
    "    Airbnb[\"y\"] = Airbnb[\"country_destination\"].replace({'NDF':0, 'US':1, 'other':2, 'FR':3, 'CA':4, 'GB':5, \n",
    "                                                         'ES':6, 'IT':7, 'PT':8, 'NL':9,'DE':10, 'AU':11, np.nan:12})\n",
    "    Airbnb[\"signup_app_transform\"] = Airbnb[\"signup_app\"].replace({'Web':0, 'Moweb':1, 'iOS':2, 'Android':3})\n",
    "    Airbnb[\"signup_method_transform\"] = Airbnb[\"signup_method\"].replace({'facebook':0,'basic':1,'google':2,'weibo':3})\n",
    "    Airbnb[\"time_subs_change\"] = Airbnb[\"time_subs\"].astype(str)\n",
    "    Airbnb[\"time_subs_change\"] = Airbnb[\"time_subs_change\"].replace(\" days 00:00:00.000000000\" , \"\", regex=True)\n",
    "    Airbnb[\"time_subs_change\"] = Airbnb[\"time_subs_change\"].astype(float)\n",
    "    \n",
    "    c = Airbnb.filter(items=[\"signup_app_transform\", \"signup_method_transform\", \"time_subs_change\"])\n",
    "    \n",
    "    return Airbnb, c\n",
    "\n",
    "Airbnb, c = data_transform()"
   ]
  },
  {
   "cell_type": "code",
   "execution_count": 6,
   "metadata": {},
   "outputs": [],
   "source": [
    "from sklearn.metrics import *\n",
    "from sklearn.discriminant_analysis import QuadraticDiscriminantAnalysis\n",
    "from sklearn.discriminant_analysis import LinearDiscriminantAnalysis\n",
    "\n",
    "def test_classification():\n",
    "    \n",
    "    #qda\n",
    "    qda = QuadraticDiscriminantAnalysis(store_covariance=True).fit(c, Airbnb[\"y\"])\n",
    "    \n",
    "    y_true = Airbnb[\"y\"]\n",
    "    y_pred = qda.predict(c)\n",
    "    \n",
    "    #lda\n",
    "    lda = LinearDiscriminantAnalysis(n_components=3, solver=\"svd\", store_covariance=True).fit(c, Airbnb[\"y\"])\n",
    "    \n",
    "    y_true_l = Airbnb[\"y\"]\n",
    "    y_pred_l = lda.predict(c)\n",
    "\n",
    "    \n",
    "    print(\"QDA\"), print('\\n'), print('qda_accuracy_score =', accuracy_score(Airbnb['y'], qda.predict(c))), \\\n",
    "   #print(confusion_matrix(y_true, y_pred)), \\ \n",
    "    print('\\n'), print(classification_report(y_true, y_pred)), print('\\n'), \\\n",
    "    \n",
    "    print(\"========================================================================\"), print('\\n'),\\\n",
    "    \n",
    "    print(\"LDA\"), print('\\n'), print('lda_accuracy_score =', accuracy_score(Airbnb['y'], lda.predict(c))), \\\n",
    "   #print(confusion_matrix(y_true_l, y_pred_l)),\\\n",
    "    print('\\n'), print(classification_report(y_true_l, y_pred_l))"
   ]
  },
  {
   "cell_type": "code",
   "execution_count": 7,
   "metadata": {},
   "outputs": [],
   "source": [
    "import warnings\n",
    "warnings.filterwarnings('ignore')"
   ]
  },
  {
   "cell_type": "code",
   "execution_count": 8,
   "metadata": {
    "scrolled": false
   },
   "outputs": [
    {
     "name": "stdout",
     "output_type": "stream",
     "text": [
      "QDA\n",
      "\n",
      "\n",
      "qda_accuracy_score = 0.0005908198069857463\n",
      "\n",
      "\n",
      "             precision    recall  f1-score   support\n",
      "\n",
      "          0       0.00      0.00      0.00   3137212\n",
      "          1       0.00      0.00      0.00   1717805\n",
      "          2       0.00      0.00      0.00    327603\n",
      "          3       0.00      0.00      0.00    149748\n",
      "          4       0.00      0.00      0.00     40286\n",
      "          5       0.00      0.00      0.00     66624\n",
      "          6       0.00      0.00      0.00     68716\n",
      "          7       0.00      0.00      0.00    103607\n",
      "          8       0.00      1.00      0.00      6306\n",
      "          9       0.00      0.00      0.00     23083\n",
      "         10       0.00      0.00      0.00     24202\n",
      "         11       0.00      0.00      0.00     12401\n",
      "         12       0.00      0.00      0.00   4995712\n",
      "\n",
      "avg / total       0.00      0.00      0.00  10673305\n",
      "\n",
      "\n",
      "\n",
      "========================================================================\n",
      "\n",
      "\n",
      "LDA\n",
      "\n",
      "\n",
      "lda_accuracy_score = 0.4680580195169163\n",
      "\n",
      "\n",
      "             precision    recall  f1-score   support\n",
      "\n",
      "          0       0.31      0.00      0.00   3137212\n",
      "          1       0.60      0.00      0.00   1717805\n",
      "          2       0.00      0.00      0.00    327603\n",
      "          3       0.00      0.00      0.00    149748\n",
      "          4       0.00      0.00      0.00     40286\n",
      "          5       0.00      0.00      0.00     66624\n",
      "          6       0.00      0.00      0.00     68716\n",
      "          7       0.00      0.00      0.00    103607\n",
      "          8       0.00      0.00      0.00      6306\n",
      "          9       0.00      0.00      0.00     23083\n",
      "         10       0.04      0.00      0.00     24202\n",
      "         11       0.00      0.00      0.00     12401\n",
      "         12       0.47      1.00      0.64   4995712\n",
      "\n",
      "avg / total       0.41      0.47      0.30  10673305\n",
      "\n"
     ]
    }
   ],
   "source": [
    "test_classification() #QDA, LDA"
   ]
  },
  {
   "cell_type": "code",
   "execution_count": 9,
   "metadata": {},
   "outputs": [],
   "source": [
    "import xgboost\n",
    "from xgboost.sklearn import XGBClassifier\n",
    "from sklearn.ensemble import GradientBoostingClassifier\n",
    "from sklearn.ensemble import AdaBoostClassifier\n",
    "from sklearn.tree import DecisionTreeClassifier\n",
    "\n",
    "def test_xgboost():\n",
    "    x = c[:555555]\n",
    "    y = Airbnb[\"y\"][:555555]\n",
    "    model = XGBClassifier()\n",
    "    model.fit(x,y)\n",
    "    \n",
    "    print(model)\n",
    "    print('\\n')\n",
    "    print(\"XGBoost\")\n",
    "    print('\\n')\n",
    "    print(\"test_xgboost_accuracy_score =\", accuracy_score(y, model.predict(x)))\n",
    "    print('\\n')\n",
    "    print(classification_report(y, model.predict(x)))\n",
    "    print('\\n')\n",
    "   #print(confusion_matrix(y, model.predict(x)))"
   ]
  },
  {
   "cell_type": "code",
   "execution_count": 10,
   "metadata": {},
   "outputs": [
    {
     "name": "stdout",
     "output_type": "stream",
     "text": [
      "XGBClassifier(base_score=0.5, booster='gbtree', colsample_bylevel=1,\n",
      "       colsample_bytree=1, gamma=0, learning_rate=0.1, max_delta_step=0,\n",
      "       max_depth=3, min_child_weight=1, missing=None, n_estimators=100,\n",
      "       n_jobs=1, nthread=None, objective='multi:softprob', random_state=0,\n",
      "       reg_alpha=0, reg_lambda=1, scale_pos_weight=1, seed=None,\n",
      "       silent=True, subsample=1)\n",
      "\n",
      "\n",
      "XGBoost\n",
      "\n",
      "\n",
      "test_xgboost_accuracy_score = 0.5723357723357724\n",
      "\n",
      "\n",
      "             precision    recall  f1-score   support\n",
      "\n",
      "          0       0.57      1.00      0.73    317902\n",
      "          1       0.64      0.00      0.00    168414\n",
      "          2       1.00      0.00      0.00     28550\n",
      "          3       0.00      0.00      0.00     16725\n",
      "          4       0.00      0.00      0.00      2083\n",
      "          5       0.00      0.00      0.00      4312\n",
      "          6       0.00      0.00      0.00      4514\n",
      "          7       0.00      0.00      0.00      7518\n",
      "          8       0.00      0.00      0.00       217\n",
      "          9       0.00      0.00      0.00      1565\n",
      "         10       1.00      0.00      0.00      2236\n",
      "         11       0.00      0.00      0.00      1519\n",
      "\n",
      "avg / total       0.58      0.57      0.42    555555\n",
      "\n",
      "\n",
      "\n"
     ]
    }
   ],
   "source": [
    "test_xgboost() #XGBoost"
   ]
  }
 ],
 "metadata": {
  "kernelspec": {
   "display_name": "Python 3",
   "language": "python",
   "name": "python3"
  },
  "language_info": {
   "codemirror_mode": {
    "name": "ipython",
    "version": 3
   },
   "file_extension": ".py",
   "mimetype": "text/x-python",
   "name": "python",
   "nbconvert_exporter": "python",
   "pygments_lexer": "ipython3",
   "version": "3.6.3"
  }
 },
 "nbformat": 4,
 "nbformat_minor": 2
}
