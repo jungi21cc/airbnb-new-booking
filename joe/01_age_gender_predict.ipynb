{
 "cells": [
  {
   "cell_type": "code",
   "execution_count": 17,
   "metadata": {},
   "outputs": [],
   "source": [
    "import pandas as pd\n",
    "import numpy as np\n",
    "from sklearn.metrics import classification_report"
   ]
  },
  {
   "cell_type": "code",
   "execution_count": 3,
   "metadata": {},
   "outputs": [],
   "source": [
    "age_gender_bkts = pd.read_csv(\"data/age_gender_bkts.csv\")\n",
    "countries = pd.read_csv(\"data/countries.csv\")\n",
    "sessions = pd.read_csv(\"data/sessions.csv\")\n",
    "test_users = pd.read_csv(\"data/test_users.csv\")\n",
    "train_users_2 = pd.read_csv(\"data/train_users_2.csv\")\n",
    "sample_submission_NDF = pd.read_csv(\"data/sample_submission_NDF.csv\")"
   ]
  },
  {
   "cell_type": "code",
   "execution_count": 4,
   "metadata": {},
   "outputs": [],
   "source": [
    "import xgboost\n",
    "from xgboost.sklearn import XGBClassifier\n",
    "from sklearn.ensemble import GradientBoostingClassifier\n",
    "from sklearn.ensemble import AdaBoostClassifier\n",
    "from sklearn.tree import DecisionTreeClassifier\n",
    "from sklearn.datasets import make_classification\n",
    "from sklearn.ensemble import ExtraTreesClassifier\n",
    "import lightgbm as lgb"
   ]
  },
  {
   "cell_type": "code",
   "execution_count": 5,
   "metadata": {},
   "outputs": [],
   "source": [
    "def pre_age_set_data():\n",
    "    \n",
    "    check = pd.concat([train_users_2, test_users], ignore_index=True)\n",
    "    \n",
    "    check[\"first_affiliate_tracked\"] = check[\"first_affiliate_tracked\"].replace(np.nan, \"untracked\")\n",
    "    \n",
    "    check[\"date_account_created\"] = pd.to_datetime(check[\"date_account_created\"], format = \"%Y-%m-%d\")\n",
    "    check[\"timestamp_first_active\"] = pd.to_datetime(check[\"timestamp_first_active\"], format=\"%Y%m%d%H%M%S\")\n",
    "\n",
    "    s_lag = check[\"timestamp_first_active\"] - check[\"date_account_created\"]\n",
    "\n",
    "    check[\"lag_days\"] = s_lag.apply(lambda x : -1 * x.days)\n",
    "    check[\"lag_seconds\"] = s_lag.apply(lambda x : x.seconds)\n",
    "\n",
    "    s_all_check = (check['age'] < 120) & (check['gender'] != '-unknown-')\n",
    "\n",
    "    check['faithless_sign'] = s_all_check.apply(lambda x : 0 if x == True else 1)\n",
    "    \n",
    "    pre_age = check.drop(\"date_first_booking\",axis = 1)\n",
    "    \n",
    "    pre_age['date_account_created_y'] = pre_age[\"date_account_created\"].apply(lambda x : x.year)\n",
    "    pre_age['date_account_created_m'] = pre_age[\"date_account_created\"].apply(lambda x : x.month)\n",
    "    pre_age['date_account_created_d'] = pre_age[\"date_account_created\"].apply(lambda x : x.day)\n",
    "\n",
    "    pre_age['timestamp_first_active_y'] = pre_age[\"timestamp_first_active\"].apply(lambda x : x.year)\n",
    "    pre_age['timestamp_first_active_m'] = pre_age[\"timestamp_first_active\"].apply(lambda x : x.month)\n",
    "    pre_age['timestamp_first_active_d'] = pre_age[\"timestamp_first_active\"].apply(lambda x : x.day)\n",
    "\n",
    "    pre_age = pre_age.drop(\"date_account_created\" , axis=1)\n",
    "    pre_age = pre_age.drop(\"timestamp_first_active\" , axis=1)\n",
    "    \n",
    "    return check, pre_age\n",
    "\n",
    "check, pre_age = pre_age_set_data()"
   ]
  },
  {
   "cell_type": "code",
   "execution_count": 7,
   "metadata": {},
   "outputs": [],
   "source": [
    "def pre_age_predict_data():\n",
    "    \n",
    "    pre_age['age'] = pre_age['age'].fillna(-1)\n",
    "    \n",
    "    pre_age_sub = pre_age.filter(items = ['age', 'country_destination','id'])\n",
    "    pre_age_dum = pre_age.filter(items = ['affiliate_channel', 'affiliate_provider',\n",
    "                                       'first_affiliate_tracked', 'first_browser', 'first_device_type',\n",
    "                                       'language', 'signup_app', 'signup_flow',\n",
    "                                       'signup_method', 'date_account_created_y', 'date_account_created_m',\n",
    "                                       'date_account_created_d', 'timestamp_first_active_y',\n",
    "                                       'timestamp_first_active_m', 'timestamp_first_active_d'])\n",
    "    \n",
    "    pre_age_dum = pd.get_dummies(pre_age_dum)\n",
    "    pre_age_dum_con = pd.concat([pre_age_dum, pre_age_sub], axis=1)\n",
    "    pre_age_dum_con[\"age\"] = pre_age_dum_con[\"age\"].replace(-1, np.nan)\n",
    "    \n",
    "    pre_age_mission = pre_age_dum_con[pre_age_dum_con[\"age\"].isnull()].reset_index()\n",
    "    pre_age_train = pre_age_dum_con[pre_age_dum_con[\"age\"].notnull()].reset_index()\n",
    "    \n",
    "    pre_age_mission_test = pre_age_mission.drop(\"index\", axis=1)\n",
    "    pre_age_train_test = pre_age_train.drop(\"index\", axis=1)\n",
    "    \n",
    "    pre_age_mission_test_drop = pre_age_mission_test.drop(['id', 'age', 'country_destination'], axis=1)\n",
    "    pre_age_train_test_drop = pre_age_train_test.drop(['id', 'age', 'country_destination'], axis=1)\n",
    "    \n",
    "    return pre_age_mission_test, pre_age_train_test, pre_age_mission, pre_age_train, \\\n",
    "            pre_age_mission_test_drop, pre_age_train_test_drop\n",
    "    \n",
    "pre_age_mission_test, pre_age_train_test, pre_age_mission, pre_age_train, \\\n",
    "            pre_age_mission_test_drop, pre_age_train_test_drop = pre_age_predict_data()"
   ]
  },
  {
   "cell_type": "code",
   "execution_count": 8,
   "metadata": {},
   "outputs": [],
   "source": [
    "def pre_age_predict_data_cat():\n",
    "    \n",
    "    bins = [0, 15, 25, 35, 60, 9999]\n",
    "    labels = [\"미성년자\", \"청년\", \"중년\", \"장년\", \"노년\"]\n",
    "    cats = pd.cut(pre_age_train['age'], bins, labels=labels)\n",
    "    cats = pd.DataFrame(cats)\n",
    "    \n",
    "    return cats\n",
    "\n",
    "cats = pre_age_predict_data_cat()"
   ]
  },
  {
   "cell_type": "code",
   "execution_count": 9,
   "metadata": {},
   "outputs": [],
   "source": [
    "labels = [\"age1\", \"age2\",\"age3\",\"age4\",\"age5\"]\n",
    "cats_q = pd.qcut(pre_age_train['age'], 5, labels=labels)"
   ]
  },
  {
   "cell_type": "code",
   "execution_count": 10,
   "metadata": {
    "scrolled": true
   },
   "outputs": [
    {
     "data": {
      "text/plain": [
       "age1    36477\n",
       "age5    31377\n",
       "age3    31139\n",
       "age2    30586\n",
       "age4    29102\n",
       "Name: age, dtype: int64"
      ]
     },
     "execution_count": 10,
     "metadata": {},
     "output_type": "execute_result"
    }
   ],
   "source": [
    "pd.value_counts(cats_q)"
   ]
  },
  {
   "cell_type": "markdown",
   "metadata": {},
   "source": [
    "---"
   ]
  },
  {
   "cell_type": "code",
   "execution_count": 15,
   "metadata": {},
   "outputs": [],
   "source": [
    "def pre_gen_predict_data():\n",
    "\n",
    "    pre_gen_sub = pre_age.filter(items = ['age', 'country_destination', 'id', 'gender'])\n",
    "    pre_gen_dum = pre_age.filter(items = ['affiliate_channel', 'affiliate_provider',\n",
    "                                       'first_affiliate_tracked', 'first_browser', 'first_device_type',\n",
    "                                         'language', 'signup_app', 'signup_flow',\n",
    "                                       'signup_method', 'date_account_created_y', 'date_account_created_m',\n",
    "                                       'date_account_created_d', 'timestamp_first_active_y',\n",
    "                                       'timestamp_first_active_m', 'timestamp_first_active_d'])\n",
    "\n",
    "\n",
    "    pre_gen_dum = pd.get_dummies(pre_gen_dum)\n",
    "    pre_gen_dum_con = pd.concat([pre_gen_dum, pre_gen_sub], axis=1)\n",
    "    pre_gen_dum_con[\"gender\"] = pre_gen_dum_con[\"gender\"].replace(['-unknown-', 'OTHER'], np.nan)\n",
    "\n",
    "    pre_gen_mission = pre_gen_dum_con[pre_gen_dum_con[\"gender\"].isnull()].reset_index()\n",
    "    pre_gen_train = pre_gen_dum_con[pre_gen_dum_con[\"gender\"].notnull()].reset_index()\n",
    "\n",
    "    pre_gen_mission_test = pre_gen_mission.drop(\"index\", axis=1)\n",
    "    pre_gen_train_test = pre_gen_train.drop(\"index\", axis=1)\n",
    "\n",
    "    pre_gen_mission_test_drop = pre_gen_mission_test.drop(['id', 'age', 'country_destination', \"gender\"], axis=1)\n",
    "    pre_gen_train_test_drop = pre_gen_train_test.drop(['id', 'age', 'country_destination', \"gender\"], axis=1)\n",
    "    \n",
    "    return pre_gen_mission_test, pre_gen_train_test, pre_gen_mission, pre_gen_train, \\\n",
    "            pre_gen_mission_test_drop, pre_gen_train_test_drop\n",
    "    \n",
    "pre_gen_mission_test, pre_gen_train_test, pre_gen_mission, pre_gen_train, \\\n",
    "            pre_gen_mission_test_drop, pre_gen_train_test_drop = pre_gen_predict_data()"
   ]
  },
  {
   "cell_type": "code",
   "execution_count": 18,
   "metadata": {
    "scrolled": true
   },
   "outputs": [
    {
     "name": "stderr",
     "output_type": "stream",
     "text": [
      "/home/jk/anaconda3/lib/python3.6/site-packages/sklearn/preprocessing/label.py:151: DeprecationWarning: The truth value of an empty array is ambiguous. Returning False, but in future this will result in an error. Use `array.size > 0` to check that an array is not empty.\n",
      "  if diff:\n"
     ]
    },
    {
     "name": "stdout",
     "output_type": "stream",
     "text": [
      "             precision    recall  f1-score   support\n",
      "\n",
      "     FEMALE       0.58      0.72      0.65     77524\n",
      "       MALE       0.57      0.42      0.48     68209\n",
      "\n",
      "avg / total       0.58      0.58      0.57    145733\n",
      "\n"
     ]
    },
    {
     "name": "stderr",
     "output_type": "stream",
     "text": [
      "/home/jk/anaconda3/lib/python3.6/site-packages/sklearn/preprocessing/label.py:151: DeprecationWarning: The truth value of an empty array is ambiguous. Returning False, but in future this will result in an error. Use `array.size > 0` to check that an array is not empty.\n",
      "  if diff:\n"
     ]
    }
   ],
   "source": [
    "def predict_gen_LightGBM():\n",
    "\n",
    "    X = pre_gen_train_test_drop\n",
    "    y = pre_gen_train_test[\"gender\"]\n",
    "    \n",
    "    model_gen_lgb = lgb.LGBMClassifier(nthread=3)\n",
    "    model_gen_lgb.fit(X,y)\n",
    "\n",
    "    print(classification_report(y, model_gen_lgb.predict(pre_gen_train_test_drop)))\n",
    "    model_gen_lgb = model_gen_lgb.predict(pre_gen_mission_test_drop)\n",
    "    model_gen_lgb = pd.DataFrame(model_gen_lgb)\n",
    "    \n",
    "    return model_gen_lgb\n",
    "\n",
    "model_gen_lgb = predict_gen_LightGBM()"
   ]
  },
  {
   "cell_type": "code",
   "execution_count": 19,
   "metadata": {},
   "outputs": [],
   "source": [
    "model_gen_lgb.to_csv(\"model_gen_lgb.csv\", index=False)"
   ]
  },
  {
   "cell_type": "markdown",
   "metadata": {},
   "source": [
    "---"
   ]
  },
  {
   "cell_type": "code",
   "execution_count": 20,
   "metadata": {},
   "outputs": [
    {
     "name": "stderr",
     "output_type": "stream",
     "text": [
      "/home/jk/anaconda3/lib/python3.6/site-packages/sklearn/preprocessing/label.py:95: DataConversionWarning: A column-vector y was passed when a 1d array was expected. Please change the shape of y to (n_samples, ), for example using ravel().\n",
      "  y = column_or_1d(y, warn=True)\n",
      "/home/jk/anaconda3/lib/python3.6/site-packages/sklearn/preprocessing/label.py:128: DataConversionWarning: A column-vector y was passed when a 1d array was expected. Please change the shape of y to (n_samples, ), for example using ravel().\n",
      "  y = column_or_1d(y, warn=True)\n",
      "/home/jk/anaconda3/lib/python3.6/site-packages/sklearn/preprocessing/label.py:151: DeprecationWarning: The truth value of an empty array is ambiguous. Returning False, but in future this will result in an error. Use `array.size > 0` to check that an array is not empty.\n",
      "  if diff:\n",
      "/home/jk/anaconda3/lib/python3.6/site-packages/sklearn/metrics/classification.py:1135: UndefinedMetricWarning: Precision and F-score are ill-defined and being set to 0.0 in labels with no predicted samples.\n",
      "  'precision', 'predicted', average, warn_for)\n"
     ]
    },
    {
     "name": "stdout",
     "output_type": "stream",
     "text": [
      "             precision    recall  f1-score   support\n",
      "\n",
      "         노년       0.33      0.00      0.00      9993\n",
      "       미성년자       0.00      0.00      0.00        68\n",
      "         장년       0.47      0.36      0.41     55518\n",
      "         중년       0.49      0.80      0.61     70900\n",
      "         청년       0.50      0.02      0.03     22202\n",
      "\n",
      "avg / total       0.47      0.48      0.42    158681\n",
      "\n"
     ]
    },
    {
     "name": "stderr",
     "output_type": "stream",
     "text": [
      "/home/jk/anaconda3/lib/python3.6/site-packages/sklearn/preprocessing/label.py:151: DeprecationWarning: The truth value of an empty array is ambiguous. Returning False, but in future this will result in an error. Use `array.size > 0` to check that an array is not empty.\n",
      "  if diff:\n"
     ]
    }
   ],
   "source": [
    "def predict_age_xgboost():\n",
    "    \n",
    "    X = pre_age_train_test_drop\n",
    "    y = cats\n",
    "    \n",
    "    model_age_xg = XGBClassifier(nthread=3)\n",
    "    model_age_xg.fit(X,y)\n",
    "    \n",
    "    print(classification_report(y, model_age_xg.predict(pre_age_train_test_drop)))\n",
    "    model_age_xg = model_age_xg.predict(pre_age_mission_test_drop)\n",
    "    model_age_xg = pd.DataFrame(model_age_xg)\n",
    "    \n",
    "    return model_age_xg\n",
    "\n",
    "model_age_xg = predict_age_xgboost()"
   ]
  },
  {
   "cell_type": "code",
   "execution_count": 21,
   "metadata": {},
   "outputs": [
    {
     "name": "stderr",
     "output_type": "stream",
     "text": [
      "/home/jk/anaconda3/lib/python3.6/site-packages/ipykernel_launcher.py:7: DataConversionWarning: A column-vector y was passed when a 1d array was expected. Please change the shape of y to (n_samples,), for example using ravel().\n",
      "  import sys\n"
     ]
    },
    {
     "name": "stdout",
     "output_type": "stream",
     "text": [
      "             precision    recall  f1-score   support\n",
      "\n",
      "         노년       0.69      0.72      0.70      9993\n",
      "       미성년자       0.95      0.84      0.89        68\n",
      "         장년       0.74      0.81      0.77     55518\n",
      "         중년       0.76      0.82      0.79     70900\n",
      "         청년       0.87      0.46      0.60     22202\n",
      "\n",
      "avg / total       0.76      0.76      0.75    158681\n",
      "\n"
     ]
    }
   ],
   "source": [
    "def predict_age_ExtraTreesClassifier():\n",
    "    \n",
    "    X = pre_age_train_test_drop\n",
    "    y = cats\n",
    "\n",
    "    model_age_forest = ExtraTreesClassifier(n_estimators=250, random_state=0)\n",
    "    model_age_forest.fit(X, y)\n",
    "\n",
    "    print(classification_report(y, model_age_forest.predict(pre_age_train_test_drop)))\n",
    "    model_age_forest = model_age_forest.predict(pre_age_mission_test_drop)\n",
    "    model_age_forest = pd.DataFrame(model_age_forest)\n",
    "                         \n",
    "    return model_age_forest\n",
    "\n",
    "model_age_forest = predict_age_ExtraTreesClassifier()"
   ]
  },
  {
   "cell_type": "code",
   "execution_count": 22,
   "metadata": {},
   "outputs": [
    {
     "name": "stderr",
     "output_type": "stream",
     "text": [
      "/home/jk/anaconda3/lib/python3.6/site-packages/sklearn/preprocessing/label.py:95: DataConversionWarning: A column-vector y was passed when a 1d array was expected. Please change the shape of y to (n_samples, ), for example using ravel().\n",
      "  y = column_or_1d(y, warn=True)\n",
      "/home/jk/anaconda3/lib/python3.6/site-packages/sklearn/preprocessing/label.py:128: DataConversionWarning: A column-vector y was passed when a 1d array was expected. Please change the shape of y to (n_samples, ), for example using ravel().\n",
      "  y = column_or_1d(y, warn=True)\n",
      "/home/jk/anaconda3/lib/python3.6/site-packages/sklearn/preprocessing/label.py:151: DeprecationWarning: The truth value of an empty array is ambiguous. Returning False, but in future this will result in an error. Use `array.size > 0` to check that an array is not empty.\n",
      "  if diff:\n"
     ]
    },
    {
     "name": "stdout",
     "output_type": "stream",
     "text": [
      "             precision    recall  f1-score   support\n",
      "\n",
      "         노년       0.67      0.00      0.01      9993\n",
      "       미성년자       0.90      0.65      0.75        68\n",
      "         장년       0.48      0.38      0.43     55518\n",
      "         중년       0.50      0.79      0.61     70900\n",
      "         청년       0.55      0.04      0.08     22202\n",
      "\n",
      "avg / total       0.51      0.49      0.43    158681\n",
      "\n"
     ]
    },
    {
     "name": "stderr",
     "output_type": "stream",
     "text": [
      "/home/jk/anaconda3/lib/python3.6/site-packages/sklearn/preprocessing/label.py:151: DeprecationWarning: The truth value of an empty array is ambiguous. Returning False, but in future this will result in an error. Use `array.size > 0` to check that an array is not empty.\n",
      "  if diff:\n"
     ]
    }
   ],
   "source": [
    "def predict_age_LightGBM():\n",
    "\n",
    "    X = pre_age_train_test_drop\n",
    "    y = cats\n",
    "    \n",
    "    model_age_lgb = lgb.LGBMClassifier(nthread=3)\n",
    "    model_age_lgb.fit(X,y)\n",
    "\n",
    "    print(classification_report(y, model_age_lgb.predict(pre_age_train_test_drop)))\n",
    "    model_age_lgb = model_age_lgb.predict(pre_age_mission_test_drop)\n",
    "    model_age_lgb = pd.DataFrame(model_age_lgb)\n",
    "    \n",
    "    return model_age_lgb\n",
    "\n",
    "model_age_lgb = predict_age_LightGBM()"
   ]
  },
  {
   "cell_type": "markdown",
   "metadata": {},
   "source": [
    "---"
   ]
  },
  {
   "cell_type": "code",
   "execution_count": 23,
   "metadata": {},
   "outputs": [],
   "source": [
    "model_age_xg.to_csv(\"model_age_xg.csv\", index=False)\n",
    "model_age_forest.to_csv(\"model_age_forest.csv\", index=False)\n",
    "model_age_lgb.to_csv(\"model_age_lgb.csv\", index=False)"
   ]
  },
  {
   "cell_type": "markdown",
   "metadata": {},
   "source": [
    "---"
   ]
  },
  {
   "cell_type": "code",
   "execution_count": 24,
   "metadata": {
    "scrolled": false
   },
   "outputs": [
    {
     "name": "stderr",
     "output_type": "stream",
     "text": [
      "/home/jk/anaconda3/lib/python3.6/site-packages/sklearn/preprocessing/label.py:95: DataConversionWarning: A column-vector y was passed when a 1d array was expected. Please change the shape of y to (n_samples, ), for example using ravel().\n",
      "  y = column_or_1d(y, warn=True)\n",
      "/home/jk/anaconda3/lib/python3.6/site-packages/sklearn/preprocessing/label.py:128: DataConversionWarning: A column-vector y was passed when a 1d array was expected. Please change the shape of y to (n_samples, ), for example using ravel().\n",
      "  y = column_or_1d(y, warn=True)\n",
      "/home/jk/anaconda3/lib/python3.6/site-packages/sklearn/preprocessing/label.py:151: DeprecationWarning: The truth value of an empty array is ambiguous. Returning False, but in future this will result in an error. Use `array.size > 0` to check that an array is not empty.\n",
      "  if diff:\n"
     ]
    },
    {
     "name": "stdout",
     "output_type": "stream",
     "text": [
      "             precision    recall  f1-score   support\n",
      "\n",
      "         노년       0.67      0.00      0.01      9993\n",
      "       미성년자       0.90      0.65      0.75        68\n",
      "         장년       0.48      0.38      0.43     55518\n",
      "         중년       0.50      0.79      0.61     70900\n",
      "         청년       0.55      0.04      0.08     22202\n",
      "\n",
      "avg / total       0.51      0.49      0.43    158681\n",
      "\n"
     ]
    },
    {
     "name": "stderr",
     "output_type": "stream",
     "text": [
      "/home/jk/anaconda3/lib/python3.6/site-packages/sklearn/preprocessing/label.py:151: DeprecationWarning: The truth value of an empty array is ambiguous. Returning False, but in future this will result in an error. Use `array.size > 0` to check that an array is not empty.\n",
      "  if diff:\n"
     ]
    }
   ],
   "source": [
    "def predict_age_LightGBM():\n",
    "\n",
    "    X = pre_age_train_test_drop\n",
    "    y = cats\n",
    "    \n",
    "    model_age_lgb = lgb.LGBMClassifier(nthread=3)\n",
    "    model_age_lgb.fit(X,y)\n",
    "\n",
    "    print(classification_report(y, model_age_lgb.predict(pre_age_train_test_drop)))\n",
    "    model_age_lgb = model_age_lgb.predict(pre_age_mission_test_drop)\n",
    "    model_age_lgb = pd.DataFrame(model_age_lgb)\n",
    "    \n",
    "    return model_age_lgb\n",
    "\n",
    "model_age_lgb = predict_age_LightGBM()"
   ]
  },
  {
   "cell_type": "code",
   "execution_count": 25,
   "metadata": {},
   "outputs": [],
   "source": [
    "model_age_lgb.to_csv(\"model_age_lgb.csv\", index=False)"
   ]
  },
  {
   "cell_type": "code",
   "execution_count": 26,
   "metadata": {
    "scrolled": true
   },
   "outputs": [
    {
     "name": "stderr",
     "output_type": "stream",
     "text": [
      "/home/jk/anaconda3/lib/python3.6/site-packages/sklearn/preprocessing/label.py:151: DeprecationWarning: The truth value of an empty array is ambiguous. Returning False, but in future this will result in an error. Use `array.size > 0` to check that an array is not empty.\n",
      "  if diff:\n"
     ]
    },
    {
     "name": "stdout",
     "output_type": "stream",
     "text": [
      "             precision    recall  f1-score   support\n",
      "\n",
      "       age1       0.33      0.61      0.43     36477\n",
      "       age2       0.28      0.09      0.14     30586\n",
      "       age3       0.28      0.18      0.22     31139\n",
      "       age4       0.30      0.12      0.17     29102\n",
      "       age5       0.33      0.52      0.40     31377\n",
      "\n",
      "avg / total       0.30      0.32      0.28    158681\n",
      "\n"
     ]
    },
    {
     "name": "stderr",
     "output_type": "stream",
     "text": [
      "/home/jk/anaconda3/lib/python3.6/site-packages/sklearn/preprocessing/label.py:151: DeprecationWarning: The truth value of an empty array is ambiguous. Returning False, but in future this will result in an error. Use `array.size > 0` to check that an array is not empty.\n",
      "  if diff:\n"
     ]
    }
   ],
   "source": [
    "def predict_age_LightGBM():\n",
    "\n",
    "    X = pre_age_train_test_drop\n",
    "    y = cats_q\n",
    "    \n",
    "    model_age_lgb = lgb.LGBMClassifier(nthread=3)\n",
    "    model_age_lgb.fit(X,y)\n",
    "\n",
    "    print(classification_report(y, model_age_lgb.predict(pre_age_train_test_drop)))\n",
    "    model_age_lgb = model_age_lgb.predict(pre_age_mission_test_drop)\n",
    "    model_age_lgb = pd.DataFrame(model_age_lgb)\n",
    "    \n",
    "    return model_age_lgb\n",
    "\n",
    "model_age_lgb = predict_age_LightGBM()"
   ]
  },
  {
   "cell_type": "code",
   "execution_count": 27,
   "metadata": {},
   "outputs": [],
   "source": [
    "model_age_lgb.to_csv(\"model_age_lgb.csv\", index=False)"
   ]
  },
  {
   "cell_type": "markdown",
   "metadata": {},
   "source": [
    "---"
   ]
  },
  {
   "cell_type": "code",
   "execution_count": null,
   "metadata": {},
   "outputs": [],
   "source": []
  }
 ],
 "metadata": {
  "kernelspec": {
   "display_name": "Python 3",
   "language": "python",
   "name": "python3"
  },
  "language_info": {
   "codemirror_mode": {
    "name": "ipython",
    "version": 3
   },
   "file_extension": ".py",
   "mimetype": "text/x-python",
   "name": "python",
   "nbconvert_exporter": "python",
   "pygments_lexer": "ipython3",
   "version": "3.6.3"
  }
 },
 "nbformat": 4,
 "nbformat_minor": 2
}
